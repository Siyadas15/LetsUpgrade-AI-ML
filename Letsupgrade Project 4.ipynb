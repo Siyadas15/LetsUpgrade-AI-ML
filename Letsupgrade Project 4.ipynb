{
 "cells": [
  {
   "cell_type": "code",
   "execution_count": 13,
   "metadata": {},
   "outputs": [
    {
     "name": "stdout",
     "output_type": "stream",
     "text": [
      "Requirement already satisfied: openpyxl in c:\\python36\\lib\\site-packages (3.0.4)\n",
      "Requirement already satisfied: et-xmlfile in c:\\python36\\lib\\site-packages (from openpyxl) (1.0.1)\n",
      "Requirement already satisfied: jdcal in c:\\python36\\lib\\site-packages (from openpyxl) (1.4.1)\n",
      "Note: you may need to restart the kernel to use updated packages.\n"
     ]
    },
    {
     "name": "stderr",
     "output_type": "stream",
     "text": [
      "WARNING: You are using pip version 20.2.2; however, version 20.2.4 is available.\n",
      "You should consider upgrading via the 'c:\\python36\\python.exe -m pip install --upgrade pip' command.\n"
     ]
    }
   ],
   "source": [
    "pip install openpyxl"
   ]
  },
  {
   "cell_type": "code",
   "execution_count": 2,
   "metadata": {},
   "outputs": [
    {
     "name": "stdout",
     "output_type": "stream",
     "text": [
      "Collecting tweepyNote: you may need to restart the kernel to use updated packages.\n",
      "  Downloading tweepy-3.9.0-py2.py3-none-any.whl (30 kB)\n",
      "Requirement already satisfied: requests[socks]>=2.11.1 in c:\\python36\\lib\\site-packages (from tweepy) (2.24.0)\n",
      "Requirement already satisfied: requests-oauthlib>=0.7.0 in c:\\python36\\lib\\site-packages (from tweepy) (1.3.0)\n",
      "Requirement already satisfied: six>=1.10.0 in c:\\python36\\lib\\site-packages (from tweepy) (1.15.0)\n",
      "Requirement already satisfied: chardet<4,>=3.0.2 in c:\\python36\\lib\\site-packages (from requests[socks]>=2.11.1->tweepy) (3.0.4)\n",
      "Requirement already satisfied: idna<3,>=2.5 in c:\\python36\\lib\\site-packages (from requests[socks]>=2.11.1->tweepy) (2.10)\n",
      "Requirement already satisfied: certifi>=2017.4.17 in c:\\python36\\lib\\site-packages (from requests[socks]>=2.11.1->tweepy) (2020.6.20)\n",
      "Requirement already satisfied: urllib3!=1.25.0,!=1.25.1,<1.26,>=1.21.1 in c:\\python36\\lib\\site-packages (from requests[socks]>=2.11.1->tweepy) (1.25.10)\n",
      "Collecting PySocks!=1.5.7,>=1.5.6; extra == \"socks\"\n",
      "  Downloading PySocks-1.7.1-py3-none-any.whl (16 kB)\n",
      "Requirement already satisfied: oauthlib>=3.0.0 in c:\\python36\\lib\\site-packages (from requests-oauthlib>=0.7.0->tweepy) (3.1.0)\n",
      "Installing collected packages: tweepy, PySocks\n",
      "Successfully installed PySocks-1.7.1 tweepy-3.9.0\n",
      "\n"
     ]
    },
    {
     "name": "stderr",
     "output_type": "stream",
     "text": [
      "WARNING: You are using pip version 20.2.2; however, version 20.2.4 is available.\n",
      "You should consider upgrading via the 'c:\\python36\\python.exe -m pip install --upgrade pip' command.\n"
     ]
    }
   ],
   "source": [
    "pip install tweepy"
   ]
  },
  {
   "cell_type": "code",
   "execution_count": 3,
   "metadata": {},
   "outputs": [],
   "source": [
    "import numpy as np\n",
    "import pandas as pd\n",
    "import tweepy\n",
    "import json\n",
    "from tweepy import OAuthHandler"
   ]
  },
  {
   "cell_type": "code",
   "execution_count": 4,
   "metadata": {},
   "outputs": [],
   "source": [
    "consumer_key = \"LzsCOl12ZZ79FObx7BV9a1R3a\"\n",
    "consumer_secret = \"gODxZ1kHJHDGgYfyP12AUN37UTlDd6yn3OsSV9Tl0iwu0K0cRY\"\n",
    "access_token = \"296102538-kYIK8SULCmRK4vgvYD2DhKbwvSXrgTdTkWh0Nvsp\"\n",
    "access_token_secret = \"Ib9obwgcE5tZk4S6tY5rAqI5iXOeJc9FGFg28qHoa4YpP\""
   ]
  },
  {
   "cell_type": "code",
   "execution_count": 5,
   "metadata": {},
   "outputs": [],
   "source": [
    "auth = tweepy.OAuthHandler( consumer_key , consumer_secret )\n",
    "auth.set_access_token( access_token , access_token_secret )\n",
    "api = tweepy.API(auth)"
   ]
  },
  {
   "cell_type": "code",
   "execution_count": 6,
   "metadata": {},
   "outputs": [],
   "source": [
    "query = \"RCB winning IPL\""
   ]
  },
  {
   "cell_type": "code",
   "execution_count": 7,
   "metadata": {},
   "outputs": [
    {
     "name": "stdout",
     "output_type": "stream",
     "text": [
      "Status(_api=<tweepy.api.API object at 0x0000025E8D14BEF0>, _json={'created_at': 'Wed Nov 18 18:40:53 +0000 2020', 'id': 1329132486673137665, 'id_str': '1329132486673137665', 'full_text': '@RCBTweets @ABdeVilliers17 Except winning IPL title for RCB', 'truncated': False, 'display_text_range': [27, 59], 'entities': {'hashtags': [], 'symbols': [], 'user_mentions': [{'screen_name': 'RCBTweets', 'name': 'Royal Challengers Bangalore', 'id': 70931004, 'id_str': '70931004', 'indices': [0, 10]}, {'screen_name': 'ABdeVilliers17', 'name': 'AB de Villiers', 'id': 139876086, 'id_str': '139876086', 'indices': [11, 26]}], 'urls': []}, 'metadata': {'iso_language_code': 'en', 'result_type': 'recent'}, 'source': '<a href=\"http://twitter.com/download/android\" rel=\"nofollow\">Twitter for Android</a>', 'in_reply_to_status_id': 1328943535786176512, 'in_reply_to_status_id_str': '1328943535786176512', 'in_reply_to_user_id': 70931004, 'in_reply_to_user_id_str': '70931004', 'in_reply_to_screen_name': 'RCBTweets', 'user': {'id': 1327104839759712261, 'id_str': '1327104839759712261', 'name': 'Ladaku Viman', 'screen_name': 'SeedheJakeUTurn', 'location': 'US @ A', 'description': 'aam admi.. lekin delhi wala nhi', 'url': None, 'entities': {'description': {'urls': []}}, 'protected': False, 'followers_count': 0, 'friends_count': 94, 'listed_count': 0, 'created_at': 'Fri Nov 13 04:24:16 +0000 2020', 'favourites_count': 0, 'utc_offset': None, 'time_zone': None, 'geo_enabled': False, 'verified': False, 'statuses_count': 5, 'lang': None, 'contributors_enabled': False, 'is_translator': False, 'is_translation_enabled': False, 'profile_background_color': 'F5F8FA', 'profile_background_image_url': None, 'profile_background_image_url_https': None, 'profile_background_tile': False, 'profile_image_url': 'http://pbs.twimg.com/profile_images/1328288920895799297/-knT6Sab_normal.jpg', 'profile_image_url_https': 'https://pbs.twimg.com/profile_images/1328288920895799297/-knT6Sab_normal.jpg', 'profile_link_color': '1DA1F2', 'profile_sidebar_border_color': 'C0DEED', 'profile_sidebar_fill_color': 'DDEEF6', 'profile_text_color': '333333', 'profile_use_background_image': True, 'has_extended_profile': True, 'default_profile': True, 'default_profile_image': False, 'following': False, 'follow_request_sent': False, 'notifications': False, 'translator_type': 'none'}, 'geo': None, 'coordinates': None, 'place': None, 'contributors': None, 'is_quote_status': False, 'retweet_count': 0, 'favorite_count': 0, 'favorited': False, 'retweeted': False, 'lang': 'en'}, created_at=datetime.datetime(2020, 11, 18, 18, 40, 53), id=1329132486673137665, id_str='1329132486673137665', full_text='@RCBTweets @ABdeVilliers17 Except winning IPL title for RCB', truncated=False, display_text_range=[27, 59], entities={'hashtags': [], 'symbols': [], 'user_mentions': [{'screen_name': 'RCBTweets', 'name': 'Royal Challengers Bangalore', 'id': 70931004, 'id_str': '70931004', 'indices': [0, 10]}, {'screen_name': 'ABdeVilliers17', 'name': 'AB de Villiers', 'id': 139876086, 'id_str': '139876086', 'indices': [11, 26]}], 'urls': []}, metadata={'iso_language_code': 'en', 'result_type': 'recent'}, source='Twitter for Android', source_url='http://twitter.com/download/android', in_reply_to_status_id=1328943535786176512, in_reply_to_status_id_str='1328943535786176512', in_reply_to_user_id=70931004, in_reply_to_user_id_str='70931004', in_reply_to_screen_name='RCBTweets', author=User(_api=<tweepy.api.API object at 0x0000025E8D14BEF0>, _json={'id': 1327104839759712261, 'id_str': '1327104839759712261', 'name': 'Ladaku Viman', 'screen_name': 'SeedheJakeUTurn', 'location': 'US @ A', 'description': 'aam admi.. lekin delhi wala nhi', 'url': None, 'entities': {'description': {'urls': []}}, 'protected': False, 'followers_count': 0, 'friends_count': 94, 'listed_count': 0, 'created_at': 'Fri Nov 13 04:24:16 +0000 2020', 'favourites_count': 0, 'utc_offset': None, 'time_zone': None, 'geo_enabled': False, 'verified': False, 'statuses_count': 5, 'lang': None, 'contributors_enabled': False, 'is_translator': False, 'is_translation_enabled': False, 'profile_background_color': 'F5F8FA', 'profile_background_image_url': None, 'profile_background_image_url_https': None, 'profile_background_tile': False, 'profile_image_url': 'http://pbs.twimg.com/profile_images/1328288920895799297/-knT6Sab_normal.jpg', 'profile_image_url_https': 'https://pbs.twimg.com/profile_images/1328288920895799297/-knT6Sab_normal.jpg', 'profile_link_color': '1DA1F2', 'profile_sidebar_border_color': 'C0DEED', 'profile_sidebar_fill_color': 'DDEEF6', 'profile_text_color': '333333', 'profile_use_background_image': True, 'has_extended_profile': True, 'default_profile': True, 'default_profile_image': False, 'following': False, 'follow_request_sent': False, 'notifications': False, 'translator_type': 'none'}, id=1327104839759712261, id_str='1327104839759712261', name='Ladaku Viman', screen_name='SeedheJakeUTurn', location='US @ A', description='aam admi.. lekin delhi wala nhi', url=None, entities={'description': {'urls': []}}, protected=False, followers_count=0, friends_count=94, listed_count=0, created_at=datetime.datetime(2020, 11, 13, 4, 24, 16), favourites_count=0, utc_offset=None, time_zone=None, geo_enabled=False, verified=False, statuses_count=5, lang=None, contributors_enabled=False, is_translator=False, is_translation_enabled=False, profile_background_color='F5F8FA', profile_background_image_url=None, profile_background_image_url_https=None, profile_background_tile=False, profile_image_url='http://pbs.twimg.com/profile_images/1328288920895799297/-knT6Sab_normal.jpg', profile_image_url_https='https://pbs.twimg.com/profile_images/1328288920895799297/-knT6Sab_normal.jpg', profile_link_color='1DA1F2', profile_sidebar_border_color='C0DEED', profile_sidebar_fill_color='DDEEF6', profile_text_color='333333', profile_use_background_image=True, has_extended_profile=True, default_profile=True, default_profile_image=False, following=False, follow_request_sent=False, notifications=False, translator_type='none'), user=User(_api=<tweepy.api.API object at 0x0000025E8D14BEF0>, _json={'id': 1327104839759712261, 'id_str': '1327104839759712261', 'name': 'Ladaku Viman', 'screen_name': 'SeedheJakeUTurn', 'location': 'US @ A', 'description': 'aam admi.. lekin delhi wala nhi', 'url': None, 'entities': {'description': {'urls': []}}, 'protected': False, 'followers_count': 0, 'friends_count': 94, 'listed_count': 0, 'created_at': 'Fri Nov 13 04:24:16 +0000 2020', 'favourites_count': 0, 'utc_offset': None, 'time_zone': None, 'geo_enabled': False, 'verified': False, 'statuses_count': 5, 'lang': None, 'contributors_enabled': False, 'is_translator': False, 'is_translation_enabled': False, 'profile_background_color': 'F5F8FA', 'profile_background_image_url': None, 'profile_background_image_url_https': None, 'profile_background_tile': False, 'profile_image_url': 'http://pbs.twimg.com/profile_images/1328288920895799297/-knT6Sab_normal.jpg', 'profile_image_url_https': 'https://pbs.twimg.com/profile_images/1328288920895799297/-knT6Sab_normal.jpg', 'profile_link_color': '1DA1F2', 'profile_sidebar_border_color': 'C0DEED', 'profile_sidebar_fill_color': 'DDEEF6', 'profile_text_color': '333333', 'profile_use_background_image': True, 'has_extended_profile': True, 'default_profile': True, 'default_profile_image': False, 'following': False, 'follow_request_sent': False, 'notifications': False, 'translator_type': 'none'}, id=1327104839759712261, id_str='1327104839759712261', name='Ladaku Viman', screen_name='SeedheJakeUTurn', location='US @ A', description='aam admi.. lekin delhi wala nhi', url=None, entities={'description': {'urls': []}}, protected=False, followers_count=0, friends_count=94, listed_count=0, created_at=datetime.datetime(2020, 11, 13, 4, 24, 16), favourites_count=0, utc_offset=None, time_zone=None, geo_enabled=False, verified=False, statuses_count=5, lang=None, contributors_enabled=False, is_translator=False, is_translation_enabled=False, profile_background_color='F5F8FA', profile_background_image_url=None, profile_background_image_url_https=None, profile_background_tile=False, profile_image_url='http://pbs.twimg.com/profile_images/1328288920895799297/-knT6Sab_normal.jpg', profile_image_url_https='https://pbs.twimg.com/profile_images/1328288920895799297/-knT6Sab_normal.jpg', profile_link_color='1DA1F2', profile_sidebar_border_color='C0DEED', profile_sidebar_fill_color='DDEEF6', profile_text_color='333333', profile_use_background_image=True, has_extended_profile=True, default_profile=True, default_profile_image=False, following=False, follow_request_sent=False, notifications=False, translator_type='none'), geo=None, coordinates=None, place=None, contributors=None, is_quote_status=False, retweet_count=0, favorite_count=0, favorited=False, retweeted=False, lang='en') \n",
      "\n",
      ".....................................\n",
      "\n",
      "Status(_api=<tweepy.api.API object at 0x0000025E8D14BEF0>, _json={'created_at': 'Wed Nov 18 16:40:02 +0000 2020', 'id': 1329102074118774784, 'id_str': '1329102074118774784', 'full_text': \"@iamShivakumar18 @mipaltan @ABdeVilliers17 We all know your rcb won't win ipl trophy lifetime,so better now you changed jercy atleast you feel the winning moments 😂 https://t.co/npGVowSEsQ\", 'truncated': False, 'display_text_range': [43, 164], 'entities': {'hashtags': [], 'symbols': [], 'user_mentions': [{'screen_name': 'iamShivakumar18', 'name': 'Shivukumar', 'id': 1275719626039660546, 'id_str': '1275719626039660546', 'indices': [0, 16]}, {'screen_name': 'mipaltan', 'name': 'Mumbai Indians', 'id': 106345557, 'id_str': '106345557', 'indices': [17, 26]}, {'screen_name': 'ABdeVilliers17', 'name': 'AB de Villiers', 'id': 139876086, 'id_str': '139876086', 'indices': [27, 42]}], 'urls': [], 'media': [{'id': 1329101262105714688, 'id_str': '1329101262105714688', 'indices': [165, 188], 'media_url': 'http://pbs.twimg.com/media/EnHqjlZVoAAAeYi.jpg', 'media_url_https': 'https://pbs.twimg.com/media/EnHqjlZVoAAAeYi.jpg', 'url': 'https://t.co/npGVowSEsQ', 'display_url': 'pic.twitter.com/npGVowSEsQ', 'expanded_url': 'https://twitter.com/NikhilChavanPa5/status/1329102074118774784/photo/1', 'type': 'photo', 'sizes': {'small': {'w': 540, 'h': 540, 'resize': 'fit'}, 'thumb': {'w': 150, 'h': 150, 'resize': 'crop'}, 'medium': {'w': 540, 'h': 540, 'resize': 'fit'}, 'large': {'w': 540, 'h': 540, 'resize': 'fit'}}}]}, 'extended_entities': {'media': [{'id': 1329101262105714688, 'id_str': '1329101262105714688', 'indices': [165, 188], 'media_url': 'http://pbs.twimg.com/media/EnHqjlZVoAAAeYi.jpg', 'media_url_https': 'https://pbs.twimg.com/media/EnHqjlZVoAAAeYi.jpg', 'url': 'https://t.co/npGVowSEsQ', 'display_url': 'pic.twitter.com/npGVowSEsQ', 'expanded_url': 'https://twitter.com/NikhilChavanPa5/status/1329102074118774784/photo/1', 'type': 'photo', 'sizes': {'small': {'w': 540, 'h': 540, 'resize': 'fit'}, 'thumb': {'w': 150, 'h': 150, 'resize': 'crop'}, 'medium': {'w': 540, 'h': 540, 'resize': 'fit'}, 'large': {'w': 540, 'h': 540, 'resize': 'fit'}}}]}, 'metadata': {'iso_language_code': 'en', 'result_type': 'recent'}, 'source': '<a href=\"https://mobile.twitter.com\" rel=\"nofollow\">Twitter Web App</a>', 'in_reply_to_status_id': 1329024619341180928, 'in_reply_to_status_id_str': '1329024619341180928', 'in_reply_to_user_id': 1275719626039660546, 'in_reply_to_user_id_str': '1275719626039660546', 'in_reply_to_screen_name': 'iamShivakumar18', 'user': {'id': 1160505314405306368, 'id_str': '1160505314405306368', 'name': 'Nikhil Chavan Patil', 'screen_name': 'NikhilChavanPa5', 'location': '', 'description': '', 'url': None, 'entities': {'description': {'urls': []}}, 'protected': False, 'followers_count': 2, 'friends_count': 100, 'listed_count': 0, 'created_at': 'Sun Aug 11 10:56:42 +0000 2019', 'favourites_count': 760, 'utc_offset': None, 'time_zone': None, 'geo_enabled': False, 'verified': False, 'statuses_count': 522, 'lang': None, 'contributors_enabled': False, 'is_translator': False, 'is_translation_enabled': False, 'profile_background_color': 'F5F8FA', 'profile_background_image_url': None, 'profile_background_image_url_https': None, 'profile_background_tile': False, 'profile_image_url': 'http://pbs.twimg.com/profile_images/1160515448770715648/0JkjaZXF_normal.jpg', 'profile_image_url_https': 'https://pbs.twimg.com/profile_images/1160515448770715648/0JkjaZXF_normal.jpg', 'profile_banner_url': 'https://pbs.twimg.com/profile_banners/1160505314405306368/1565523426', 'profile_link_color': '1DA1F2', 'profile_sidebar_border_color': 'C0DEED', 'profile_sidebar_fill_color': 'DDEEF6', 'profile_text_color': '333333', 'profile_use_background_image': True, 'has_extended_profile': False, 'default_profile': True, 'default_profile_image': False, 'following': False, 'follow_request_sent': False, 'notifications': False, 'translator_type': 'none'}, 'geo': None, 'coordinates': None, 'place': None, 'contributors': None, 'is_quote_status': False, 'retweet_count': 0, 'favorite_count': 0, 'favorited': False, 'retweeted': False, 'possibly_sensitive': False, 'lang': 'en'}, created_at=datetime.datetime(2020, 11, 18, 16, 40, 2), id=1329102074118774784, id_str='1329102074118774784', full_text=\"@iamShivakumar18 @mipaltan @ABdeVilliers17 We all know your rcb won't win ipl trophy lifetime,so better now you changed jercy atleast you feel the winning moments 😂 https://t.co/npGVowSEsQ\", truncated=False, display_text_range=[43, 164], entities={'hashtags': [], 'symbols': [], 'user_mentions': [{'screen_name': 'iamShivakumar18', 'name': 'Shivukumar', 'id': 1275719626039660546, 'id_str': '1275719626039660546', 'indices': [0, 16]}, {'screen_name': 'mipaltan', 'name': 'Mumbai Indians', 'id': 106345557, 'id_str': '106345557', 'indices': [17, 26]}, {'screen_name': 'ABdeVilliers17', 'name': 'AB de Villiers', 'id': 139876086, 'id_str': '139876086', 'indices': [27, 42]}], 'urls': [], 'media': [{'id': 1329101262105714688, 'id_str': '1329101262105714688', 'indices': [165, 188], 'media_url': 'http://pbs.twimg.com/media/EnHqjlZVoAAAeYi.jpg', 'media_url_https': 'https://pbs.twimg.com/media/EnHqjlZVoAAAeYi.jpg', 'url': 'https://t.co/npGVowSEsQ', 'display_url': 'pic.twitter.com/npGVowSEsQ', 'expanded_url': 'https://twitter.com/NikhilChavanPa5/status/1329102074118774784/photo/1', 'type': 'photo', 'sizes': {'small': {'w': 540, 'h': 540, 'resize': 'fit'}, 'thumb': {'w': 150, 'h': 150, 'resize': 'crop'}, 'medium': {'w': 540, 'h': 540, 'resize': 'fit'}, 'large': {'w': 540, 'h': 540, 'resize': 'fit'}}}]}, extended_entities={'media': [{'id': 1329101262105714688, 'id_str': '1329101262105714688', 'indices': [165, 188], 'media_url': 'http://pbs.twimg.com/media/EnHqjlZVoAAAeYi.jpg', 'media_url_https': 'https://pbs.twimg.com/media/EnHqjlZVoAAAeYi.jpg', 'url': 'https://t.co/npGVowSEsQ', 'display_url': 'pic.twitter.com/npGVowSEsQ', 'expanded_url': 'https://twitter.com/NikhilChavanPa5/status/1329102074118774784/photo/1', 'type': 'photo', 'sizes': {'small': {'w': 540, 'h': 540, 'resize': 'fit'}, 'thumb': {'w': 150, 'h': 150, 'resize': 'crop'}, 'medium': {'w': 540, 'h': 540, 'resize': 'fit'}, 'large': {'w': 540, 'h': 540, 'resize': 'fit'}}}]}, metadata={'iso_language_code': 'en', 'result_type': 'recent'}, source='Twitter Web App', source_url='https://mobile.twitter.com', in_reply_to_status_id=1329024619341180928, in_reply_to_status_id_str='1329024619341180928', in_reply_to_user_id=1275719626039660546, in_reply_to_user_id_str='1275719626039660546', in_reply_to_screen_name='iamShivakumar18', author=User(_api=<tweepy.api.API object at 0x0000025E8D14BEF0>, _json={'id': 1160505314405306368, 'id_str': '1160505314405306368', 'name': 'Nikhil Chavan Patil', 'screen_name': 'NikhilChavanPa5', 'location': '', 'description': '', 'url': None, 'entities': {'description': {'urls': []}}, 'protected': False, 'followers_count': 2, 'friends_count': 100, 'listed_count': 0, 'created_at': 'Sun Aug 11 10:56:42 +0000 2019', 'favourites_count': 760, 'utc_offset': None, 'time_zone': None, 'geo_enabled': False, 'verified': False, 'statuses_count': 522, 'lang': None, 'contributors_enabled': False, 'is_translator': False, 'is_translation_enabled': False, 'profile_background_color': 'F5F8FA', 'profile_background_image_url': None, 'profile_background_image_url_https': None, 'profile_background_tile': False, 'profile_image_url': 'http://pbs.twimg.com/profile_images/1160515448770715648/0JkjaZXF_normal.jpg', 'profile_image_url_https': 'https://pbs.twimg.com/profile_images/1160515448770715648/0JkjaZXF_normal.jpg', 'profile_banner_url': 'https://pbs.twimg.com/profile_banners/1160505314405306368/1565523426', 'profile_link_color': '1DA1F2', 'profile_sidebar_border_color': 'C0DEED', 'profile_sidebar_fill_color': 'DDEEF6', 'profile_text_color': '333333', 'profile_use_background_image': True, 'has_extended_profile': False, 'default_profile': True, 'default_profile_image': False, 'following': False, 'follow_request_sent': False, 'notifications': False, 'translator_type': 'none'}, id=1160505314405306368, id_str='1160505314405306368', name='Nikhil Chavan Patil', screen_name='NikhilChavanPa5', location='', description='', url=None, entities={'description': {'urls': []}}, protected=False, followers_count=2, friends_count=100, listed_count=0, created_at=datetime.datetime(2019, 8, 11, 10, 56, 42), favourites_count=760, utc_offset=None, time_zone=None, geo_enabled=False, verified=False, statuses_count=522, lang=None, contributors_enabled=False, is_translator=False, is_translation_enabled=False, profile_background_color='F5F8FA', profile_background_image_url=None, profile_background_image_url_https=None, profile_background_tile=False, profile_image_url='http://pbs.twimg.com/profile_images/1160515448770715648/0JkjaZXF_normal.jpg', profile_image_url_https='https://pbs.twimg.com/profile_images/1160515448770715648/0JkjaZXF_normal.jpg', profile_banner_url='https://pbs.twimg.com/profile_banners/1160505314405306368/1565523426', profile_link_color='1DA1F2', profile_sidebar_border_color='C0DEED', profile_sidebar_fill_color='DDEEF6', profile_text_color='333333', profile_use_background_image=True, has_extended_profile=False, default_profile=True, default_profile_image=False, following=False, follow_request_sent=False, notifications=False, translator_type='none'), user=User(_api=<tweepy.api.API object at 0x0000025E8D14BEF0>, _json={'id': 1160505314405306368, 'id_str': '1160505314405306368', 'name': 'Nikhil Chavan Patil', 'screen_name': 'NikhilChavanPa5', 'location': '', 'description': '', 'url': None, 'entities': {'description': {'urls': []}}, 'protected': False, 'followers_count': 2, 'friends_count': 100, 'listed_count': 0, 'created_at': 'Sun Aug 11 10:56:42 +0000 2019', 'favourites_count': 760, 'utc_offset': None, 'time_zone': None, 'geo_enabled': False, 'verified': False, 'statuses_count': 522, 'lang': None, 'contributors_enabled': False, 'is_translator': False, 'is_translation_enabled': False, 'profile_background_color': 'F5F8FA', 'profile_background_image_url': None, 'profile_background_image_url_https': None, 'profile_background_tile': False, 'profile_image_url': 'http://pbs.twimg.com/profile_images/1160515448770715648/0JkjaZXF_normal.jpg', 'profile_image_url_https': 'https://pbs.twimg.com/profile_images/1160515448770715648/0JkjaZXF_normal.jpg', 'profile_banner_url': 'https://pbs.twimg.com/profile_banners/1160505314405306368/1565523426', 'profile_link_color': '1DA1F2', 'profile_sidebar_border_color': 'C0DEED', 'profile_sidebar_fill_color': 'DDEEF6', 'profile_text_color': '333333', 'profile_use_background_image': True, 'has_extended_profile': False, 'default_profile': True, 'default_profile_image': False, 'following': False, 'follow_request_sent': False, 'notifications': False, 'translator_type': 'none'}, id=1160505314405306368, id_str='1160505314405306368', name='Nikhil Chavan Patil', screen_name='NikhilChavanPa5', location='', description='', url=None, entities={'description': {'urls': []}}, protected=False, followers_count=2, friends_count=100, listed_count=0, created_at=datetime.datetime(2019, 8, 11, 10, 56, 42), favourites_count=760, utc_offset=None, time_zone=None, geo_enabled=False, verified=False, statuses_count=522, lang=None, contributors_enabled=False, is_translator=False, is_translation_enabled=False, profile_background_color='F5F8FA', profile_background_image_url=None, profile_background_image_url_https=None, profile_background_tile=False, profile_image_url='http://pbs.twimg.com/profile_images/1160515448770715648/0JkjaZXF_normal.jpg', profile_image_url_https='https://pbs.twimg.com/profile_images/1160515448770715648/0JkjaZXF_normal.jpg', profile_banner_url='https://pbs.twimg.com/profile_banners/1160505314405306368/1565523426', profile_link_color='1DA1F2', profile_sidebar_border_color='C0DEED', profile_sidebar_fill_color='DDEEF6', profile_text_color='333333', profile_use_background_image=True, has_extended_profile=False, default_profile=True, default_profile_image=False, following=False, follow_request_sent=False, notifications=False, translator_type='none'), geo=None, coordinates=None, place=None, contributors=None, is_quote_status=False, retweet_count=0, favorite_count=0, favorited=False, retweeted=False, possibly_sensitive=False, lang='en') \n",
      "\n",
      ".....................................\n",
      "\n",
      "Status(_api=<tweepy.api.API object at 0x0000025E8D14BEF0>, _json={'created_at': 'Wed Nov 18 14:07:17 +0000 2020', 'id': 1329063633926586373, 'id_str': '1329063633926586373', 'full_text': \"RCB is so environment friendly that it isn’t winning IPL so as to avoid bursting of crackers. I guess RCB will never win @IPL in any future year or else people in Bangalore will be forced to burst crackers and hence cause's pollution😷.  We Indian's are proud of you @RCBTweets 🙏 https://t.co/J9Os47VuGd\", 'truncated': False, 'display_text_range': [0, 278], 'entities': {'hashtags': [], 'symbols': [], 'user_mentions': [{'screen_name': 'IPL', 'name': 'IndianPremierLeague', 'id': 15639696, 'id_str': '15639696', 'indices': [121, 125]}, {'screen_name': 'RCBTweets', 'name': 'Royal Challengers Bangalore', 'id': 70931004, 'id_str': '70931004', 'indices': [266, 276]}], 'urls': [{'url': 'https://t.co/J9Os47VuGd', 'expanded_url': 'https://twitter.com/RCBTweets/status/1328195673259266049', 'display_url': 'twitter.com/RCBTweets/stat…', 'indices': [279, 302]}]}, 'metadata': {'iso_language_code': 'en', 'result_type': 'recent'}, 'source': '<a href=\"http://twitter.com/download/android\" rel=\"nofollow\">Twitter for Android</a>', 'in_reply_to_status_id': None, 'in_reply_to_status_id_str': None, 'in_reply_to_user_id': None, 'in_reply_to_user_id_str': None, 'in_reply_to_screen_name': None, 'user': {'id': 1323235347254276096, 'id_str': '1323235347254276096', 'name': 'SANATANI STREE 🕉️', 'screen_name': 'sanatani_stree', 'location': '', 'description': 'धर्मो रक्षति रक्षितः\\n\\n\\n\\n\\n\\n\\n\\n\\n\\n\\n\\n\\n\\n\\n\\n\\n\\n\\n\\n\\n\\n\\n\\n\\n\\n\\n\\n\\n\\n\\n\\n\\n\\n\\n\\n\\n\\n\\n\\n\\n\\n\\n\\n\\n\\n\\n\\n\\n\\n\\n\\n\\n\\n\\n\\n\\n\\n\\n\\n\\n\\n\\n\\n\\nSpreading The knowledge about Sanatan dharm.', 'url': None, 'entities': {'description': {'urls': []}}, 'protected': False, 'followers_count': 332, 'friends_count': 434, 'listed_count': 0, 'created_at': 'Mon Nov 02 12:07:53 +0000 2020', 'favourites_count': 725, 'utc_offset': None, 'time_zone': None, 'geo_enabled': False, 'verified': False, 'statuses_count': 677, 'lang': None, 'contributors_enabled': False, 'is_translator': False, 'is_translation_enabled': False, 'profile_background_color': 'F5F8FA', 'profile_background_image_url': None, 'profile_background_image_url_https': None, 'profile_background_tile': False, 'profile_image_url': 'http://pbs.twimg.com/profile_images/1328562114315780096/oS7vp8v4_normal.jpg', 'profile_image_url_https': 'https://pbs.twimg.com/profile_images/1328562114315780096/oS7vp8v4_normal.jpg', 'profile_banner_url': 'https://pbs.twimg.com/profile_banners/1323235347254276096/1605548274', 'profile_link_color': '1DA1F2', 'profile_sidebar_border_color': 'C0DEED', 'profile_sidebar_fill_color': 'DDEEF6', 'profile_text_color': '333333', 'profile_use_background_image': True, 'has_extended_profile': True, 'default_profile': True, 'default_profile_image': False, 'following': False, 'follow_request_sent': False, 'notifications': False, 'translator_type': 'none'}, 'geo': None, 'coordinates': None, 'place': None, 'contributors': None, 'is_quote_status': True, 'quoted_status_id': 1328195673259266049, 'quoted_status_id_str': '1328195673259266049', 'quoted_status': {'created_at': 'Mon Nov 16 04:38:19 +0000 2020', 'id': 1328195673259266049, 'id_str': '1328195673259266049', 'full_text': \"Hope you are all enjoying a happy and peaceful Diwali with family and friends.\\U0001fa94 To clarify, the fireworks shown in RCB’s recent celebratory video was archival footage of UAE's Flag Day celebrations. RCB continues to work hard to protect the environment like we’ve over the years.\", 'truncated': False, 'display_text_range': [0, 279], 'entities': {'hashtags': [], 'symbols': [], 'user_mentions': [], 'urls': []}, 'metadata': {'iso_language_code': 'en', 'result_type': 'recent'}, 'source': '<a href=\"http://twitter.com/download/iphone\" rel=\"nofollow\">Twitter for iPhone</a>', 'in_reply_to_status_id': None, 'in_reply_to_status_id_str': None, 'in_reply_to_user_id': None, 'in_reply_to_user_id_str': None, 'in_reply_to_screen_name': None, 'user': {'id': 70931004, 'id_str': '70931004', 'name': 'Royal Challengers Bangalore', 'screen_name': 'RCBTweets', 'location': '', 'description': 'Download the RCB Official App 📲👇🏻', 'url': 'https://t.co/dI5ZZyVzsV', 'entities': {'url': {'urls': [{'url': 'https://t.co/dI5ZZyVzsV', 'expanded_url': 'https://rcb.app.link/AB9gJ7itK9', 'display_url': 'rcb.app.link/AB9gJ7itK9', 'indices': [0, 23]}]}, 'description': {'urls': []}}, 'protected': False, 'followers_count': 4033575, 'friends_count': 574, 'listed_count': 1600, 'created_at': 'Wed Sep 02 10:17:14 +0000 2009', 'favourites_count': 4678, 'utc_offset': None, 'time_zone': None, 'geo_enabled': True, 'verified': True, 'statuses_count': 47038, 'lang': None, 'contributors_enabled': False, 'is_translator': False, 'is_translation_enabled': False, 'profile_background_color': 'A80100', 'profile_background_image_url': 'http://abs.twimg.com/images/themes/theme7/bg.gif', 'profile_background_image_url_https': 'https://abs.twimg.com/images/themes/theme7/bg.gif', 'profile_background_tile': False, 'profile_image_url': 'http://pbs.twimg.com/profile_images/1320414920001794049/41kRw2AM_normal.jpg', 'profile_image_url_https': 'https://pbs.twimg.com/profile_images/1320414920001794049/41kRw2AM_normal.jpg', 'profile_banner_url': 'https://pbs.twimg.com/profile_banners/70931004/1596185835', 'profile_link_color': '940000', 'profile_sidebar_border_color': 'FFFFFF', 'profile_sidebar_fill_color': 'FFD105', 'profile_text_color': 'EB0505', 'profile_use_background_image': True, 'has_extended_profile': False, 'default_profile': False, 'default_profile_image': False, 'following': False, 'follow_request_sent': False, 'notifications': False, 'translator_type': 'none'}, 'geo': None, 'coordinates': None, 'place': None, 'contributors': None, 'is_quote_status': False, 'retweet_count': 653, 'favorite_count': 9340, 'favorited': False, 'retweeted': False, 'lang': 'en'}, 'retweet_count': 1, 'favorite_count': 2, 'favorited': False, 'retweeted': False, 'possibly_sensitive': False, 'lang': 'en'}, created_at=datetime.datetime(2020, 11, 18, 14, 7, 17), id=1329063633926586373, id_str='1329063633926586373', full_text=\"RCB is so environment friendly that it isn’t winning IPL so as to avoid bursting of crackers. I guess RCB will never win @IPL in any future year or else people in Bangalore will be forced to burst crackers and hence cause's pollution😷.  We Indian's are proud of you @RCBTweets 🙏 https://t.co/J9Os47VuGd\", truncated=False, display_text_range=[0, 278], entities={'hashtags': [], 'symbols': [], 'user_mentions': [{'screen_name': 'IPL', 'name': 'IndianPremierLeague', 'id': 15639696, 'id_str': '15639696', 'indices': [121, 125]}, {'screen_name': 'RCBTweets', 'name': 'Royal Challengers Bangalore', 'id': 70931004, 'id_str': '70931004', 'indices': [266, 276]}], 'urls': [{'url': 'https://t.co/J9Os47VuGd', 'expanded_url': 'https://twitter.com/RCBTweets/status/1328195673259266049', 'display_url': 'twitter.com/RCBTweets/stat…', 'indices': [279, 302]}]}, metadata={'iso_language_code': 'en', 'result_type': 'recent'}, source='Twitter for Android', source_url='http://twitter.com/download/android', in_reply_to_status_id=None, in_reply_to_status_id_str=None, in_reply_to_user_id=None, in_reply_to_user_id_str=None, in_reply_to_screen_name=None, author=User(_api=<tweepy.api.API object at 0x0000025E8D14BEF0>, _json={'id': 1323235347254276096, 'id_str': '1323235347254276096', 'name': 'SANATANI STREE 🕉️', 'screen_name': 'sanatani_stree', 'location': '', 'description': 'धर्मो रक्षति रक्षितः\\n\\n\\n\\n\\n\\n\\n\\n\\n\\n\\n\\n\\n\\n\\n\\n\\n\\n\\n\\n\\n\\n\\n\\n\\n\\n\\n\\n\\n\\n\\n\\n\\n\\n\\n\\n\\n\\n\\n\\n\\n\\n\\n\\n\\n\\n\\n\\n\\n\\n\\n\\n\\n\\n\\n\\n\\n\\n\\n\\n\\n\\n\\n\\n\\nSpreading The knowledge about Sanatan dharm.', 'url': None, 'entities': {'description': {'urls': []}}, 'protected': False, 'followers_count': 332, 'friends_count': 434, 'listed_count': 0, 'created_at': 'Mon Nov 02 12:07:53 +0000 2020', 'favourites_count': 725, 'utc_offset': None, 'time_zone': None, 'geo_enabled': False, 'verified': False, 'statuses_count': 677, 'lang': None, 'contributors_enabled': False, 'is_translator': False, 'is_translation_enabled': False, 'profile_background_color': 'F5F8FA', 'profile_background_image_url': None, 'profile_background_image_url_https': None, 'profile_background_tile': False, 'profile_image_url': 'http://pbs.twimg.com/profile_images/1328562114315780096/oS7vp8v4_normal.jpg', 'profile_image_url_https': 'https://pbs.twimg.com/profile_images/1328562114315780096/oS7vp8v4_normal.jpg', 'profile_banner_url': 'https://pbs.twimg.com/profile_banners/1323235347254276096/1605548274', 'profile_link_color': '1DA1F2', 'profile_sidebar_border_color': 'C0DEED', 'profile_sidebar_fill_color': 'DDEEF6', 'profile_text_color': '333333', 'profile_use_background_image': True, 'has_extended_profile': True, 'default_profile': True, 'default_profile_image': False, 'following': False, 'follow_request_sent': False, 'notifications': False, 'translator_type': 'none'}, id=1323235347254276096, id_str='1323235347254276096', name='SANATANI STREE 🕉️', screen_name='sanatani_stree', location='', description='धर्मो रक्षति रक्षितः\\n\\n\\n\\n\\n\\n\\n\\n\\n\\n\\n\\n\\n\\n\\n\\n\\n\\n\\n\\n\\n\\n\\n\\n\\n\\n\\n\\n\\n\\n\\n\\n\\n\\n\\n\\n\\n\\n\\n\\n\\n\\n\\n\\n\\n\\n\\n\\n\\n\\n\\n\\n\\n\\n\\n\\n\\n\\n\\n\\n\\n\\n\\n\\n\\nSpreading The knowledge about Sanatan dharm.', url=None, entities={'description': {'urls': []}}, protected=False, followers_count=332, friends_count=434, listed_count=0, created_at=datetime.datetime(2020, 11, 2, 12, 7, 53), favourites_count=725, utc_offset=None, time_zone=None, geo_enabled=False, verified=False, statuses_count=677, lang=None, contributors_enabled=False, is_translator=False, is_translation_enabled=False, profile_background_color='F5F8FA', profile_background_image_url=None, profile_background_image_url_https=None, profile_background_tile=False, profile_image_url='http://pbs.twimg.com/profile_images/1328562114315780096/oS7vp8v4_normal.jpg', profile_image_url_https='https://pbs.twimg.com/profile_images/1328562114315780096/oS7vp8v4_normal.jpg', profile_banner_url='https://pbs.twimg.com/profile_banners/1323235347254276096/1605548274', profile_link_color='1DA1F2', profile_sidebar_border_color='C0DEED', profile_sidebar_fill_color='DDEEF6', profile_text_color='333333', profile_use_background_image=True, has_extended_profile=True, default_profile=True, default_profile_image=False, following=False, follow_request_sent=False, notifications=False, translator_type='none'), user=User(_api=<tweepy.api.API object at 0x0000025E8D14BEF0>, _json={'id': 1323235347254276096, 'id_str': '1323235347254276096', 'name': 'SANATANI STREE 🕉️', 'screen_name': 'sanatani_stree', 'location': '', 'description': 'धर्मो रक्षति रक्षितः\\n\\n\\n\\n\\n\\n\\n\\n\\n\\n\\n\\n\\n\\n\\n\\n\\n\\n\\n\\n\\n\\n\\n\\n\\n\\n\\n\\n\\n\\n\\n\\n\\n\\n\\n\\n\\n\\n\\n\\n\\n\\n\\n\\n\\n\\n\\n\\n\\n\\n\\n\\n\\n\\n\\n\\n\\n\\n\\n\\n\\n\\n\\n\\n\\nSpreading The knowledge about Sanatan dharm.', 'url': None, 'entities': {'description': {'urls': []}}, 'protected': False, 'followers_count': 332, 'friends_count': 434, 'listed_count': 0, 'created_at': 'Mon Nov 02 12:07:53 +0000 2020', 'favourites_count': 725, 'utc_offset': None, 'time_zone': None, 'geo_enabled': False, 'verified': False, 'statuses_count': 677, 'lang': None, 'contributors_enabled': False, 'is_translator': False, 'is_translation_enabled': False, 'profile_background_color': 'F5F8FA', 'profile_background_image_url': None, 'profile_background_image_url_https': None, 'profile_background_tile': False, 'profile_image_url': 'http://pbs.twimg.com/profile_images/1328562114315780096/oS7vp8v4_normal.jpg', 'profile_image_url_https': 'https://pbs.twimg.com/profile_images/1328562114315780096/oS7vp8v4_normal.jpg', 'profile_banner_url': 'https://pbs.twimg.com/profile_banners/1323235347254276096/1605548274', 'profile_link_color': '1DA1F2', 'profile_sidebar_border_color': 'C0DEED', 'profile_sidebar_fill_color': 'DDEEF6', 'profile_text_color': '333333', 'profile_use_background_image': True, 'has_extended_profile': True, 'default_profile': True, 'default_profile_image': False, 'following': False, 'follow_request_sent': False, 'notifications': False, 'translator_type': 'none'}, id=1323235347254276096, id_str='1323235347254276096', name='SANATANI STREE 🕉️', screen_name='sanatani_stree', location='', description='धर्मो रक्षति रक्षितः\\n\\n\\n\\n\\n\\n\\n\\n\\n\\n\\n\\n\\n\\n\\n\\n\\n\\n\\n\\n\\n\\n\\n\\n\\n\\n\\n\\n\\n\\n\\n\\n\\n\\n\\n\\n\\n\\n\\n\\n\\n\\n\\n\\n\\n\\n\\n\\n\\n\\n\\n\\n\\n\\n\\n\\n\\n\\n\\n\\n\\n\\n\\n\\n\\nSpreading The knowledge about Sanatan dharm.', url=None, entities={'description': {'urls': []}}, protected=False, followers_count=332, friends_count=434, listed_count=0, created_at=datetime.datetime(2020, 11, 2, 12, 7, 53), favourites_count=725, utc_offset=None, time_zone=None, geo_enabled=False, verified=False, statuses_count=677, lang=None, contributors_enabled=False, is_translator=False, is_translation_enabled=False, profile_background_color='F5F8FA', profile_background_image_url=None, profile_background_image_url_https=None, profile_background_tile=False, profile_image_url='http://pbs.twimg.com/profile_images/1328562114315780096/oS7vp8v4_normal.jpg', profile_image_url_https='https://pbs.twimg.com/profile_images/1328562114315780096/oS7vp8v4_normal.jpg', profile_banner_url='https://pbs.twimg.com/profile_banners/1323235347254276096/1605548274', profile_link_color='1DA1F2', profile_sidebar_border_color='C0DEED', profile_sidebar_fill_color='DDEEF6', profile_text_color='333333', profile_use_background_image=True, has_extended_profile=True, default_profile=True, default_profile_image=False, following=False, follow_request_sent=False, notifications=False, translator_type='none'), geo=None, coordinates=None, place=None, contributors=None, is_quote_status=True, quoted_status_id=1328195673259266049, quoted_status_id_str='1328195673259266049', quoted_status=Status(_api=<tweepy.api.API object at 0x0000025E8D14BEF0>, _json={'created_at': 'Mon Nov 16 04:38:19 +0000 2020', 'id': 1328195673259266049, 'id_str': '1328195673259266049', 'full_text': \"Hope you are all enjoying a happy and peaceful Diwali with family and friends.\\U0001fa94 To clarify, the fireworks shown in RCB’s recent celebratory video was archival footage of UAE's Flag Day celebrations. RCB continues to work hard to protect the environment like we’ve over the years.\", 'truncated': False, 'display_text_range': [0, 279], 'entities': {'hashtags': [], 'symbols': [], 'user_mentions': [], 'urls': []}, 'metadata': {'iso_language_code': 'en', 'result_type': 'recent'}, 'source': '<a href=\"http://twitter.com/download/iphone\" rel=\"nofollow\">Twitter for iPhone</a>', 'in_reply_to_status_id': None, 'in_reply_to_status_id_str': None, 'in_reply_to_user_id': None, 'in_reply_to_user_id_str': None, 'in_reply_to_screen_name': None, 'user': {'id': 70931004, 'id_str': '70931004', 'name': 'Royal Challengers Bangalore', 'screen_name': 'RCBTweets', 'location': '', 'description': 'Download the RCB Official App 📲👇🏻', 'url': 'https://t.co/dI5ZZyVzsV', 'entities': {'url': {'urls': [{'url': 'https://t.co/dI5ZZyVzsV', 'expanded_url': 'https://rcb.app.link/AB9gJ7itK9', 'display_url': 'rcb.app.link/AB9gJ7itK9', 'indices': [0, 23]}]}, 'description': {'urls': []}}, 'protected': False, 'followers_count': 4033575, 'friends_count': 574, 'listed_count': 1600, 'created_at': 'Wed Sep 02 10:17:14 +0000 2009', 'favourites_count': 4678, 'utc_offset': None, 'time_zone': None, 'geo_enabled': True, 'verified': True, 'statuses_count': 47038, 'lang': None, 'contributors_enabled': False, 'is_translator': False, 'is_translation_enabled': False, 'profile_background_color': 'A80100', 'profile_background_image_url': 'http://abs.twimg.com/images/themes/theme7/bg.gif', 'profile_background_image_url_https': 'https://abs.twimg.com/images/themes/theme7/bg.gif', 'profile_background_tile': False, 'profile_image_url': 'http://pbs.twimg.com/profile_images/1320414920001794049/41kRw2AM_normal.jpg', 'profile_image_url_https': 'https://pbs.twimg.com/profile_images/1320414920001794049/41kRw2AM_normal.jpg', 'profile_banner_url': 'https://pbs.twimg.com/profile_banners/70931004/1596185835', 'profile_link_color': '940000', 'profile_sidebar_border_color': 'FFFFFF', 'profile_sidebar_fill_color': 'FFD105', 'profile_text_color': 'EB0505', 'profile_use_background_image': True, 'has_extended_profile': False, 'default_profile': False, 'default_profile_image': False, 'following': False, 'follow_request_sent': False, 'notifications': False, 'translator_type': 'none'}, 'geo': None, 'coordinates': None, 'place': None, 'contributors': None, 'is_quote_status': False, 'retweet_count': 653, 'favorite_count': 9340, 'favorited': False, 'retweeted': False, 'lang': 'en'}, created_at=datetime.datetime(2020, 11, 16, 4, 38, 19), id=1328195673259266049, id_str='1328195673259266049', full_text=\"Hope you are all enjoying a happy and peaceful Diwali with family and friends.\\U0001fa94 To clarify, the fireworks shown in RCB’s recent celebratory video was archival footage of UAE's Flag Day celebrations. RCB continues to work hard to protect the environment like we’ve over the years.\", truncated=False, display_text_range=[0, 279], entities={'hashtags': [], 'symbols': [], 'user_mentions': [], 'urls': []}, metadata={'iso_language_code': 'en', 'result_type': 'recent'}, source='Twitter for iPhone', source_url='http://twitter.com/download/iphone', in_reply_to_status_id=None, in_reply_to_status_id_str=None, in_reply_to_user_id=None, in_reply_to_user_id_str=None, in_reply_to_screen_name=None, author=User(_api=<tweepy.api.API object at 0x0000025E8D14BEF0>, _json={'id': 70931004, 'id_str': '70931004', 'name': 'Royal Challengers Bangalore', 'screen_name': 'RCBTweets', 'location': '', 'description': 'Download the RCB Official App 📲👇🏻', 'url': 'https://t.co/dI5ZZyVzsV', 'entities': {'url': {'urls': [{'url': 'https://t.co/dI5ZZyVzsV', 'expanded_url': 'https://rcb.app.link/AB9gJ7itK9', 'display_url': 'rcb.app.link/AB9gJ7itK9', 'indices': [0, 23]}]}, 'description': {'urls': []}}, 'protected': False, 'followers_count': 4033575, 'friends_count': 574, 'listed_count': 1600, 'created_at': 'Wed Sep 02 10:17:14 +0000 2009', 'favourites_count': 4678, 'utc_offset': None, 'time_zone': None, 'geo_enabled': True, 'verified': True, 'statuses_count': 47038, 'lang': None, 'contributors_enabled': False, 'is_translator': False, 'is_translation_enabled': False, 'profile_background_color': 'A80100', 'profile_background_image_url': 'http://abs.twimg.com/images/themes/theme7/bg.gif', 'profile_background_image_url_https': 'https://abs.twimg.com/images/themes/theme7/bg.gif', 'profile_background_tile': False, 'profile_image_url': 'http://pbs.twimg.com/profile_images/1320414920001794049/41kRw2AM_normal.jpg', 'profile_image_url_https': 'https://pbs.twimg.com/profile_images/1320414920001794049/41kRw2AM_normal.jpg', 'profile_banner_url': 'https://pbs.twimg.com/profile_banners/70931004/1596185835', 'profile_link_color': '940000', 'profile_sidebar_border_color': 'FFFFFF', 'profile_sidebar_fill_color': 'FFD105', 'profile_text_color': 'EB0505', 'profile_use_background_image': True, 'has_extended_profile': False, 'default_profile': False, 'default_profile_image': False, 'following': False, 'follow_request_sent': False, 'notifications': False, 'translator_type': 'none'}, id=70931004, id_str='70931004', name='Royal Challengers Bangalore', screen_name='RCBTweets', location='', description='Download the RCB Official App 📲👇🏻', url='https://t.co/dI5ZZyVzsV', entities={'url': {'urls': [{'url': 'https://t.co/dI5ZZyVzsV', 'expanded_url': 'https://rcb.app.link/AB9gJ7itK9', 'display_url': 'rcb.app.link/AB9gJ7itK9', 'indices': [0, 23]}]}, 'description': {'urls': []}}, protected=False, followers_count=4033575, friends_count=574, listed_count=1600, created_at=datetime.datetime(2009, 9, 2, 10, 17, 14), favourites_count=4678, utc_offset=None, time_zone=None, geo_enabled=True, verified=True, statuses_count=47038, lang=None, contributors_enabled=False, is_translator=False, is_translation_enabled=False, profile_background_color='A80100', profile_background_image_url='http://abs.twimg.com/images/themes/theme7/bg.gif', profile_background_image_url_https='https://abs.twimg.com/images/themes/theme7/bg.gif', profile_background_tile=False, profile_image_url='http://pbs.twimg.com/profile_images/1320414920001794049/41kRw2AM_normal.jpg', profile_image_url_https='https://pbs.twimg.com/profile_images/1320414920001794049/41kRw2AM_normal.jpg', profile_banner_url='https://pbs.twimg.com/profile_banners/70931004/1596185835', profile_link_color='940000', profile_sidebar_border_color='FFFFFF', profile_sidebar_fill_color='FFD105', profile_text_color='EB0505', profile_use_background_image=True, has_extended_profile=False, default_profile=False, default_profile_image=False, following=False, follow_request_sent=False, notifications=False, translator_type='none'), user=User(_api=<tweepy.api.API object at 0x0000025E8D14BEF0>, _json={'id': 70931004, 'id_str': '70931004', 'name': 'Royal Challengers Bangalore', 'screen_name': 'RCBTweets', 'location': '', 'description': 'Download the RCB Official App 📲👇🏻', 'url': 'https://t.co/dI5ZZyVzsV', 'entities': {'url': {'urls': [{'url': 'https://t.co/dI5ZZyVzsV', 'expanded_url': 'https://rcb.app.link/AB9gJ7itK9', 'display_url': 'rcb.app.link/AB9gJ7itK9', 'indices': [0, 23]}]}, 'description': {'urls': []}}, 'protected': False, 'followers_count': 4033575, 'friends_count': 574, 'listed_count': 1600, 'created_at': 'Wed Sep 02 10:17:14 +0000 2009', 'favourites_count': 4678, 'utc_offset': None, 'time_zone': None, 'geo_enabled': True, 'verified': True, 'statuses_count': 47038, 'lang': None, 'contributors_enabled': False, 'is_translator': False, 'is_translation_enabled': False, 'profile_background_color': 'A80100', 'profile_background_image_url': 'http://abs.twimg.com/images/themes/theme7/bg.gif', 'profile_background_image_url_https': 'https://abs.twimg.com/images/themes/theme7/bg.gif', 'profile_background_tile': False, 'profile_image_url': 'http://pbs.twimg.com/profile_images/1320414920001794049/41kRw2AM_normal.jpg', 'profile_image_url_https': 'https://pbs.twimg.com/profile_images/1320414920001794049/41kRw2AM_normal.jpg', 'profile_banner_url': 'https://pbs.twimg.com/profile_banners/70931004/1596185835', 'profile_link_color': '940000', 'profile_sidebar_border_color': 'FFFFFF', 'profile_sidebar_fill_color': 'FFD105', 'profile_text_color': 'EB0505', 'profile_use_background_image': True, 'has_extended_profile': False, 'default_profile': False, 'default_profile_image': False, 'following': False, 'follow_request_sent': False, 'notifications': False, 'translator_type': 'none'}, id=70931004, id_str='70931004', name='Royal Challengers Bangalore', screen_name='RCBTweets', location='', description='Download the RCB Official App 📲👇🏻', url='https://t.co/dI5ZZyVzsV', entities={'url': {'urls': [{'url': 'https://t.co/dI5ZZyVzsV', 'expanded_url': 'https://rcb.app.link/AB9gJ7itK9', 'display_url': 'rcb.app.link/AB9gJ7itK9', 'indices': [0, 23]}]}, 'description': {'urls': []}}, protected=False, followers_count=4033575, friends_count=574, listed_count=1600, created_at=datetime.datetime(2009, 9, 2, 10, 17, 14), favourites_count=4678, utc_offset=None, time_zone=None, geo_enabled=True, verified=True, statuses_count=47038, lang=None, contributors_enabled=False, is_translator=False, is_translation_enabled=False, profile_background_color='A80100', profile_background_image_url='http://abs.twimg.com/images/themes/theme7/bg.gif', profile_background_image_url_https='https://abs.twimg.com/images/themes/theme7/bg.gif', profile_background_tile=False, profile_image_url='http://pbs.twimg.com/profile_images/1320414920001794049/41kRw2AM_normal.jpg', profile_image_url_https='https://pbs.twimg.com/profile_images/1320414920001794049/41kRw2AM_normal.jpg', profile_banner_url='https://pbs.twimg.com/profile_banners/70931004/1596185835', profile_link_color='940000', profile_sidebar_border_color='FFFFFF', profile_sidebar_fill_color='FFD105', profile_text_color='EB0505', profile_use_background_image=True, has_extended_profile=False, default_profile=False, default_profile_image=False, following=False, follow_request_sent=False, notifications=False, translator_type='none'), geo=None, coordinates=None, place=None, contributors=None, is_quote_status=False, retweet_count=653, favorite_count=9340, favorited=False, retweeted=False, lang='en'), retweet_count=1, favorite_count=2, favorited=False, retweeted=False, possibly_sensitive=False, lang='en') \n",
      "\n",
      ".....................................\n",
      "\n",
      "Status(_api=<tweepy.api.API object at 0x0000025E8D14BEF0>, _json={'created_at': 'Wed Nov 18 13:12:49 +0000 2020', 'id': 1329049926123331586, 'id_str': '1329049926123331586', 'full_text': \"Yet another year of IPL disappointment for RCB fans, it's time to cheer for Bengaluru FC. The blues will have thier eyes fixed on winning thier second ISL title in three years. BFC to face Goa FC in its first match on 22nd Nov. \\n\\n#ISL #BengaluruFC #IPL #RCB #Bengaluru https://t.co/U2AquDGrn4\", 'truncated': False, 'display_text_range': [0, 268], 'entities': {'hashtags': [{'text': 'ISL', 'indices': [230, 234]}, {'text': 'BengaluruFC', 'indices': [235, 247]}, {'text': 'IPL', 'indices': [248, 252]}, {'text': 'RCB', 'indices': [253, 257]}, {'text': 'Bengaluru', 'indices': [258, 268]}], 'symbols': [], 'user_mentions': [], 'urls': [], 'media': [{'id': 1329049923732467713, 'id_str': '1329049923732467713', 'indices': [269, 292], 'media_url': 'http://pbs.twimg.com/media/EnG73TDVcAERAEq.jpg', 'media_url_https': 'https://pbs.twimg.com/media/EnG73TDVcAERAEq.jpg', 'url': 'https://t.co/U2AquDGrn4', 'display_url': 'pic.twitter.com/U2AquDGrn4', 'expanded_url': 'https://twitter.com/LankeshApp/status/1329049926123331586/photo/1', 'type': 'photo', 'sizes': {'large': {'w': 640, 'h': 480, 'resize': 'fit'}, 'thumb': {'w': 150, 'h': 150, 'resize': 'crop'}, 'medium': {'w': 640, 'h': 480, 'resize': 'fit'}, 'small': {'w': 640, 'h': 480, 'resize': 'fit'}}}]}, 'extended_entities': {'media': [{'id': 1329049923732467713, 'id_str': '1329049923732467713', 'indices': [269, 292], 'media_url': 'http://pbs.twimg.com/media/EnG73TDVcAERAEq.jpg', 'media_url_https': 'https://pbs.twimg.com/media/EnG73TDVcAERAEq.jpg', 'url': 'https://t.co/U2AquDGrn4', 'display_url': 'pic.twitter.com/U2AquDGrn4', 'expanded_url': 'https://twitter.com/LankeshApp/status/1329049926123331586/photo/1', 'type': 'photo', 'sizes': {'large': {'w': 640, 'h': 480, 'resize': 'fit'}, 'thumb': {'w': 150, 'h': 150, 'resize': 'crop'}, 'medium': {'w': 640, 'h': 480, 'resize': 'fit'}, 'small': {'w': 640, 'h': 480, 'resize': 'fit'}}}]}, 'metadata': {'iso_language_code': 'en', 'result_type': 'recent'}, 'source': '<a href=\"http://twitter.com/download/android\" rel=\"nofollow\">Twitter for Android</a>', 'in_reply_to_status_id': None, 'in_reply_to_status_id_str': None, 'in_reply_to_user_id': None, 'in_reply_to_user_id_str': None, 'in_reply_to_screen_name': None, 'user': {'id': 1312586983, 'id_str': '1312586983', 'name': 'Lankesh', 'screen_name': 'LankeshApp', 'location': 'Bengaluru, India', 'description': 'ನೂತನ ಲಂಕೇಶ್ ಆಪ್ ಸಾಮಾಜಿಕ ಜಾಲತಾಣಗಳಲ್ಲಿ ಲಭ್ಯವಿದ್ದು, ಈಗ ನಿಮ್ಮ ಬೆರಳ ಅಂಚಿಗೆ ಸಿಗಲಿದೆ. ಇದು ಕೇವಲ ಸುದ್ಧಿಯ ನಿಧಿಯಲ್ಲ, ಹೊಸತನದ ಆವಿಷ್ಕಾರ. ಇದು ಜಾಣ-ಜಾಣೆಯರಿಗೆ ಮಾತ್ರ.', 'url': 'https://t.co/ln2qLgkwp3', 'entities': {'url': {'urls': [{'url': 'https://t.co/ln2qLgkwp3', 'expanded_url': 'http://indrajitlankesh.in', 'display_url': 'indrajitlankesh.in', 'indices': [0, 23]}]}, 'description': {'urls': []}}, 'protected': False, 'followers_count': 32168, 'friends_count': 320, 'listed_count': 4, 'created_at': 'Fri Mar 29 04:33:27 +0000 2013', 'favourites_count': 1101, 'utc_offset': None, 'time_zone': None, 'geo_enabled': True, 'verified': False, 'statuses_count': 1645, 'lang': None, 'contributors_enabled': False, 'is_translator': False, 'is_translation_enabled': False, 'profile_background_color': 'C0DEED', 'profile_background_image_url': 'http://abs.twimg.com/images/themes/theme1/bg.png', 'profile_background_image_url_https': 'https://abs.twimg.com/images/themes/theme1/bg.png', 'profile_background_tile': False, 'profile_image_url': 'http://pbs.twimg.com/profile_images/1313423005234520064/go55ZfF5_normal.jpg', 'profile_image_url_https': 'https://pbs.twimg.com/profile_images/1313423005234520064/go55ZfF5_normal.jpg', 'profile_banner_url': 'https://pbs.twimg.com/profile_banners/1312586983/1601978866', 'profile_link_color': '1DA1F2', 'profile_sidebar_border_color': 'C0DEED', 'profile_sidebar_fill_color': 'DDEEF6', 'profile_text_color': '333333', 'profile_use_background_image': True, 'has_extended_profile': False, 'default_profile': True, 'default_profile_image': False, 'following': False, 'follow_request_sent': False, 'notifications': False, 'translator_type': 'none'}, 'geo': None, 'coordinates': None, 'place': None, 'contributors': None, 'is_quote_status': False, 'retweet_count': 0, 'favorite_count': 0, 'favorited': False, 'retweeted': False, 'possibly_sensitive': False, 'lang': 'en'}, created_at=datetime.datetime(2020, 11, 18, 13, 12, 49), id=1329049926123331586, id_str='1329049926123331586', full_text=\"Yet another year of IPL disappointment for RCB fans, it's time to cheer for Bengaluru FC. The blues will have thier eyes fixed on winning thier second ISL title in three years. BFC to face Goa FC in its first match on 22nd Nov. \\n\\n#ISL #BengaluruFC #IPL #RCB #Bengaluru https://t.co/U2AquDGrn4\", truncated=False, display_text_range=[0, 268], entities={'hashtags': [{'text': 'ISL', 'indices': [230, 234]}, {'text': 'BengaluruFC', 'indices': [235, 247]}, {'text': 'IPL', 'indices': [248, 252]}, {'text': 'RCB', 'indices': [253, 257]}, {'text': 'Bengaluru', 'indices': [258, 268]}], 'symbols': [], 'user_mentions': [], 'urls': [], 'media': [{'id': 1329049923732467713, 'id_str': '1329049923732467713', 'indices': [269, 292], 'media_url': 'http://pbs.twimg.com/media/EnG73TDVcAERAEq.jpg', 'media_url_https': 'https://pbs.twimg.com/media/EnG73TDVcAERAEq.jpg', 'url': 'https://t.co/U2AquDGrn4', 'display_url': 'pic.twitter.com/U2AquDGrn4', 'expanded_url': 'https://twitter.com/LankeshApp/status/1329049926123331586/photo/1', 'type': 'photo', 'sizes': {'large': {'w': 640, 'h': 480, 'resize': 'fit'}, 'thumb': {'w': 150, 'h': 150, 'resize': 'crop'}, 'medium': {'w': 640, 'h': 480, 'resize': 'fit'}, 'small': {'w': 640, 'h': 480, 'resize': 'fit'}}}]}, extended_entities={'media': [{'id': 1329049923732467713, 'id_str': '1329049923732467713', 'indices': [269, 292], 'media_url': 'http://pbs.twimg.com/media/EnG73TDVcAERAEq.jpg', 'media_url_https': 'https://pbs.twimg.com/media/EnG73TDVcAERAEq.jpg', 'url': 'https://t.co/U2AquDGrn4', 'display_url': 'pic.twitter.com/U2AquDGrn4', 'expanded_url': 'https://twitter.com/LankeshApp/status/1329049926123331586/photo/1', 'type': 'photo', 'sizes': {'large': {'w': 640, 'h': 480, 'resize': 'fit'}, 'thumb': {'w': 150, 'h': 150, 'resize': 'crop'}, 'medium': {'w': 640, 'h': 480, 'resize': 'fit'}, 'small': {'w': 640, 'h': 480, 'resize': 'fit'}}}]}, metadata={'iso_language_code': 'en', 'result_type': 'recent'}, source='Twitter for Android', source_url='http://twitter.com/download/android', in_reply_to_status_id=None, in_reply_to_status_id_str=None, in_reply_to_user_id=None, in_reply_to_user_id_str=None, in_reply_to_screen_name=None, author=User(_api=<tweepy.api.API object at 0x0000025E8D14BEF0>, _json={'id': 1312586983, 'id_str': '1312586983', 'name': 'Lankesh', 'screen_name': 'LankeshApp', 'location': 'Bengaluru, India', 'description': 'ನೂತನ ಲಂಕೇಶ್ ಆಪ್ ಸಾಮಾಜಿಕ ಜಾಲತಾಣಗಳಲ್ಲಿ ಲಭ್ಯವಿದ್ದು, ಈಗ ನಿಮ್ಮ ಬೆರಳ ಅಂಚಿಗೆ ಸಿಗಲಿದೆ. ಇದು ಕೇವಲ ಸುದ್ಧಿಯ ನಿಧಿಯಲ್ಲ, ಹೊಸತನದ ಆವಿಷ್ಕಾರ. ಇದು ಜಾಣ-ಜಾಣೆಯರಿಗೆ ಮಾತ್ರ.', 'url': 'https://t.co/ln2qLgkwp3', 'entities': {'url': {'urls': [{'url': 'https://t.co/ln2qLgkwp3', 'expanded_url': 'http://indrajitlankesh.in', 'display_url': 'indrajitlankesh.in', 'indices': [0, 23]}]}, 'description': {'urls': []}}, 'protected': False, 'followers_count': 32168, 'friends_count': 320, 'listed_count': 4, 'created_at': 'Fri Mar 29 04:33:27 +0000 2013', 'favourites_count': 1101, 'utc_offset': None, 'time_zone': None, 'geo_enabled': True, 'verified': False, 'statuses_count': 1645, 'lang': None, 'contributors_enabled': False, 'is_translator': False, 'is_translation_enabled': False, 'profile_background_color': 'C0DEED', 'profile_background_image_url': 'http://abs.twimg.com/images/themes/theme1/bg.png', 'profile_background_image_url_https': 'https://abs.twimg.com/images/themes/theme1/bg.png', 'profile_background_tile': False, 'profile_image_url': 'http://pbs.twimg.com/profile_images/1313423005234520064/go55ZfF5_normal.jpg', 'profile_image_url_https': 'https://pbs.twimg.com/profile_images/1313423005234520064/go55ZfF5_normal.jpg', 'profile_banner_url': 'https://pbs.twimg.com/profile_banners/1312586983/1601978866', 'profile_link_color': '1DA1F2', 'profile_sidebar_border_color': 'C0DEED', 'profile_sidebar_fill_color': 'DDEEF6', 'profile_text_color': '333333', 'profile_use_background_image': True, 'has_extended_profile': False, 'default_profile': True, 'default_profile_image': False, 'following': False, 'follow_request_sent': False, 'notifications': False, 'translator_type': 'none'}, id=1312586983, id_str='1312586983', name='Lankesh', screen_name='LankeshApp', location='Bengaluru, India', description='ನೂತನ ಲಂಕೇಶ್ ಆಪ್ ಸಾಮಾಜಿಕ ಜಾಲತಾಣಗಳಲ್ಲಿ ಲಭ್ಯವಿದ್ದು, ಈಗ ನಿಮ್ಮ ಬೆರಳ ಅಂಚಿಗೆ ಸಿಗಲಿದೆ. ಇದು ಕೇವಲ ಸುದ್ಧಿಯ ನಿಧಿಯಲ್ಲ, ಹೊಸತನದ ಆವಿಷ್ಕಾರ. ಇದು ಜಾಣ-ಜಾಣೆಯರಿಗೆ ಮಾತ್ರ.', url='https://t.co/ln2qLgkwp3', entities={'url': {'urls': [{'url': 'https://t.co/ln2qLgkwp3', 'expanded_url': 'http://indrajitlankesh.in', 'display_url': 'indrajitlankesh.in', 'indices': [0, 23]}]}, 'description': {'urls': []}}, protected=False, followers_count=32168, friends_count=320, listed_count=4, created_at=datetime.datetime(2013, 3, 29, 4, 33, 27), favourites_count=1101, utc_offset=None, time_zone=None, geo_enabled=True, verified=False, statuses_count=1645, lang=None, contributors_enabled=False, is_translator=False, is_translation_enabled=False, profile_background_color='C0DEED', profile_background_image_url='http://abs.twimg.com/images/themes/theme1/bg.png', profile_background_image_url_https='https://abs.twimg.com/images/themes/theme1/bg.png', profile_background_tile=False, profile_image_url='http://pbs.twimg.com/profile_images/1313423005234520064/go55ZfF5_normal.jpg', profile_image_url_https='https://pbs.twimg.com/profile_images/1313423005234520064/go55ZfF5_normal.jpg', profile_banner_url='https://pbs.twimg.com/profile_banners/1312586983/1601978866', profile_link_color='1DA1F2', profile_sidebar_border_color='C0DEED', profile_sidebar_fill_color='DDEEF6', profile_text_color='333333', profile_use_background_image=True, has_extended_profile=False, default_profile=True, default_profile_image=False, following=False, follow_request_sent=False, notifications=False, translator_type='none'), user=User(_api=<tweepy.api.API object at 0x0000025E8D14BEF0>, _json={'id': 1312586983, 'id_str': '1312586983', 'name': 'Lankesh', 'screen_name': 'LankeshApp', 'location': 'Bengaluru, India', 'description': 'ನೂತನ ಲಂಕೇಶ್ ಆಪ್ ಸಾಮಾಜಿಕ ಜಾಲತಾಣಗಳಲ್ಲಿ ಲಭ್ಯವಿದ್ದು, ಈಗ ನಿಮ್ಮ ಬೆರಳ ಅಂಚಿಗೆ ಸಿಗಲಿದೆ. ಇದು ಕೇವಲ ಸುದ್ಧಿಯ ನಿಧಿಯಲ್ಲ, ಹೊಸತನದ ಆವಿಷ್ಕಾರ. ಇದು ಜಾಣ-ಜಾಣೆಯರಿಗೆ ಮಾತ್ರ.', 'url': 'https://t.co/ln2qLgkwp3', 'entities': {'url': {'urls': [{'url': 'https://t.co/ln2qLgkwp3', 'expanded_url': 'http://indrajitlankesh.in', 'display_url': 'indrajitlankesh.in', 'indices': [0, 23]}]}, 'description': {'urls': []}}, 'protected': False, 'followers_count': 32168, 'friends_count': 320, 'listed_count': 4, 'created_at': 'Fri Mar 29 04:33:27 +0000 2013', 'favourites_count': 1101, 'utc_offset': None, 'time_zone': None, 'geo_enabled': True, 'verified': False, 'statuses_count': 1645, 'lang': None, 'contributors_enabled': False, 'is_translator': False, 'is_translation_enabled': False, 'profile_background_color': 'C0DEED', 'profile_background_image_url': 'http://abs.twimg.com/images/themes/theme1/bg.png', 'profile_background_image_url_https': 'https://abs.twimg.com/images/themes/theme1/bg.png', 'profile_background_tile': False, 'profile_image_url': 'http://pbs.twimg.com/profile_images/1313423005234520064/go55ZfF5_normal.jpg', 'profile_image_url_https': 'https://pbs.twimg.com/profile_images/1313423005234520064/go55ZfF5_normal.jpg', 'profile_banner_url': 'https://pbs.twimg.com/profile_banners/1312586983/1601978866', 'profile_link_color': '1DA1F2', 'profile_sidebar_border_color': 'C0DEED', 'profile_sidebar_fill_color': 'DDEEF6', 'profile_text_color': '333333', 'profile_use_background_image': True, 'has_extended_profile': False, 'default_profile': True, 'default_profile_image': False, 'following': False, 'follow_request_sent': False, 'notifications': False, 'translator_type': 'none'}, id=1312586983, id_str='1312586983', name='Lankesh', screen_name='LankeshApp', location='Bengaluru, India', description='ನೂತನ ಲಂಕೇಶ್ ಆಪ್ ಸಾಮಾಜಿಕ ಜಾಲತಾಣಗಳಲ್ಲಿ ಲಭ್ಯವಿದ್ದು, ಈಗ ನಿಮ್ಮ ಬೆರಳ ಅಂಚಿಗೆ ಸಿಗಲಿದೆ. ಇದು ಕೇವಲ ಸುದ್ಧಿಯ ನಿಧಿಯಲ್ಲ, ಹೊಸತನದ ಆವಿಷ್ಕಾರ. ಇದು ಜಾಣ-ಜಾಣೆಯರಿಗೆ ಮಾತ್ರ.', url='https://t.co/ln2qLgkwp3', entities={'url': {'urls': [{'url': 'https://t.co/ln2qLgkwp3', 'expanded_url': 'http://indrajitlankesh.in', 'display_url': 'indrajitlankesh.in', 'indices': [0, 23]}]}, 'description': {'urls': []}}, protected=False, followers_count=32168, friends_count=320, listed_count=4, created_at=datetime.datetime(2013, 3, 29, 4, 33, 27), favourites_count=1101, utc_offset=None, time_zone=None, geo_enabled=True, verified=False, statuses_count=1645, lang=None, contributors_enabled=False, is_translator=False, is_translation_enabled=False, profile_background_color='C0DEED', profile_background_image_url='http://abs.twimg.com/images/themes/theme1/bg.png', profile_background_image_url_https='https://abs.twimg.com/images/themes/theme1/bg.png', profile_background_tile=False, profile_image_url='http://pbs.twimg.com/profile_images/1313423005234520064/go55ZfF5_normal.jpg', profile_image_url_https='https://pbs.twimg.com/profile_images/1313423005234520064/go55ZfF5_normal.jpg', profile_banner_url='https://pbs.twimg.com/profile_banners/1312586983/1601978866', profile_link_color='1DA1F2', profile_sidebar_border_color='C0DEED', profile_sidebar_fill_color='DDEEF6', profile_text_color='333333', profile_use_background_image=True, has_extended_profile=False, default_profile=True, default_profile_image=False, following=False, follow_request_sent=False, notifications=False, translator_type='none'), geo=None, coordinates=None, place=None, contributors=None, is_quote_status=False, retweet_count=0, favorite_count=0, favorited=False, retweeted=False, possibly_sensitive=False, lang='en') \n",
      "\n",
      ".....................................\n",
      "\n",
      "Status(_api=<tweepy.api.API object at 0x0000025E8D14BEF0>, _json={'created_at': 'Wed Nov 18 09:08:51 +0000 2020', 'id': 1328988529301471233, 'id_str': '1328988529301471233', 'full_text': \"@bhogleharsha True harsh on RCB team but they missed the best chance of winning ipl this year.\\nIt's almost impossible to win with 7 matches in Chinnaswamy.\\n#AUSvsIND #CricbuzzLive\", 'truncated': False, 'display_text_range': [14, 179], 'entities': {'hashtags': [{'text': 'AUSvsIND', 'indices': [156, 165]}, {'text': 'CricbuzzLive', 'indices': [166, 179]}], 'symbols': [], 'user_mentions': [{'screen_name': 'bhogleharsha', 'name': 'Harsha Bhogle', 'id': 78941611, 'id_str': '78941611', 'indices': [0, 13]}], 'urls': []}, 'metadata': {'iso_language_code': 'en', 'result_type': 'recent'}, 'source': '<a href=\"http://twitter.com/download/android\" rel=\"nofollow\">Twitter for Android</a>', 'in_reply_to_status_id': 1328366987219664896, 'in_reply_to_status_id_str': '1328366987219664896', 'in_reply_to_user_id': 78941611, 'in_reply_to_user_id_str': '78941611', 'in_reply_to_screen_name': 'bhogleharsha', 'user': {'id': 2552455878, 'id_str': '2552455878', 'name': 'Truth Teller', 'screen_name': 'bala960105', 'location': '', 'description': 'I mainly share my views on Cricket,Movies,Wwe. Follow me for not missing the interesting polls.\\nRakul replied on 31 Aug 2018🙏\\nSam replied on 3 Sep 2018😱💗💗', 'url': None, 'entities': {'description': {'urls': []}}, 'protected': False, 'followers_count': 107, 'friends_count': 21, 'listed_count': 0, 'created_at': 'Sat Jun 07 12:19:24 +0000 2014', 'favourites_count': 119, 'utc_offset': None, 'time_zone': None, 'geo_enabled': True, 'verified': False, 'statuses_count': 3462, 'lang': None, 'contributors_enabled': False, 'is_translator': False, 'is_translation_enabled': False, 'profile_background_color': '000000', 'profile_background_image_url': 'http://abs.twimg.com/images/themes/theme13/bg.gif', 'profile_background_image_url_https': 'https://abs.twimg.com/images/themes/theme13/bg.gif', 'profile_background_tile': False, 'profile_image_url': 'http://pbs.twimg.com/profile_images/1313808325780201473/gljwRhWr_normal.jpg', 'profile_image_url_https': 'https://pbs.twimg.com/profile_images/1313808325780201473/gljwRhWr_normal.jpg', 'profile_link_color': 'FA743E', 'profile_sidebar_border_color': '000000', 'profile_sidebar_fill_color': '000000', 'profile_text_color': '000000', 'profile_use_background_image': False, 'has_extended_profile': False, 'default_profile': False, 'default_profile_image': False, 'following': False, 'follow_request_sent': False, 'notifications': False, 'translator_type': 'none'}, 'geo': None, 'coordinates': None, 'place': None, 'contributors': None, 'is_quote_status': False, 'retweet_count': 0, 'favorite_count': 0, 'favorited': False, 'retweeted': False, 'lang': 'en'}, created_at=datetime.datetime(2020, 11, 18, 9, 8, 51), id=1328988529301471233, id_str='1328988529301471233', full_text=\"@bhogleharsha True harsh on RCB team but they missed the best chance of winning ipl this year.\\nIt's almost impossible to win with 7 matches in Chinnaswamy.\\n#AUSvsIND #CricbuzzLive\", truncated=False, display_text_range=[14, 179], entities={'hashtags': [{'text': 'AUSvsIND', 'indices': [156, 165]}, {'text': 'CricbuzzLive', 'indices': [166, 179]}], 'symbols': [], 'user_mentions': [{'screen_name': 'bhogleharsha', 'name': 'Harsha Bhogle', 'id': 78941611, 'id_str': '78941611', 'indices': [0, 13]}], 'urls': []}, metadata={'iso_language_code': 'en', 'result_type': 'recent'}, source='Twitter for Android', source_url='http://twitter.com/download/android', in_reply_to_status_id=1328366987219664896, in_reply_to_status_id_str='1328366987219664896', in_reply_to_user_id=78941611, in_reply_to_user_id_str='78941611', in_reply_to_screen_name='bhogleharsha', author=User(_api=<tweepy.api.API object at 0x0000025E8D14BEF0>, _json={'id': 2552455878, 'id_str': '2552455878', 'name': 'Truth Teller', 'screen_name': 'bala960105', 'location': '', 'description': 'I mainly share my views on Cricket,Movies,Wwe. Follow me for not missing the interesting polls.\\nRakul replied on 31 Aug 2018🙏\\nSam replied on 3 Sep 2018😱💗💗', 'url': None, 'entities': {'description': {'urls': []}}, 'protected': False, 'followers_count': 107, 'friends_count': 21, 'listed_count': 0, 'created_at': 'Sat Jun 07 12:19:24 +0000 2014', 'favourites_count': 119, 'utc_offset': None, 'time_zone': None, 'geo_enabled': True, 'verified': False, 'statuses_count': 3462, 'lang': None, 'contributors_enabled': False, 'is_translator': False, 'is_translation_enabled': False, 'profile_background_color': '000000', 'profile_background_image_url': 'http://abs.twimg.com/images/themes/theme13/bg.gif', 'profile_background_image_url_https': 'https://abs.twimg.com/images/themes/theme13/bg.gif', 'profile_background_tile': False, 'profile_image_url': 'http://pbs.twimg.com/profile_images/1313808325780201473/gljwRhWr_normal.jpg', 'profile_image_url_https': 'https://pbs.twimg.com/profile_images/1313808325780201473/gljwRhWr_normal.jpg', 'profile_link_color': 'FA743E', 'profile_sidebar_border_color': '000000', 'profile_sidebar_fill_color': '000000', 'profile_text_color': '000000', 'profile_use_background_image': False, 'has_extended_profile': False, 'default_profile': False, 'default_profile_image': False, 'following': False, 'follow_request_sent': False, 'notifications': False, 'translator_type': 'none'}, id=2552455878, id_str='2552455878', name='Truth Teller', screen_name='bala960105', location='', description='I mainly share my views on Cricket,Movies,Wwe. Follow me for not missing the interesting polls.\\nRakul replied on 31 Aug 2018🙏\\nSam replied on 3 Sep 2018😱💗💗', url=None, entities={'description': {'urls': []}}, protected=False, followers_count=107, friends_count=21, listed_count=0, created_at=datetime.datetime(2014, 6, 7, 12, 19, 24), favourites_count=119, utc_offset=None, time_zone=None, geo_enabled=True, verified=False, statuses_count=3462, lang=None, contributors_enabled=False, is_translator=False, is_translation_enabled=False, profile_background_color='000000', profile_background_image_url='http://abs.twimg.com/images/themes/theme13/bg.gif', profile_background_image_url_https='https://abs.twimg.com/images/themes/theme13/bg.gif', profile_background_tile=False, profile_image_url='http://pbs.twimg.com/profile_images/1313808325780201473/gljwRhWr_normal.jpg', profile_image_url_https='https://pbs.twimg.com/profile_images/1313808325780201473/gljwRhWr_normal.jpg', profile_link_color='FA743E', profile_sidebar_border_color='000000', profile_sidebar_fill_color='000000', profile_text_color='000000', profile_use_background_image=False, has_extended_profile=False, default_profile=False, default_profile_image=False, following=False, follow_request_sent=False, notifications=False, translator_type='none'), user=User(_api=<tweepy.api.API object at 0x0000025E8D14BEF0>, _json={'id': 2552455878, 'id_str': '2552455878', 'name': 'Truth Teller', 'screen_name': 'bala960105', 'location': '', 'description': 'I mainly share my views on Cricket,Movies,Wwe. Follow me for not missing the interesting polls.\\nRakul replied on 31 Aug 2018🙏\\nSam replied on 3 Sep 2018😱💗💗', 'url': None, 'entities': {'description': {'urls': []}}, 'protected': False, 'followers_count': 107, 'friends_count': 21, 'listed_count': 0, 'created_at': 'Sat Jun 07 12:19:24 +0000 2014', 'favourites_count': 119, 'utc_offset': None, 'time_zone': None, 'geo_enabled': True, 'verified': False, 'statuses_count': 3462, 'lang': None, 'contributors_enabled': False, 'is_translator': False, 'is_translation_enabled': False, 'profile_background_color': '000000', 'profile_background_image_url': 'http://abs.twimg.com/images/themes/theme13/bg.gif', 'profile_background_image_url_https': 'https://abs.twimg.com/images/themes/theme13/bg.gif', 'profile_background_tile': False, 'profile_image_url': 'http://pbs.twimg.com/profile_images/1313808325780201473/gljwRhWr_normal.jpg', 'profile_image_url_https': 'https://pbs.twimg.com/profile_images/1313808325780201473/gljwRhWr_normal.jpg', 'profile_link_color': 'FA743E', 'profile_sidebar_border_color': '000000', 'profile_sidebar_fill_color': '000000', 'profile_text_color': '000000', 'profile_use_background_image': False, 'has_extended_profile': False, 'default_profile': False, 'default_profile_image': False, 'following': False, 'follow_request_sent': False, 'notifications': False, 'translator_type': 'none'}, id=2552455878, id_str='2552455878', name='Truth Teller', screen_name='bala960105', location='', description='I mainly share my views on Cricket,Movies,Wwe. Follow me for not missing the interesting polls.\\nRakul replied on 31 Aug 2018🙏\\nSam replied on 3 Sep 2018😱💗💗', url=None, entities={'description': {'urls': []}}, protected=False, followers_count=107, friends_count=21, listed_count=0, created_at=datetime.datetime(2014, 6, 7, 12, 19, 24), favourites_count=119, utc_offset=None, time_zone=None, geo_enabled=True, verified=False, statuses_count=3462, lang=None, contributors_enabled=False, is_translator=False, is_translation_enabled=False, profile_background_color='000000', profile_background_image_url='http://abs.twimg.com/images/themes/theme13/bg.gif', profile_background_image_url_https='https://abs.twimg.com/images/themes/theme13/bg.gif', profile_background_tile=False, profile_image_url='http://pbs.twimg.com/profile_images/1313808325780201473/gljwRhWr_normal.jpg', profile_image_url_https='https://pbs.twimg.com/profile_images/1313808325780201473/gljwRhWr_normal.jpg', profile_link_color='FA743E', profile_sidebar_border_color='000000', profile_sidebar_fill_color='000000', profile_text_color='000000', profile_use_background_image=False, has_extended_profile=False, default_profile=False, default_profile_image=False, following=False, follow_request_sent=False, notifications=False, translator_type='none'), geo=None, coordinates=None, place=None, contributors=None, is_quote_status=False, retweet_count=0, favorite_count=0, favorited=False, retweeted=False, lang='en') \n",
      "\n",
      ".....................................\n",
      "\n",
      "Status(_api=<tweepy.api.API object at 0x0000025E8D14BEF0>, _json={'created_at': 'Wed Nov 18 08:16:59 +0000 2020', 'id': 1328975476224782336, 'id_str': '1328975476224782336', 'full_text': \"@VamosVirat @HPrisom @riyanparagfan @mufaddal_vohra There is something known as brand. Apart from MI, RCB, everyone doesn't have that, and Dhoni would bring that. IPL is much more than winning cups for owners.. You must know that RCB is a flop franchise performance wise, but very successful economically.\", 'truncated': False, 'display_text_range': [52, 305], 'entities': {'hashtags': [], 'symbols': [], 'user_mentions': [{'screen_name': 'VamosVirat', 'name': 'Aivy 🌈', 'id': 998163810027388928, 'id_str': '998163810027388928', 'indices': [0, 11]}, {'screen_name': 'HPrisom', 'name': 'iPrisom', 'id': 1111577464961036288, 'id_str': '1111577464961036288', 'indices': [12, 20]}, {'screen_name': 'riyanparagfan', 'name': 'Riyan Parag Fan', 'id': 1026129852171079680, 'id_str': '1026129852171079680', 'indices': [21, 35]}, {'screen_name': 'mufaddal_vohra', 'name': 'Mufaddal Vohra', 'id': 3133996860, 'id_str': '3133996860', 'indices': [36, 51]}], 'urls': []}, 'metadata': {'iso_language_code': 'en', 'result_type': 'recent'}, 'source': '<a href=\"http://twitter.com/download/android\" rel=\"nofollow\">Twitter for Android</a>', 'in_reply_to_status_id': 1328765872823955457, 'in_reply_to_status_id_str': '1328765872823955457', 'in_reply_to_user_id': 998163810027388928, 'in_reply_to_user_id_str': '998163810027388928', 'in_reply_to_screen_name': 'VamosVirat', 'user': {'id': 1270053432540438528, 'id_str': '1270053432540438528', 'name': 'Sanchita', 'screen_name': 'SanchitaSingla', 'location': '', 'description': '| Abnormally Normal |\\n\\n\\n\\n\\n\\n\\n\\n\\n\\n\\n\\n\\n\\n\\n\\n\\n\\n\\n\\n\\n\\n\\n\\n\\n\\n\\n\\n\\n\\n\\n\\n\\n\\n\\n\\n\\n\\n\\n\\n\\n\\n\\n\\n\\n\\n\\n\\n\\n\\n\\n| Indian 🇮🇳 |\\n| MBBS Student⚕️ |', 'url': None, 'entities': {'description': {'urls': []}}, 'protected': False, 'followers_count': 264, 'friends_count': 40, 'listed_count': 0, 'created_at': 'Mon Jun 08 18:01:57 +0000 2020', 'favourites_count': 425, 'utc_offset': None, 'time_zone': None, 'geo_enabled': False, 'verified': False, 'statuses_count': 866, 'lang': None, 'contributors_enabled': False, 'is_translator': False, 'is_translation_enabled': False, 'profile_background_color': 'F5F8FA', 'profile_background_image_url': None, 'profile_background_image_url_https': None, 'profile_background_tile': False, 'profile_image_url': 'http://pbs.twimg.com/profile_images/1317088798426030081/tf0lykQg_normal.jpg', 'profile_image_url_https': 'https://pbs.twimg.com/profile_images/1317088798426030081/tf0lykQg_normal.jpg', 'profile_link_color': '1DA1F2', 'profile_sidebar_border_color': 'C0DEED', 'profile_sidebar_fill_color': 'DDEEF6', 'profile_text_color': '333333', 'profile_use_background_image': True, 'has_extended_profile': False, 'default_profile': True, 'default_profile_image': False, 'following': False, 'follow_request_sent': False, 'notifications': False, 'translator_type': 'none'}, 'geo': None, 'coordinates': None, 'place': None, 'contributors': None, 'is_quote_status': False, 'retweet_count': 0, 'favorite_count': 1, 'favorited': False, 'retweeted': False, 'lang': 'en'}, created_at=datetime.datetime(2020, 11, 18, 8, 16, 59), id=1328975476224782336, id_str='1328975476224782336', full_text=\"@VamosVirat @HPrisom @riyanparagfan @mufaddal_vohra There is something known as brand. Apart from MI, RCB, everyone doesn't have that, and Dhoni would bring that. IPL is much more than winning cups for owners.. You must know that RCB is a flop franchise performance wise, but very successful economically.\", truncated=False, display_text_range=[52, 305], entities={'hashtags': [], 'symbols': [], 'user_mentions': [{'screen_name': 'VamosVirat', 'name': 'Aivy 🌈', 'id': 998163810027388928, 'id_str': '998163810027388928', 'indices': [0, 11]}, {'screen_name': 'HPrisom', 'name': 'iPrisom', 'id': 1111577464961036288, 'id_str': '1111577464961036288', 'indices': [12, 20]}, {'screen_name': 'riyanparagfan', 'name': 'Riyan Parag Fan', 'id': 1026129852171079680, 'id_str': '1026129852171079680', 'indices': [21, 35]}, {'screen_name': 'mufaddal_vohra', 'name': 'Mufaddal Vohra', 'id': 3133996860, 'id_str': '3133996860', 'indices': [36, 51]}], 'urls': []}, metadata={'iso_language_code': 'en', 'result_type': 'recent'}, source='Twitter for Android', source_url='http://twitter.com/download/android', in_reply_to_status_id=1328765872823955457, in_reply_to_status_id_str='1328765872823955457', in_reply_to_user_id=998163810027388928, in_reply_to_user_id_str='998163810027388928', in_reply_to_screen_name='VamosVirat', author=User(_api=<tweepy.api.API object at 0x0000025E8D14BEF0>, _json={'id': 1270053432540438528, 'id_str': '1270053432540438528', 'name': 'Sanchita', 'screen_name': 'SanchitaSingla', 'location': '', 'description': '| Abnormally Normal |\\n\\n\\n\\n\\n\\n\\n\\n\\n\\n\\n\\n\\n\\n\\n\\n\\n\\n\\n\\n\\n\\n\\n\\n\\n\\n\\n\\n\\n\\n\\n\\n\\n\\n\\n\\n\\n\\n\\n\\n\\n\\n\\n\\n\\n\\n\\n\\n\\n\\n\\n| Indian 🇮🇳 |\\n| MBBS Student⚕️ |', 'url': None, 'entities': {'description': {'urls': []}}, 'protected': False, 'followers_count': 264, 'friends_count': 40, 'listed_count': 0, 'created_at': 'Mon Jun 08 18:01:57 +0000 2020', 'favourites_count': 425, 'utc_offset': None, 'time_zone': None, 'geo_enabled': False, 'verified': False, 'statuses_count': 866, 'lang': None, 'contributors_enabled': False, 'is_translator': False, 'is_translation_enabled': False, 'profile_background_color': 'F5F8FA', 'profile_background_image_url': None, 'profile_background_image_url_https': None, 'profile_background_tile': False, 'profile_image_url': 'http://pbs.twimg.com/profile_images/1317088798426030081/tf0lykQg_normal.jpg', 'profile_image_url_https': 'https://pbs.twimg.com/profile_images/1317088798426030081/tf0lykQg_normal.jpg', 'profile_link_color': '1DA1F2', 'profile_sidebar_border_color': 'C0DEED', 'profile_sidebar_fill_color': 'DDEEF6', 'profile_text_color': '333333', 'profile_use_background_image': True, 'has_extended_profile': False, 'default_profile': True, 'default_profile_image': False, 'following': False, 'follow_request_sent': False, 'notifications': False, 'translator_type': 'none'}, id=1270053432540438528, id_str='1270053432540438528', name='Sanchita', screen_name='SanchitaSingla', location='', description='| Abnormally Normal |\\n\\n\\n\\n\\n\\n\\n\\n\\n\\n\\n\\n\\n\\n\\n\\n\\n\\n\\n\\n\\n\\n\\n\\n\\n\\n\\n\\n\\n\\n\\n\\n\\n\\n\\n\\n\\n\\n\\n\\n\\n\\n\\n\\n\\n\\n\\n\\n\\n\\n\\n| Indian 🇮🇳 |\\n| MBBS Student⚕️ |', url=None, entities={'description': {'urls': []}}, protected=False, followers_count=264, friends_count=40, listed_count=0, created_at=datetime.datetime(2020, 6, 8, 18, 1, 57), favourites_count=425, utc_offset=None, time_zone=None, geo_enabled=False, verified=False, statuses_count=866, lang=None, contributors_enabled=False, is_translator=False, is_translation_enabled=False, profile_background_color='F5F8FA', profile_background_image_url=None, profile_background_image_url_https=None, profile_background_tile=False, profile_image_url='http://pbs.twimg.com/profile_images/1317088798426030081/tf0lykQg_normal.jpg', profile_image_url_https='https://pbs.twimg.com/profile_images/1317088798426030081/tf0lykQg_normal.jpg', profile_link_color='1DA1F2', profile_sidebar_border_color='C0DEED', profile_sidebar_fill_color='DDEEF6', profile_text_color='333333', profile_use_background_image=True, has_extended_profile=False, default_profile=True, default_profile_image=False, following=False, follow_request_sent=False, notifications=False, translator_type='none'), user=User(_api=<tweepy.api.API object at 0x0000025E8D14BEF0>, _json={'id': 1270053432540438528, 'id_str': '1270053432540438528', 'name': 'Sanchita', 'screen_name': 'SanchitaSingla', 'location': '', 'description': '| Abnormally Normal |\\n\\n\\n\\n\\n\\n\\n\\n\\n\\n\\n\\n\\n\\n\\n\\n\\n\\n\\n\\n\\n\\n\\n\\n\\n\\n\\n\\n\\n\\n\\n\\n\\n\\n\\n\\n\\n\\n\\n\\n\\n\\n\\n\\n\\n\\n\\n\\n\\n\\n\\n| Indian 🇮🇳 |\\n| MBBS Student⚕️ |', 'url': None, 'entities': {'description': {'urls': []}}, 'protected': False, 'followers_count': 264, 'friends_count': 40, 'listed_count': 0, 'created_at': 'Mon Jun 08 18:01:57 +0000 2020', 'favourites_count': 425, 'utc_offset': None, 'time_zone': None, 'geo_enabled': False, 'verified': False, 'statuses_count': 866, 'lang': None, 'contributors_enabled': False, 'is_translator': False, 'is_translation_enabled': False, 'profile_background_color': 'F5F8FA', 'profile_background_image_url': None, 'profile_background_image_url_https': None, 'profile_background_tile': False, 'profile_image_url': 'http://pbs.twimg.com/profile_images/1317088798426030081/tf0lykQg_normal.jpg', 'profile_image_url_https': 'https://pbs.twimg.com/profile_images/1317088798426030081/tf0lykQg_normal.jpg', 'profile_link_color': '1DA1F2', 'profile_sidebar_border_color': 'C0DEED', 'profile_sidebar_fill_color': 'DDEEF6', 'profile_text_color': '333333', 'profile_use_background_image': True, 'has_extended_profile': False, 'default_profile': True, 'default_profile_image': False, 'following': False, 'follow_request_sent': False, 'notifications': False, 'translator_type': 'none'}, id=1270053432540438528, id_str='1270053432540438528', name='Sanchita', screen_name='SanchitaSingla', location='', description='| Abnormally Normal |\\n\\n\\n\\n\\n\\n\\n\\n\\n\\n\\n\\n\\n\\n\\n\\n\\n\\n\\n\\n\\n\\n\\n\\n\\n\\n\\n\\n\\n\\n\\n\\n\\n\\n\\n\\n\\n\\n\\n\\n\\n\\n\\n\\n\\n\\n\\n\\n\\n\\n\\n| Indian 🇮🇳 |\\n| MBBS Student⚕️ |', url=None, entities={'description': {'urls': []}}, protected=False, followers_count=264, friends_count=40, listed_count=0, created_at=datetime.datetime(2020, 6, 8, 18, 1, 57), favourites_count=425, utc_offset=None, time_zone=None, geo_enabled=False, verified=False, statuses_count=866, lang=None, contributors_enabled=False, is_translator=False, is_translation_enabled=False, profile_background_color='F5F8FA', profile_background_image_url=None, profile_background_image_url_https=None, profile_background_tile=False, profile_image_url='http://pbs.twimg.com/profile_images/1317088798426030081/tf0lykQg_normal.jpg', profile_image_url_https='https://pbs.twimg.com/profile_images/1317088798426030081/tf0lykQg_normal.jpg', profile_link_color='1DA1F2', profile_sidebar_border_color='C0DEED', profile_sidebar_fill_color='DDEEF6', profile_text_color='333333', profile_use_background_image=True, has_extended_profile=False, default_profile=True, default_profile_image=False, following=False, follow_request_sent=False, notifications=False, translator_type='none'), geo=None, coordinates=None, place=None, contributors=None, is_quote_status=False, retweet_count=0, favorite_count=1, favorited=False, retweeted=False, lang='en') \n",
      "\n",
      ".....................................\n",
      "\n",
      "Status(_api=<tweepy.api.API object at 0x0000025E8D14BEF0>, _json={'created_at': 'Tue Nov 17 14:24:51 +0000 2020', 'id': 1328705665481592833, 'id_str': '1328705665481592833', 'full_text': \"Lahore winning PSL before RCB winning ipl will be so unfair but thn I can't stand imad wasim 🤢\", 'truncated': False, 'display_text_range': [0, 94], 'entities': {'hashtags': [], 'symbols': [], 'user_mentions': [], 'urls': []}, 'metadata': {'iso_language_code': 'en', 'result_type': 'recent'}, 'source': '<a href=\"http://twitter.com/download/android\" rel=\"nofollow\">Twitter for Android</a>', 'in_reply_to_status_id': None, 'in_reply_to_status_id_str': None, 'in_reply_to_user_id': None, 'in_reply_to_user_id_str': None, 'in_reply_to_screen_name': None, 'user': {'id': 1179274164848357377, 'id_str': '1179274164848357377', 'name': 'Farheen', 'screen_name': 'FrxRealMadrid', 'location': ':)', 'description': 'we are just a collection of atoms that come together for a brief period of time, and then we fall apart.', 'url': None, 'entities': {'description': {'urls': []}}, 'protected': False, 'followers_count': 311, 'friends_count': 447, 'listed_count': 0, 'created_at': 'Wed Oct 02 05:57:38 +0000 2019', 'favourites_count': 21617, 'utc_offset': None, 'time_zone': None, 'geo_enabled': True, 'verified': False, 'statuses_count': 18121, 'lang': None, 'contributors_enabled': False, 'is_translator': False, 'is_translation_enabled': False, 'profile_background_color': 'F5F8FA', 'profile_background_image_url': None, 'profile_background_image_url_https': None, 'profile_background_tile': False, 'profile_image_url': 'http://pbs.twimg.com/profile_images/1323381549744627712/rn8JQibb_normal.jpg', 'profile_image_url_https': 'https://pbs.twimg.com/profile_images/1323381549744627712/rn8JQibb_normal.jpg', 'profile_banner_url': 'https://pbs.twimg.com/profile_banners/1179274164848357377/1605473211', 'profile_link_color': '1DA1F2', 'profile_sidebar_border_color': 'C0DEED', 'profile_sidebar_fill_color': 'DDEEF6', 'profile_text_color': '333333', 'profile_use_background_image': True, 'has_extended_profile': False, 'default_profile': True, 'default_profile_image': False, 'following': False, 'follow_request_sent': False, 'notifications': False, 'translator_type': 'none'}, 'geo': None, 'coordinates': None, 'place': None, 'contributors': None, 'is_quote_status': False, 'retweet_count': 0, 'favorite_count': 10, 'favorited': False, 'retweeted': False, 'lang': 'en'}, created_at=datetime.datetime(2020, 11, 17, 14, 24, 51), id=1328705665481592833, id_str='1328705665481592833', full_text=\"Lahore winning PSL before RCB winning ipl will be so unfair but thn I can't stand imad wasim 🤢\", truncated=False, display_text_range=[0, 94], entities={'hashtags': [], 'symbols': [], 'user_mentions': [], 'urls': []}, metadata={'iso_language_code': 'en', 'result_type': 'recent'}, source='Twitter for Android', source_url='http://twitter.com/download/android', in_reply_to_status_id=None, in_reply_to_status_id_str=None, in_reply_to_user_id=None, in_reply_to_user_id_str=None, in_reply_to_screen_name=None, author=User(_api=<tweepy.api.API object at 0x0000025E8D14BEF0>, _json={'id': 1179274164848357377, 'id_str': '1179274164848357377', 'name': 'Farheen', 'screen_name': 'FrxRealMadrid', 'location': ':)', 'description': 'we are just a collection of atoms that come together for a brief period of time, and then we fall apart.', 'url': None, 'entities': {'description': {'urls': []}}, 'protected': False, 'followers_count': 311, 'friends_count': 447, 'listed_count': 0, 'created_at': 'Wed Oct 02 05:57:38 +0000 2019', 'favourites_count': 21617, 'utc_offset': None, 'time_zone': None, 'geo_enabled': True, 'verified': False, 'statuses_count': 18121, 'lang': None, 'contributors_enabled': False, 'is_translator': False, 'is_translation_enabled': False, 'profile_background_color': 'F5F8FA', 'profile_background_image_url': None, 'profile_background_image_url_https': None, 'profile_background_tile': False, 'profile_image_url': 'http://pbs.twimg.com/profile_images/1323381549744627712/rn8JQibb_normal.jpg', 'profile_image_url_https': 'https://pbs.twimg.com/profile_images/1323381549744627712/rn8JQibb_normal.jpg', 'profile_banner_url': 'https://pbs.twimg.com/profile_banners/1179274164848357377/1605473211', 'profile_link_color': '1DA1F2', 'profile_sidebar_border_color': 'C0DEED', 'profile_sidebar_fill_color': 'DDEEF6', 'profile_text_color': '333333', 'profile_use_background_image': True, 'has_extended_profile': False, 'default_profile': True, 'default_profile_image': False, 'following': False, 'follow_request_sent': False, 'notifications': False, 'translator_type': 'none'}, id=1179274164848357377, id_str='1179274164848357377', name='Farheen', screen_name='FrxRealMadrid', location=':)', description='we are just a collection of atoms that come together for a brief period of time, and then we fall apart.', url=None, entities={'description': {'urls': []}}, protected=False, followers_count=311, friends_count=447, listed_count=0, created_at=datetime.datetime(2019, 10, 2, 5, 57, 38), favourites_count=21617, utc_offset=None, time_zone=None, geo_enabled=True, verified=False, statuses_count=18121, lang=None, contributors_enabled=False, is_translator=False, is_translation_enabled=False, profile_background_color='F5F8FA', profile_background_image_url=None, profile_background_image_url_https=None, profile_background_tile=False, profile_image_url='http://pbs.twimg.com/profile_images/1323381549744627712/rn8JQibb_normal.jpg', profile_image_url_https='https://pbs.twimg.com/profile_images/1323381549744627712/rn8JQibb_normal.jpg', profile_banner_url='https://pbs.twimg.com/profile_banners/1179274164848357377/1605473211', profile_link_color='1DA1F2', profile_sidebar_border_color='C0DEED', profile_sidebar_fill_color='DDEEF6', profile_text_color='333333', profile_use_background_image=True, has_extended_profile=False, default_profile=True, default_profile_image=False, following=False, follow_request_sent=False, notifications=False, translator_type='none'), user=User(_api=<tweepy.api.API object at 0x0000025E8D14BEF0>, _json={'id': 1179274164848357377, 'id_str': '1179274164848357377', 'name': 'Farheen', 'screen_name': 'FrxRealMadrid', 'location': ':)', 'description': 'we are just a collection of atoms that come together for a brief period of time, and then we fall apart.', 'url': None, 'entities': {'description': {'urls': []}}, 'protected': False, 'followers_count': 311, 'friends_count': 447, 'listed_count': 0, 'created_at': 'Wed Oct 02 05:57:38 +0000 2019', 'favourites_count': 21617, 'utc_offset': None, 'time_zone': None, 'geo_enabled': True, 'verified': False, 'statuses_count': 18121, 'lang': None, 'contributors_enabled': False, 'is_translator': False, 'is_translation_enabled': False, 'profile_background_color': 'F5F8FA', 'profile_background_image_url': None, 'profile_background_image_url_https': None, 'profile_background_tile': False, 'profile_image_url': 'http://pbs.twimg.com/profile_images/1323381549744627712/rn8JQibb_normal.jpg', 'profile_image_url_https': 'https://pbs.twimg.com/profile_images/1323381549744627712/rn8JQibb_normal.jpg', 'profile_banner_url': 'https://pbs.twimg.com/profile_banners/1179274164848357377/1605473211', 'profile_link_color': '1DA1F2', 'profile_sidebar_border_color': 'C0DEED', 'profile_sidebar_fill_color': 'DDEEF6', 'profile_text_color': '333333', 'profile_use_background_image': True, 'has_extended_profile': False, 'default_profile': True, 'default_profile_image': False, 'following': False, 'follow_request_sent': False, 'notifications': False, 'translator_type': 'none'}, id=1179274164848357377, id_str='1179274164848357377', name='Farheen', screen_name='FrxRealMadrid', location=':)', description='we are just a collection of atoms that come together for a brief period of time, and then we fall apart.', url=None, entities={'description': {'urls': []}}, protected=False, followers_count=311, friends_count=447, listed_count=0, created_at=datetime.datetime(2019, 10, 2, 5, 57, 38), favourites_count=21617, utc_offset=None, time_zone=None, geo_enabled=True, verified=False, statuses_count=18121, lang=None, contributors_enabled=False, is_translator=False, is_translation_enabled=False, profile_background_color='F5F8FA', profile_background_image_url=None, profile_background_image_url_https=None, profile_background_tile=False, profile_image_url='http://pbs.twimg.com/profile_images/1323381549744627712/rn8JQibb_normal.jpg', profile_image_url_https='https://pbs.twimg.com/profile_images/1323381549744627712/rn8JQibb_normal.jpg', profile_banner_url='https://pbs.twimg.com/profile_banners/1179274164848357377/1605473211', profile_link_color='1DA1F2', profile_sidebar_border_color='C0DEED', profile_sidebar_fill_color='DDEEF6', profile_text_color='333333', profile_use_background_image=True, has_extended_profile=False, default_profile=True, default_profile_image=False, following=False, follow_request_sent=False, notifications=False, translator_type='none'), geo=None, coordinates=None, place=None, contributors=None, is_quote_status=False, retweet_count=0, favorite_count=10, favorited=False, retweeted=False, lang='en') \n",
      "\n",
      ".....................................\n",
      "\n",
      "Status(_api=<tweepy.api.API object at 0x0000025E8D14BEF0>, _json={'created_at': 'Tue Nov 17 10:45:08 +0000 2020', 'id': 1328650372068458497, 'id_str': '1328650372068458497', 'full_text': 'Thak gaya hu Vro,,\\nRCB ko ipl na jeet ta hua dekh dekh ke,,\\n\\nPS:- its that time of the day when I binge watch RCB insider videos for 2 hours straight and overthink about RCB not winning and start feeling Sed again 😔 https://t.co/1uDJ7YeCbt', 'truncated': False, 'display_text_range': [0, 215], 'entities': {'hashtags': [], 'symbols': [], 'user_mentions': [], 'urls': [], 'media': [{'id': 1328650365533777920, 'id_str': '1328650365533777920', 'indices': [216, 239], 'media_url': 'http://pbs.twimg.com/media/EnBQd8xVcAAIGGi.jpg', 'media_url_https': 'https://pbs.twimg.com/media/EnBQd8xVcAAIGGi.jpg', 'url': 'https://t.co/1uDJ7YeCbt', 'display_url': 'pic.twitter.com/1uDJ7YeCbt', 'expanded_url': 'https://twitter.com/sarikaaaa__/status/1328650372068458497/photo/1', 'type': 'photo', 'sizes': {'thumb': {'w': 150, 'h': 150, 'resize': 'crop'}, 'small': {'w': 442, 'h': 247, 'resize': 'fit'}, 'large': {'w': 442, 'h': 247, 'resize': 'fit'}, 'medium': {'w': 442, 'h': 247, 'resize': 'fit'}}}]}, 'extended_entities': {'media': [{'id': 1328650365533777920, 'id_str': '1328650365533777920', 'indices': [216, 239], 'media_url': 'http://pbs.twimg.com/media/EnBQd8xVcAAIGGi.jpg', 'media_url_https': 'https://pbs.twimg.com/media/EnBQd8xVcAAIGGi.jpg', 'url': 'https://t.co/1uDJ7YeCbt', 'display_url': 'pic.twitter.com/1uDJ7YeCbt', 'expanded_url': 'https://twitter.com/sarikaaaa__/status/1328650372068458497/photo/1', 'type': 'photo', 'sizes': {'thumb': {'w': 150, 'h': 150, 'resize': 'crop'}, 'small': {'w': 442, 'h': 247, 'resize': 'fit'}, 'large': {'w': 442, 'h': 247, 'resize': 'fit'}, 'medium': {'w': 442, 'h': 247, 'resize': 'fit'}}}]}, 'metadata': {'iso_language_code': 'en', 'result_type': 'recent'}, 'source': '<a href=\"http://twitter.com/download/iphone\" rel=\"nofollow\">Twitter for iPhone</a>', 'in_reply_to_status_id': None, 'in_reply_to_status_id_str': None, 'in_reply_to_user_id': None, 'in_reply_to_user_id_str': None, 'in_reply_to_screen_name': None, 'user': {'id': 1326202731032272896, 'id_str': '1326202731032272896', 'name': 'Sarika.🕊 HEER STAN ACCOUNT', 'screen_name': 'sarikaaaa__', 'location': 'Banglore/Indore ', 'description': 'bedard thi zindagi, bedard heii.....✨she/her', 'url': None, 'entities': {'description': {'urls': []}}, 'protected': False, 'followers_count': 100, 'friends_count': 93, 'listed_count': 1, 'created_at': 'Tue Nov 10 16:39:21 +0000 2020', 'favourites_count': 1253, 'utc_offset': None, 'time_zone': None, 'geo_enabled': False, 'verified': False, 'statuses_count': 1155, 'lang': None, 'contributors_enabled': False, 'is_translator': False, 'is_translation_enabled': False, 'profile_background_color': 'F5F8FA', 'profile_background_image_url': None, 'profile_background_image_url_https': None, 'profile_background_tile': False, 'profile_image_url': 'http://pbs.twimg.com/profile_images/1327210779058192384/tVg8lM68_normal.jpg', 'profile_image_url_https': 'https://pbs.twimg.com/profile_images/1327210779058192384/tVg8lM68_normal.jpg', 'profile_banner_url': 'https://pbs.twimg.com/profile_banners/1326202731032272896/1605266684', 'profile_link_color': '1DA1F2', 'profile_sidebar_border_color': 'C0DEED', 'profile_sidebar_fill_color': 'DDEEF6', 'profile_text_color': '333333', 'profile_use_background_image': True, 'has_extended_profile': True, 'default_profile': True, 'default_profile_image': False, 'following': False, 'follow_request_sent': False, 'notifications': False, 'translator_type': 'none'}, 'geo': None, 'coordinates': None, 'place': None, 'contributors': None, 'is_quote_status': False, 'retweet_count': 0, 'favorite_count': 8, 'favorited': False, 'retweeted': False, 'possibly_sensitive': False, 'lang': 'en'}, created_at=datetime.datetime(2020, 11, 17, 10, 45, 8), id=1328650372068458497, id_str='1328650372068458497', full_text='Thak gaya hu Vro,,\\nRCB ko ipl na jeet ta hua dekh dekh ke,,\\n\\nPS:- its that time of the day when I binge watch RCB insider videos for 2 hours straight and overthink about RCB not winning and start feeling Sed again 😔 https://t.co/1uDJ7YeCbt', truncated=False, display_text_range=[0, 215], entities={'hashtags': [], 'symbols': [], 'user_mentions': [], 'urls': [], 'media': [{'id': 1328650365533777920, 'id_str': '1328650365533777920', 'indices': [216, 239], 'media_url': 'http://pbs.twimg.com/media/EnBQd8xVcAAIGGi.jpg', 'media_url_https': 'https://pbs.twimg.com/media/EnBQd8xVcAAIGGi.jpg', 'url': 'https://t.co/1uDJ7YeCbt', 'display_url': 'pic.twitter.com/1uDJ7YeCbt', 'expanded_url': 'https://twitter.com/sarikaaaa__/status/1328650372068458497/photo/1', 'type': 'photo', 'sizes': {'thumb': {'w': 150, 'h': 150, 'resize': 'crop'}, 'small': {'w': 442, 'h': 247, 'resize': 'fit'}, 'large': {'w': 442, 'h': 247, 'resize': 'fit'}, 'medium': {'w': 442, 'h': 247, 'resize': 'fit'}}}]}, extended_entities={'media': [{'id': 1328650365533777920, 'id_str': '1328650365533777920', 'indices': [216, 239], 'media_url': 'http://pbs.twimg.com/media/EnBQd8xVcAAIGGi.jpg', 'media_url_https': 'https://pbs.twimg.com/media/EnBQd8xVcAAIGGi.jpg', 'url': 'https://t.co/1uDJ7YeCbt', 'display_url': 'pic.twitter.com/1uDJ7YeCbt', 'expanded_url': 'https://twitter.com/sarikaaaa__/status/1328650372068458497/photo/1', 'type': 'photo', 'sizes': {'thumb': {'w': 150, 'h': 150, 'resize': 'crop'}, 'small': {'w': 442, 'h': 247, 'resize': 'fit'}, 'large': {'w': 442, 'h': 247, 'resize': 'fit'}, 'medium': {'w': 442, 'h': 247, 'resize': 'fit'}}}]}, metadata={'iso_language_code': 'en', 'result_type': 'recent'}, source='Twitter for iPhone', source_url='http://twitter.com/download/iphone', in_reply_to_status_id=None, in_reply_to_status_id_str=None, in_reply_to_user_id=None, in_reply_to_user_id_str=None, in_reply_to_screen_name=None, author=User(_api=<tweepy.api.API object at 0x0000025E8D14BEF0>, _json={'id': 1326202731032272896, 'id_str': '1326202731032272896', 'name': 'Sarika.🕊 HEER STAN ACCOUNT', 'screen_name': 'sarikaaaa__', 'location': 'Banglore/Indore ', 'description': 'bedard thi zindagi, bedard heii.....✨she/her', 'url': None, 'entities': {'description': {'urls': []}}, 'protected': False, 'followers_count': 100, 'friends_count': 93, 'listed_count': 1, 'created_at': 'Tue Nov 10 16:39:21 +0000 2020', 'favourites_count': 1253, 'utc_offset': None, 'time_zone': None, 'geo_enabled': False, 'verified': False, 'statuses_count': 1155, 'lang': None, 'contributors_enabled': False, 'is_translator': False, 'is_translation_enabled': False, 'profile_background_color': 'F5F8FA', 'profile_background_image_url': None, 'profile_background_image_url_https': None, 'profile_background_tile': False, 'profile_image_url': 'http://pbs.twimg.com/profile_images/1327210779058192384/tVg8lM68_normal.jpg', 'profile_image_url_https': 'https://pbs.twimg.com/profile_images/1327210779058192384/tVg8lM68_normal.jpg', 'profile_banner_url': 'https://pbs.twimg.com/profile_banners/1326202731032272896/1605266684', 'profile_link_color': '1DA1F2', 'profile_sidebar_border_color': 'C0DEED', 'profile_sidebar_fill_color': 'DDEEF6', 'profile_text_color': '333333', 'profile_use_background_image': True, 'has_extended_profile': True, 'default_profile': True, 'default_profile_image': False, 'following': False, 'follow_request_sent': False, 'notifications': False, 'translator_type': 'none'}, id=1326202731032272896, id_str='1326202731032272896', name='Sarika.🕊 HEER STAN ACCOUNT', screen_name='sarikaaaa__', location='Banglore/Indore ', description='bedard thi zindagi, bedard heii.....✨she/her', url=None, entities={'description': {'urls': []}}, protected=False, followers_count=100, friends_count=93, listed_count=1, created_at=datetime.datetime(2020, 11, 10, 16, 39, 21), favourites_count=1253, utc_offset=None, time_zone=None, geo_enabled=False, verified=False, statuses_count=1155, lang=None, contributors_enabled=False, is_translator=False, is_translation_enabled=False, profile_background_color='F5F8FA', profile_background_image_url=None, profile_background_image_url_https=None, profile_background_tile=False, profile_image_url='http://pbs.twimg.com/profile_images/1327210779058192384/tVg8lM68_normal.jpg', profile_image_url_https='https://pbs.twimg.com/profile_images/1327210779058192384/tVg8lM68_normal.jpg', profile_banner_url='https://pbs.twimg.com/profile_banners/1326202731032272896/1605266684', profile_link_color='1DA1F2', profile_sidebar_border_color='C0DEED', profile_sidebar_fill_color='DDEEF6', profile_text_color='333333', profile_use_background_image=True, has_extended_profile=True, default_profile=True, default_profile_image=False, following=False, follow_request_sent=False, notifications=False, translator_type='none'), user=User(_api=<tweepy.api.API object at 0x0000025E8D14BEF0>, _json={'id': 1326202731032272896, 'id_str': '1326202731032272896', 'name': 'Sarika.🕊 HEER STAN ACCOUNT', 'screen_name': 'sarikaaaa__', 'location': 'Banglore/Indore ', 'description': 'bedard thi zindagi, bedard heii.....✨she/her', 'url': None, 'entities': {'description': {'urls': []}}, 'protected': False, 'followers_count': 100, 'friends_count': 93, 'listed_count': 1, 'created_at': 'Tue Nov 10 16:39:21 +0000 2020', 'favourites_count': 1253, 'utc_offset': None, 'time_zone': None, 'geo_enabled': False, 'verified': False, 'statuses_count': 1155, 'lang': None, 'contributors_enabled': False, 'is_translator': False, 'is_translation_enabled': False, 'profile_background_color': 'F5F8FA', 'profile_background_image_url': None, 'profile_background_image_url_https': None, 'profile_background_tile': False, 'profile_image_url': 'http://pbs.twimg.com/profile_images/1327210779058192384/tVg8lM68_normal.jpg', 'profile_image_url_https': 'https://pbs.twimg.com/profile_images/1327210779058192384/tVg8lM68_normal.jpg', 'profile_banner_url': 'https://pbs.twimg.com/profile_banners/1326202731032272896/1605266684', 'profile_link_color': '1DA1F2', 'profile_sidebar_border_color': 'C0DEED', 'profile_sidebar_fill_color': 'DDEEF6', 'profile_text_color': '333333', 'profile_use_background_image': True, 'has_extended_profile': True, 'default_profile': True, 'default_profile_image': False, 'following': False, 'follow_request_sent': False, 'notifications': False, 'translator_type': 'none'}, id=1326202731032272896, id_str='1326202731032272896', name='Sarika.🕊 HEER STAN ACCOUNT', screen_name='sarikaaaa__', location='Banglore/Indore ', description='bedard thi zindagi, bedard heii.....✨she/her', url=None, entities={'description': {'urls': []}}, protected=False, followers_count=100, friends_count=93, listed_count=1, created_at=datetime.datetime(2020, 11, 10, 16, 39, 21), favourites_count=1253, utc_offset=None, time_zone=None, geo_enabled=False, verified=False, statuses_count=1155, lang=None, contributors_enabled=False, is_translator=False, is_translation_enabled=False, profile_background_color='F5F8FA', profile_background_image_url=None, profile_background_image_url_https=None, profile_background_tile=False, profile_image_url='http://pbs.twimg.com/profile_images/1327210779058192384/tVg8lM68_normal.jpg', profile_image_url_https='https://pbs.twimg.com/profile_images/1327210779058192384/tVg8lM68_normal.jpg', profile_banner_url='https://pbs.twimg.com/profile_banners/1326202731032272896/1605266684', profile_link_color='1DA1F2', profile_sidebar_border_color='C0DEED', profile_sidebar_fill_color='DDEEF6', profile_text_color='333333', profile_use_background_image=True, has_extended_profile=True, default_profile=True, default_profile_image=False, following=False, follow_request_sent=False, notifications=False, translator_type='none'), geo=None, coordinates=None, place=None, contributors=None, is_quote_status=False, retweet_count=0, favorite_count=8, favorited=False, retweeted=False, possibly_sensitive=False, lang='en') \n",
      "\n",
      ".....................................\n",
      "\n",
      "Status(_api=<tweepy.api.API object at 0x0000025E8D14BEF0>, _json={'created_at': 'Tue Nov 17 10:42:13 +0000 2020', 'id': 1328649638165966848, 'id_str': '1328649638165966848', 'full_text': '@Lfc_Maneesh @imVkohli @imVkohli  is not a bad captain. He is captain of a bad team. Without out improving rcb they cant win any titles.\\nIPL kids cant understand what is the important of virat kohli in india .\\n@DelhiCapitals And @kxip are continuosly changing their captain still no winning cups????', 'truncated': False, 'display_text_range': [23, 299], 'entities': {'hashtags': [], 'symbols': [], 'user_mentions': [{'screen_name': 'Lfc_Maneesh', 'name': 'MG', 'id': 1301952421116014592, 'id_str': '1301952421116014592', 'indices': [0, 12]}, {'screen_name': 'imVkohli', 'name': 'Virat Kohli', 'id': 71201743, 'id_str': '71201743', 'indices': [13, 22]}, {'screen_name': 'imVkohli', 'name': 'Virat Kohli', 'id': 71201743, 'id_str': '71201743', 'indices': [23, 32]}, {'screen_name': 'DelhiCapitals', 'name': 'Delhi Capitals', 'id': 176888549, 'id_str': '176888549', 'indices': [210, 224]}, {'screen_name': 'kxip', 'name': 'kings xi Punjab', 'id': 182933953, 'id_str': '182933953', 'indices': [229, 234]}], 'urls': []}, 'metadata': {'iso_language_code': 'en', 'result_type': 'recent'}, 'source': '<a href=\"http://twitter.com/download/android\" rel=\"nofollow\">Twitter for Android</a>', 'in_reply_to_status_id': 1328580731317219333, 'in_reply_to_status_id_str': '1328580731317219333', 'in_reply_to_user_id': 1301952421116014592, 'in_reply_to_user_id_str': '1301952421116014592', 'in_reply_to_screen_name': 'Lfc_Maneesh', 'user': {'id': 1311232364857548802, 'id_str': '1311232364857548802', 'name': '_ms_anand_padmanabhan', 'screen_name': 'ms_padmanabhan', 'location': '', 'description': 'A sports😁 detecter😉', 'url': None, 'entities': {'description': {'urls': []}}, 'protected': False, 'followers_count': 0, 'friends_count': 72, 'listed_count': 0, 'created_at': 'Wed Sep 30 09:12:27 +0000 2020', 'favourites_count': 117, 'utc_offset': None, 'time_zone': None, 'geo_enabled': False, 'verified': False, 'statuses_count': 14, 'lang': None, 'contributors_enabled': False, 'is_translator': False, 'is_translation_enabled': False, 'profile_background_color': 'F5F8FA', 'profile_background_image_url': None, 'profile_background_image_url_https': None, 'profile_background_tile': False, 'profile_image_url': 'http://pbs.twimg.com/profile_images/1323458398373900289/v0ormMR9_normal.jpg', 'profile_image_url_https': 'https://pbs.twimg.com/profile_images/1323458398373900289/v0ormMR9_normal.jpg', 'profile_banner_url': 'https://pbs.twimg.com/profile_banners/1311232364857548802/1603043628', 'profile_link_color': '1DA1F2', 'profile_sidebar_border_color': 'C0DEED', 'profile_sidebar_fill_color': 'DDEEF6', 'profile_text_color': '333333', 'profile_use_background_image': True, 'has_extended_profile': False, 'default_profile': True, 'default_profile_image': False, 'following': False, 'follow_request_sent': False, 'notifications': False, 'translator_type': 'none'}, 'geo': None, 'coordinates': None, 'place': None, 'contributors': None, 'is_quote_status': False, 'retweet_count': 0, 'favorite_count': 5, 'favorited': False, 'retweeted': False, 'lang': 'en'}, created_at=datetime.datetime(2020, 11, 17, 10, 42, 13), id=1328649638165966848, id_str='1328649638165966848', full_text='@Lfc_Maneesh @imVkohli @imVkohli  is not a bad captain. He is captain of a bad team. Without out improving rcb they cant win any titles.\\nIPL kids cant understand what is the important of virat kohli in india .\\n@DelhiCapitals And @kxip are continuosly changing their captain still no winning cups????', truncated=False, display_text_range=[23, 299], entities={'hashtags': [], 'symbols': [], 'user_mentions': [{'screen_name': 'Lfc_Maneesh', 'name': 'MG', 'id': 1301952421116014592, 'id_str': '1301952421116014592', 'indices': [0, 12]}, {'screen_name': 'imVkohli', 'name': 'Virat Kohli', 'id': 71201743, 'id_str': '71201743', 'indices': [13, 22]}, {'screen_name': 'imVkohli', 'name': 'Virat Kohli', 'id': 71201743, 'id_str': '71201743', 'indices': [23, 32]}, {'screen_name': 'DelhiCapitals', 'name': 'Delhi Capitals', 'id': 176888549, 'id_str': '176888549', 'indices': [210, 224]}, {'screen_name': 'kxip', 'name': 'kings xi Punjab', 'id': 182933953, 'id_str': '182933953', 'indices': [229, 234]}], 'urls': []}, metadata={'iso_language_code': 'en', 'result_type': 'recent'}, source='Twitter for Android', source_url='http://twitter.com/download/android', in_reply_to_status_id=1328580731317219333, in_reply_to_status_id_str='1328580731317219333', in_reply_to_user_id=1301952421116014592, in_reply_to_user_id_str='1301952421116014592', in_reply_to_screen_name='Lfc_Maneesh', author=User(_api=<tweepy.api.API object at 0x0000025E8D14BEF0>, _json={'id': 1311232364857548802, 'id_str': '1311232364857548802', 'name': '_ms_anand_padmanabhan', 'screen_name': 'ms_padmanabhan', 'location': '', 'description': 'A sports😁 detecter😉', 'url': None, 'entities': {'description': {'urls': []}}, 'protected': False, 'followers_count': 0, 'friends_count': 72, 'listed_count': 0, 'created_at': 'Wed Sep 30 09:12:27 +0000 2020', 'favourites_count': 117, 'utc_offset': None, 'time_zone': None, 'geo_enabled': False, 'verified': False, 'statuses_count': 14, 'lang': None, 'contributors_enabled': False, 'is_translator': False, 'is_translation_enabled': False, 'profile_background_color': 'F5F8FA', 'profile_background_image_url': None, 'profile_background_image_url_https': None, 'profile_background_tile': False, 'profile_image_url': 'http://pbs.twimg.com/profile_images/1323458398373900289/v0ormMR9_normal.jpg', 'profile_image_url_https': 'https://pbs.twimg.com/profile_images/1323458398373900289/v0ormMR9_normal.jpg', 'profile_banner_url': 'https://pbs.twimg.com/profile_banners/1311232364857548802/1603043628', 'profile_link_color': '1DA1F2', 'profile_sidebar_border_color': 'C0DEED', 'profile_sidebar_fill_color': 'DDEEF6', 'profile_text_color': '333333', 'profile_use_background_image': True, 'has_extended_profile': False, 'default_profile': True, 'default_profile_image': False, 'following': False, 'follow_request_sent': False, 'notifications': False, 'translator_type': 'none'}, id=1311232364857548802, id_str='1311232364857548802', name='_ms_anand_padmanabhan', screen_name='ms_padmanabhan', location='', description='A sports😁 detecter😉', url=None, entities={'description': {'urls': []}}, protected=False, followers_count=0, friends_count=72, listed_count=0, created_at=datetime.datetime(2020, 9, 30, 9, 12, 27), favourites_count=117, utc_offset=None, time_zone=None, geo_enabled=False, verified=False, statuses_count=14, lang=None, contributors_enabled=False, is_translator=False, is_translation_enabled=False, profile_background_color='F5F8FA', profile_background_image_url=None, profile_background_image_url_https=None, profile_background_tile=False, profile_image_url='http://pbs.twimg.com/profile_images/1323458398373900289/v0ormMR9_normal.jpg', profile_image_url_https='https://pbs.twimg.com/profile_images/1323458398373900289/v0ormMR9_normal.jpg', profile_banner_url='https://pbs.twimg.com/profile_banners/1311232364857548802/1603043628', profile_link_color='1DA1F2', profile_sidebar_border_color='C0DEED', profile_sidebar_fill_color='DDEEF6', profile_text_color='333333', profile_use_background_image=True, has_extended_profile=False, default_profile=True, default_profile_image=False, following=False, follow_request_sent=False, notifications=False, translator_type='none'), user=User(_api=<tweepy.api.API object at 0x0000025E8D14BEF0>, _json={'id': 1311232364857548802, 'id_str': '1311232364857548802', 'name': '_ms_anand_padmanabhan', 'screen_name': 'ms_padmanabhan', 'location': '', 'description': 'A sports😁 detecter😉', 'url': None, 'entities': {'description': {'urls': []}}, 'protected': False, 'followers_count': 0, 'friends_count': 72, 'listed_count': 0, 'created_at': 'Wed Sep 30 09:12:27 +0000 2020', 'favourites_count': 117, 'utc_offset': None, 'time_zone': None, 'geo_enabled': False, 'verified': False, 'statuses_count': 14, 'lang': None, 'contributors_enabled': False, 'is_translator': False, 'is_translation_enabled': False, 'profile_background_color': 'F5F8FA', 'profile_background_image_url': None, 'profile_background_image_url_https': None, 'profile_background_tile': False, 'profile_image_url': 'http://pbs.twimg.com/profile_images/1323458398373900289/v0ormMR9_normal.jpg', 'profile_image_url_https': 'https://pbs.twimg.com/profile_images/1323458398373900289/v0ormMR9_normal.jpg', 'profile_banner_url': 'https://pbs.twimg.com/profile_banners/1311232364857548802/1603043628', 'profile_link_color': '1DA1F2', 'profile_sidebar_border_color': 'C0DEED', 'profile_sidebar_fill_color': 'DDEEF6', 'profile_text_color': '333333', 'profile_use_background_image': True, 'has_extended_profile': False, 'default_profile': True, 'default_profile_image': False, 'following': False, 'follow_request_sent': False, 'notifications': False, 'translator_type': 'none'}, id=1311232364857548802, id_str='1311232364857548802', name='_ms_anand_padmanabhan', screen_name='ms_padmanabhan', location='', description='A sports😁 detecter😉', url=None, entities={'description': {'urls': []}}, protected=False, followers_count=0, friends_count=72, listed_count=0, created_at=datetime.datetime(2020, 9, 30, 9, 12, 27), favourites_count=117, utc_offset=None, time_zone=None, geo_enabled=False, verified=False, statuses_count=14, lang=None, contributors_enabled=False, is_translator=False, is_translation_enabled=False, profile_background_color='F5F8FA', profile_background_image_url=None, profile_background_image_url_https=None, profile_background_tile=False, profile_image_url='http://pbs.twimg.com/profile_images/1323458398373900289/v0ormMR9_normal.jpg', profile_image_url_https='https://pbs.twimg.com/profile_images/1323458398373900289/v0ormMR9_normal.jpg', profile_banner_url='https://pbs.twimg.com/profile_banners/1311232364857548802/1603043628', profile_link_color='1DA1F2', profile_sidebar_border_color='C0DEED', profile_sidebar_fill_color='DDEEF6', profile_text_color='333333', profile_use_background_image=True, has_extended_profile=False, default_profile=True, default_profile_image=False, following=False, follow_request_sent=False, notifications=False, translator_type='none'), geo=None, coordinates=None, place=None, contributors=None, is_quote_status=False, retweet_count=0, favorite_count=5, favorited=False, retweeted=False, lang='en') \n",
      "\n",
      ".....................................\n",
      "\n",
      "Status(_api=<tweepy.api.API object at 0x0000025E8D14BEF0>, _json={'created_at': 'Tue Nov 17 07:42:11 +0000 2020', 'id': 1328604331197800449, 'id_str': '1328604331197800449', 'full_text': '@ClumsyDesii As real as rcb’s chances of winning ipl every year', 'truncated': False, 'display_text_range': [13, 63], 'entities': {'hashtags': [], 'symbols': [], 'user_mentions': [{'screen_name': 'ClumsyDesii', 'name': 'Butter Naan', 'id': 822451990076657665, 'id_str': '822451990076657665', 'indices': [0, 12]}], 'urls': []}, 'metadata': {'iso_language_code': 'en', 'result_type': 'recent'}, 'source': '<a href=\"http://twitter.com/download/iphone\" rel=\"nofollow\">Twitter for iPhone</a>', 'in_reply_to_status_id': 1328603111896850434, 'in_reply_to_status_id_str': '1328603111896850434', 'in_reply_to_user_id': 822451990076657665, 'in_reply_to_user_id_str': '822451990076657665', 'in_reply_to_screen_name': 'ClumsyDesii', 'user': {'id': 1201857604982435840, 'id_str': '1201857604982435840', 'name': 'HKS', 'screen_name': 'hargunks185', 'location': 'New Delhi, India', 'description': 'she/her; 19; If it involves Bollywood movies, cricket, McD, sunsets & music- I AM IN !', 'url': 'https://t.co/OMONlumZRs', 'entities': {'url': {'urls': [{'url': 'https://t.co/OMONlumZRs', 'expanded_url': 'http://www.instagram.com/everyday_musings_', 'display_url': 'instagram.com/everyday_musin…', 'indices': [0, 23]}]}, 'description': {'urls': []}}, 'protected': False, 'followers_count': 1172, 'friends_count': 384, 'listed_count': 6, 'created_at': 'Tue Dec 03 13:36:06 +0000 2019', 'favourites_count': 35664, 'utc_offset': None, 'time_zone': None, 'geo_enabled': True, 'verified': False, 'statuses_count': 20573, 'lang': None, 'contributors_enabled': False, 'is_translator': False, 'is_translation_enabled': False, 'profile_background_color': 'F5F8FA', 'profile_background_image_url': None, 'profile_background_image_url_https': None, 'profile_background_tile': False, 'profile_image_url': 'http://pbs.twimg.com/profile_images/1326367322089664512/DMMAnRFg_normal.jpg', 'profile_image_url_https': 'https://pbs.twimg.com/profile_images/1326367322089664512/DMMAnRFg_normal.jpg', 'profile_banner_url': 'https://pbs.twimg.com/profile_banners/1201857604982435840/1604928657', 'profile_link_color': '1DA1F2', 'profile_sidebar_border_color': 'C0DEED', 'profile_sidebar_fill_color': 'DDEEF6', 'profile_text_color': '333333', 'profile_use_background_image': True, 'has_extended_profile': True, 'default_profile': True, 'default_profile_image': False, 'following': False, 'follow_request_sent': False, 'notifications': False, 'translator_type': 'none'}, 'geo': None, 'coordinates': None, 'place': None, 'contributors': None, 'is_quote_status': False, 'retweet_count': 0, 'favorite_count': 14, 'favorited': False, 'retweeted': False, 'lang': 'en'}, created_at=datetime.datetime(2020, 11, 17, 7, 42, 11), id=1328604331197800449, id_str='1328604331197800449', full_text='@ClumsyDesii As real as rcb’s chances of winning ipl every year', truncated=False, display_text_range=[13, 63], entities={'hashtags': [], 'symbols': [], 'user_mentions': [{'screen_name': 'ClumsyDesii', 'name': 'Butter Naan', 'id': 822451990076657665, 'id_str': '822451990076657665', 'indices': [0, 12]}], 'urls': []}, metadata={'iso_language_code': 'en', 'result_type': 'recent'}, source='Twitter for iPhone', source_url='http://twitter.com/download/iphone', in_reply_to_status_id=1328603111896850434, in_reply_to_status_id_str='1328603111896850434', in_reply_to_user_id=822451990076657665, in_reply_to_user_id_str='822451990076657665', in_reply_to_screen_name='ClumsyDesii', author=User(_api=<tweepy.api.API object at 0x0000025E8D14BEF0>, _json={'id': 1201857604982435840, 'id_str': '1201857604982435840', 'name': 'HKS', 'screen_name': 'hargunks185', 'location': 'New Delhi, India', 'description': 'she/her; 19; If it involves Bollywood movies, cricket, McD, sunsets & music- I AM IN !', 'url': 'https://t.co/OMONlumZRs', 'entities': {'url': {'urls': [{'url': 'https://t.co/OMONlumZRs', 'expanded_url': 'http://www.instagram.com/everyday_musings_', 'display_url': 'instagram.com/everyday_musin…', 'indices': [0, 23]}]}, 'description': {'urls': []}}, 'protected': False, 'followers_count': 1172, 'friends_count': 384, 'listed_count': 6, 'created_at': 'Tue Dec 03 13:36:06 +0000 2019', 'favourites_count': 35664, 'utc_offset': None, 'time_zone': None, 'geo_enabled': True, 'verified': False, 'statuses_count': 20573, 'lang': None, 'contributors_enabled': False, 'is_translator': False, 'is_translation_enabled': False, 'profile_background_color': 'F5F8FA', 'profile_background_image_url': None, 'profile_background_image_url_https': None, 'profile_background_tile': False, 'profile_image_url': 'http://pbs.twimg.com/profile_images/1326367322089664512/DMMAnRFg_normal.jpg', 'profile_image_url_https': 'https://pbs.twimg.com/profile_images/1326367322089664512/DMMAnRFg_normal.jpg', 'profile_banner_url': 'https://pbs.twimg.com/profile_banners/1201857604982435840/1604928657', 'profile_link_color': '1DA1F2', 'profile_sidebar_border_color': 'C0DEED', 'profile_sidebar_fill_color': 'DDEEF6', 'profile_text_color': '333333', 'profile_use_background_image': True, 'has_extended_profile': True, 'default_profile': True, 'default_profile_image': False, 'following': False, 'follow_request_sent': False, 'notifications': False, 'translator_type': 'none'}, id=1201857604982435840, id_str='1201857604982435840', name='HKS', screen_name='hargunks185', location='New Delhi, India', description='she/her; 19; If it involves Bollywood movies, cricket, McD, sunsets & music- I AM IN !', url='https://t.co/OMONlumZRs', entities={'url': {'urls': [{'url': 'https://t.co/OMONlumZRs', 'expanded_url': 'http://www.instagram.com/everyday_musings_', 'display_url': 'instagram.com/everyday_musin…', 'indices': [0, 23]}]}, 'description': {'urls': []}}, protected=False, followers_count=1172, friends_count=384, listed_count=6, created_at=datetime.datetime(2019, 12, 3, 13, 36, 6), favourites_count=35664, utc_offset=None, time_zone=None, geo_enabled=True, verified=False, statuses_count=20573, lang=None, contributors_enabled=False, is_translator=False, is_translation_enabled=False, profile_background_color='F5F8FA', profile_background_image_url=None, profile_background_image_url_https=None, profile_background_tile=False, profile_image_url='http://pbs.twimg.com/profile_images/1326367322089664512/DMMAnRFg_normal.jpg', profile_image_url_https='https://pbs.twimg.com/profile_images/1326367322089664512/DMMAnRFg_normal.jpg', profile_banner_url='https://pbs.twimg.com/profile_banners/1201857604982435840/1604928657', profile_link_color='1DA1F2', profile_sidebar_border_color='C0DEED', profile_sidebar_fill_color='DDEEF6', profile_text_color='333333', profile_use_background_image=True, has_extended_profile=True, default_profile=True, default_profile_image=False, following=False, follow_request_sent=False, notifications=False, translator_type='none'), user=User(_api=<tweepy.api.API object at 0x0000025E8D14BEF0>, _json={'id': 1201857604982435840, 'id_str': '1201857604982435840', 'name': 'HKS', 'screen_name': 'hargunks185', 'location': 'New Delhi, India', 'description': 'she/her; 19; If it involves Bollywood movies, cricket, McD, sunsets & music- I AM IN !', 'url': 'https://t.co/OMONlumZRs', 'entities': {'url': {'urls': [{'url': 'https://t.co/OMONlumZRs', 'expanded_url': 'http://www.instagram.com/everyday_musings_', 'display_url': 'instagram.com/everyday_musin…', 'indices': [0, 23]}]}, 'description': {'urls': []}}, 'protected': False, 'followers_count': 1172, 'friends_count': 384, 'listed_count': 6, 'created_at': 'Tue Dec 03 13:36:06 +0000 2019', 'favourites_count': 35664, 'utc_offset': None, 'time_zone': None, 'geo_enabled': True, 'verified': False, 'statuses_count': 20573, 'lang': None, 'contributors_enabled': False, 'is_translator': False, 'is_translation_enabled': False, 'profile_background_color': 'F5F8FA', 'profile_background_image_url': None, 'profile_background_image_url_https': None, 'profile_background_tile': False, 'profile_image_url': 'http://pbs.twimg.com/profile_images/1326367322089664512/DMMAnRFg_normal.jpg', 'profile_image_url_https': 'https://pbs.twimg.com/profile_images/1326367322089664512/DMMAnRFg_normal.jpg', 'profile_banner_url': 'https://pbs.twimg.com/profile_banners/1201857604982435840/1604928657', 'profile_link_color': '1DA1F2', 'profile_sidebar_border_color': 'C0DEED', 'profile_sidebar_fill_color': 'DDEEF6', 'profile_text_color': '333333', 'profile_use_background_image': True, 'has_extended_profile': True, 'default_profile': True, 'default_profile_image': False, 'following': False, 'follow_request_sent': False, 'notifications': False, 'translator_type': 'none'}, id=1201857604982435840, id_str='1201857604982435840', name='HKS', screen_name='hargunks185', location='New Delhi, India', description='she/her; 19; If it involves Bollywood movies, cricket, McD, sunsets & music- I AM IN !', url='https://t.co/OMONlumZRs', entities={'url': {'urls': [{'url': 'https://t.co/OMONlumZRs', 'expanded_url': 'http://www.instagram.com/everyday_musings_', 'display_url': 'instagram.com/everyday_musin…', 'indices': [0, 23]}]}, 'description': {'urls': []}}, protected=False, followers_count=1172, friends_count=384, listed_count=6, created_at=datetime.datetime(2019, 12, 3, 13, 36, 6), favourites_count=35664, utc_offset=None, time_zone=None, geo_enabled=True, verified=False, statuses_count=20573, lang=None, contributors_enabled=False, is_translator=False, is_translation_enabled=False, profile_background_color='F5F8FA', profile_background_image_url=None, profile_background_image_url_https=None, profile_background_tile=False, profile_image_url='http://pbs.twimg.com/profile_images/1326367322089664512/DMMAnRFg_normal.jpg', profile_image_url_https='https://pbs.twimg.com/profile_images/1326367322089664512/DMMAnRFg_normal.jpg', profile_banner_url='https://pbs.twimg.com/profile_banners/1201857604982435840/1604928657', profile_link_color='1DA1F2', profile_sidebar_border_color='C0DEED', profile_sidebar_fill_color='DDEEF6', profile_text_color='333333', profile_use_background_image=True, has_extended_profile=True, default_profile=True, default_profile_image=False, following=False, follow_request_sent=False, notifications=False, translator_type='none'), geo=None, coordinates=None, place=None, contributors=None, is_quote_status=False, retweet_count=0, favorite_count=14, favorited=False, retweeted=False, lang='en') \n",
      "\n",
      ".....................................\n",
      "\n"
     ]
    }
   ],
   "source": [
    "Tweets = api.search( query , count=10 , lang='en' , exclude='retweets' , tweet_mode='extended' )\n",
    "# tweet_mode='extended'\n",
    "# tweet_mode='compat'\n",
    "\n",
    "for tweet in Tweets:\n",
    "    print(tweet,\"\\n\")\n",
    "    print(\".....................................\\n\")"
   ]
  },
  {
   "cell_type": "raw",
   "metadata": {},
   "source": [
    "Get the tweets and some Attributes"
   ]
  },
  {
   "cell_type": "code",
   "execution_count": 8,
   "metadata": {},
   "outputs": [
    {
     "name": "stdout",
     "output_type": "stream",
     "text": [
      "Empty DataFrame\n",
      "Columns: [Tweets, User, User_statuses_count, user_followers, User_location, User_verified, fav_count, rt_count, tweet_date]\n",
      "Index: []\n"
     ]
    }
   ],
   "source": [
    "df = pd.DataFrame(columns = ['Tweets' , 'User' , 'User_statuses_count' , \n",
    "                            'user_followers' , 'User_location' , 'User_verified' ,\n",
    "                            'fav_count' , 'rt_count' , 'tweet_date'] )\n",
    "print(df)\n",
    "# print(df.shape)"
   ]
  },
  {
   "cell_type": "code",
   "execution_count": 9,
   "metadata": {},
   "outputs": [],
   "source": [
    "def stream(data, file_name):\n",
    "    i = 0\n",
    "    for tweet in tweepy.Cursor(api.search, q=data, count=100, lang='en').items():\n",
    "        print(i, end='\\r')\n",
    "        df.loc[i, 'Tweets'] = tweet.text\n",
    "        df.loc[i, 'User'] = tweet.user.name\n",
    "        df.loc[i, 'User_statuses_count'] = tweet.user.statuses_count\n",
    "        df.loc[i, 'user_followers'] = tweet.user.followers_count\n",
    "        df.loc[i, 'User_location'] = tweet.user.location\n",
    "        df.loc[i, 'User_verified'] = tweet.user.verified\n",
    "        df.loc[i, 'fav_count'] = tweet.favorite_count\n",
    "        df.loc[i, 'rt_count'] = tweet.retweet_count\n",
    "        df.loc[i, 'tweet_date'] = tweet.created_at\n",
    "        df.to_excel('{}.xlsx'.format(file_name))\n",
    "        i = i+1\n",
    "        if i == 1000:\n",
    "            break\n",
    "        else:\n",
    "            pass"
   ]
  },
  {
   "cell_type": "code",
   "execution_count": 10,
   "metadata": {},
   "outputs": [
    {
     "name": "stdout",
     "output_type": "stream",
     "text": [
      "192\r"
     ]
    }
   ],
   "source": [
    "stream(data=[\"RCB winning IPL\"] , file_name='my_tweets')"
   ]
  },
  {
   "cell_type": "code",
   "execution_count": 11,
   "metadata": {},
   "outputs": [
    {
     "data": {
      "text/html": [
       "<div>\n",
       "<style scoped>\n",
       "    .dataframe tbody tr th:only-of-type {\n",
       "        vertical-align: middle;\n",
       "    }\n",
       "\n",
       "    .dataframe tbody tr th {\n",
       "        vertical-align: top;\n",
       "    }\n",
       "\n",
       "    .dataframe thead th {\n",
       "        text-align: right;\n",
       "    }\n",
       "</style>\n",
       "<table border=\"1\" class=\"dataframe\">\n",
       "  <thead>\n",
       "    <tr style=\"text-align: right;\">\n",
       "      <th></th>\n",
       "      <th>Tweets</th>\n",
       "      <th>User</th>\n",
       "      <th>User_statuses_count</th>\n",
       "      <th>user_followers</th>\n",
       "      <th>User_location</th>\n",
       "      <th>User_verified</th>\n",
       "      <th>fav_count</th>\n",
       "      <th>rt_count</th>\n",
       "      <th>tweet_date</th>\n",
       "    </tr>\n",
       "  </thead>\n",
       "  <tbody>\n",
       "    <tr>\n",
       "      <th>0</th>\n",
       "      <td>@RCBTweets @ABdeVilliers17 Except winning IPL ...</td>\n",
       "      <td>Ladaku Viman</td>\n",
       "      <td>5</td>\n",
       "      <td>0</td>\n",
       "      <td>US @ A</td>\n",
       "      <td>False</td>\n",
       "      <td>0</td>\n",
       "      <td>0</td>\n",
       "      <td>2020-11-18 18:40:53</td>\n",
       "    </tr>\n",
       "    <tr>\n",
       "      <th>1</th>\n",
       "      <td>@iamShivakumar18 @mipaltan @ABdeVilliers17 We ...</td>\n",
       "      <td>Nikhil Chavan Patil</td>\n",
       "      <td>522</td>\n",
       "      <td>2</td>\n",
       "      <td></td>\n",
       "      <td>False</td>\n",
       "      <td>0</td>\n",
       "      <td>0</td>\n",
       "      <td>2020-11-18 16:40:02</td>\n",
       "    </tr>\n",
       "    <tr>\n",
       "      <th>2</th>\n",
       "      <td>RT @sanatani_stree: RCB is so environment frie...</td>\n",
       "      <td>Dhwani💫❤️</td>\n",
       "      <td>4478</td>\n",
       "      <td>722</td>\n",
       "      <td>Raina's heart ❤️</td>\n",
       "      <td>False</td>\n",
       "      <td>0</td>\n",
       "      <td>1</td>\n",
       "      <td>2020-11-18 14:15:03</td>\n",
       "    </tr>\n",
       "    <tr>\n",
       "      <th>3</th>\n",
       "      <td>RCB is so environment friendly that it isn’t w...</td>\n",
       "      <td>SANATANI STREE 🕉️</td>\n",
       "      <td>677</td>\n",
       "      <td>332</td>\n",
       "      <td></td>\n",
       "      <td>False</td>\n",
       "      <td>2</td>\n",
       "      <td>1</td>\n",
       "      <td>2020-11-18 14:07:17</td>\n",
       "    </tr>\n",
       "    <tr>\n",
       "      <th>4</th>\n",
       "      <td>Yet another year of IPL disappointment for RCB...</td>\n",
       "      <td>Lankesh</td>\n",
       "      <td>1645</td>\n",
       "      <td>32168</td>\n",
       "      <td>Bengaluru, India</td>\n",
       "      <td>False</td>\n",
       "      <td>0</td>\n",
       "      <td>0</td>\n",
       "      <td>2020-11-18 13:12:49</td>\n",
       "    </tr>\n",
       "  </tbody>\n",
       "</table>\n",
       "</div>"
      ],
      "text/plain": [
       "                                              Tweets                 User  \\\n",
       "0  @RCBTweets @ABdeVilliers17 Except winning IPL ...         Ladaku Viman   \n",
       "1  @iamShivakumar18 @mipaltan @ABdeVilliers17 We ...  Nikhil Chavan Patil   \n",
       "2  RT @sanatani_stree: RCB is so environment frie...            Dhwani💫❤️   \n",
       "3  RCB is so environment friendly that it isn’t w...    SANATANI STREE 🕉️   \n",
       "4  Yet another year of IPL disappointment for RCB...              Lankesh   \n",
       "\n",
       "  User_statuses_count user_followers     User_location User_verified  \\\n",
       "0                   5              0            US @ A         False   \n",
       "1                 522              2                           False   \n",
       "2                4478            722  Raina's heart ❤️         False   \n",
       "3                 677            332                           False   \n",
       "4                1645          32168  Bengaluru, India         False   \n",
       "\n",
       "  fav_count rt_count           tweet_date  \n",
       "0         0        0  2020-11-18 18:40:53  \n",
       "1         0        0  2020-11-18 16:40:02  \n",
       "2         0        1  2020-11-18 14:15:03  \n",
       "3         2        1  2020-11-18 14:07:17  \n",
       "4         0        0  2020-11-18 13:12:49  "
      ]
     },
     "execution_count": 11,
     "metadata": {},
     "output_type": "execute_result"
    }
   ],
   "source": [
    "df.head()"
   ]
  },
  {
   "cell_type": "raw",
   "metadata": {},
   "source": [
    "Sentiment(polarity, subjectivity)\n",
    "\n",
    "Polarity score: [-1 , +1]\n",
    "\n",
    "Subjectivity: [0.0 , 1.0] \n",
    "where 0.0 is very Objective and 1.0 is very Subjective."
   ]
  },
  {
   "cell_type": "code",
   "execution_count": 14,
   "metadata": {},
   "outputs": [
    {
     "name": "stdout",
     "output_type": "stream",
     "text": [
      "Collecting TextBlobNote: you may need to restart the kernel to use updated packages.\n",
      "  Downloading textblob-0.15.3-py2.py3-none-any.whl (636 kB)\n",
      "Requirement already satisfied: nltk>=3.1 in c:\\python36\\lib\\site-packages (from TextBlob) (3.5)\n",
      "Requirement already satisfied: click in c:\\python36\\lib\\site-packages (from nltk>=3.1->TextBlob) (7.1.2)\n",
      "Requirement already satisfied: joblib in c:\\python36\\lib\\site-packages (from nltk>=3.1->TextBlob) (0.16.0)\n",
      "Requirement already satisfied: regex in c:\\python36\\lib\\site-packages (from nltk>=3.1->TextBlob) (2020.7.14)\n",
      "Requirement already satisfied: tqdm in c:\\python36\\lib\\site-packages (from nltk>=3.1->TextBlob) (4.49.0)\n",
      "Installing collected packages: TextBlob\n",
      "Successfully installed TextBlob-0.15.3\n",
      "\n"
     ]
    },
    {
     "name": "stderr",
     "output_type": "stream",
     "text": [
      "WARNING: You are using pip version 20.2.2; however, version 20.2.4 is available.\n",
      "You should consider upgrading via the 'c:\\python36\\python.exe -m pip install --upgrade pip' command.\n"
     ]
    }
   ],
   "source": [
    "pip install TextBlob"
   ]
  },
  {
   "cell_type": "code",
   "execution_count": 15,
   "metadata": {},
   "outputs": [],
   "source": [
    "from textblob import TextBlob"
   ]
  },
  {
   "cell_type": "code",
   "execution_count": 16,
   "metadata": {},
   "outputs": [],
   "source": [
    "import re\n",
    "def clean_tweet(tweet):\n",
    "    return ' '.join(re.sub('(@[A-Za-z0-9]+)|([^0-9A-Za-z \\t])|(\\w+:\\/\\/\\S+)', ' ', tweet).split())"
   ]
  },
  {
   "cell_type": "code",
   "execution_count": 17,
   "metadata": {},
   "outputs": [],
   "source": [
    "def analyze_sentiment(tweet):\n",
    "    analysis = TextBlob(tweet)\n",
    "    if analysis.sentiment.polarity > 0:\n",
    "        return 'Positive'\n",
    "    elif analysis.sentiment.polarity == 0:\n",
    "        return 'Neutral'\n",
    "    else:\n",
    "        return 'Negative'"
   ]
  },
  {
   "cell_type": "code",
   "execution_count": 18,
   "metadata": {},
   "outputs": [],
   "source": [
    "df['clean_tweet'] = df['Tweets'].apply(lambda x : clean_tweet(x))"
   ]
  },
  {
   "cell_type": "code",
   "execution_count": 19,
   "metadata": {},
   "outputs": [
    {
     "data": {
      "text/html": [
       "<div>\n",
       "<style scoped>\n",
       "    .dataframe tbody tr th:only-of-type {\n",
       "        vertical-align: middle;\n",
       "    }\n",
       "\n",
       "    .dataframe tbody tr th {\n",
       "        vertical-align: top;\n",
       "    }\n",
       "\n",
       "    .dataframe thead th {\n",
       "        text-align: right;\n",
       "    }\n",
       "</style>\n",
       "<table border=\"1\" class=\"dataframe\">\n",
       "  <thead>\n",
       "    <tr style=\"text-align: right;\">\n",
       "      <th></th>\n",
       "      <th>Tweets</th>\n",
       "      <th>User</th>\n",
       "      <th>User_statuses_count</th>\n",
       "      <th>user_followers</th>\n",
       "      <th>User_location</th>\n",
       "      <th>User_verified</th>\n",
       "      <th>fav_count</th>\n",
       "      <th>rt_count</th>\n",
       "      <th>tweet_date</th>\n",
       "      <th>clean_tweet</th>\n",
       "    </tr>\n",
       "  </thead>\n",
       "  <tbody>\n",
       "    <tr>\n",
       "      <th>0</th>\n",
       "      <td>@RCBTweets @ABdeVilliers17 Except winning IPL ...</td>\n",
       "      <td>Ladaku Viman</td>\n",
       "      <td>5</td>\n",
       "      <td>0</td>\n",
       "      <td>US @ A</td>\n",
       "      <td>False</td>\n",
       "      <td>0</td>\n",
       "      <td>0</td>\n",
       "      <td>2020-11-18 18:40:53</td>\n",
       "      <td>Except winning IPL title for RCB</td>\n",
       "    </tr>\n",
       "    <tr>\n",
       "      <th>1</th>\n",
       "      <td>@iamShivakumar18 @mipaltan @ABdeVilliers17 We ...</td>\n",
       "      <td>Nikhil Chavan Patil</td>\n",
       "      <td>522</td>\n",
       "      <td>2</td>\n",
       "      <td></td>\n",
       "      <td>False</td>\n",
       "      <td>0</td>\n",
       "      <td>0</td>\n",
       "      <td>2020-11-18 16:40:02</td>\n",
       "      <td>We all know your rcb won t win ipl trophy life...</td>\n",
       "    </tr>\n",
       "    <tr>\n",
       "      <th>2</th>\n",
       "      <td>RT @sanatani_stree: RCB is so environment frie...</td>\n",
       "      <td>Dhwani💫❤️</td>\n",
       "      <td>4478</td>\n",
       "      <td>722</td>\n",
       "      <td>Raina's heart ❤️</td>\n",
       "      <td>False</td>\n",
       "      <td>0</td>\n",
       "      <td>1</td>\n",
       "      <td>2020-11-18 14:15:03</td>\n",
       "      <td>RT stree RCB is so environment friendly that i...</td>\n",
       "    </tr>\n",
       "    <tr>\n",
       "      <th>3</th>\n",
       "      <td>RCB is so environment friendly that it isn’t w...</td>\n",
       "      <td>SANATANI STREE 🕉️</td>\n",
       "      <td>677</td>\n",
       "      <td>332</td>\n",
       "      <td></td>\n",
       "      <td>False</td>\n",
       "      <td>2</td>\n",
       "      <td>1</td>\n",
       "      <td>2020-11-18 14:07:17</td>\n",
       "      <td>RCB is so environment friendly that it isn t w...</td>\n",
       "    </tr>\n",
       "    <tr>\n",
       "      <th>4</th>\n",
       "      <td>Yet another year of IPL disappointment for RCB...</td>\n",
       "      <td>Lankesh</td>\n",
       "      <td>1645</td>\n",
       "      <td>32168</td>\n",
       "      <td>Bengaluru, India</td>\n",
       "      <td>False</td>\n",
       "      <td>0</td>\n",
       "      <td>0</td>\n",
       "      <td>2020-11-18 13:12:49</td>\n",
       "      <td>Yet another year of IPL disappointment for RCB...</td>\n",
       "    </tr>\n",
       "  </tbody>\n",
       "</table>\n",
       "</div>"
      ],
      "text/plain": [
       "                                              Tweets                 User  \\\n",
       "0  @RCBTweets @ABdeVilliers17 Except winning IPL ...         Ladaku Viman   \n",
       "1  @iamShivakumar18 @mipaltan @ABdeVilliers17 We ...  Nikhil Chavan Patil   \n",
       "2  RT @sanatani_stree: RCB is so environment frie...            Dhwani💫❤️   \n",
       "3  RCB is so environment friendly that it isn’t w...    SANATANI STREE 🕉️   \n",
       "4  Yet another year of IPL disappointment for RCB...              Lankesh   \n",
       "\n",
       "  User_statuses_count user_followers     User_location User_verified  \\\n",
       "0                   5              0            US @ A         False   \n",
       "1                 522              2                           False   \n",
       "2                4478            722  Raina's heart ❤️         False   \n",
       "3                 677            332                           False   \n",
       "4                1645          32168  Bengaluru, India         False   \n",
       "\n",
       "  fav_count rt_count           tweet_date  \\\n",
       "0         0        0  2020-11-18 18:40:53   \n",
       "1         0        0  2020-11-18 16:40:02   \n",
       "2         0        1  2020-11-18 14:15:03   \n",
       "3         2        1  2020-11-18 14:07:17   \n",
       "4         0        0  2020-11-18 13:12:49   \n",
       "\n",
       "                                         clean_tweet  \n",
       "0                   Except winning IPL title for RCB  \n",
       "1  We all know your rcb won t win ipl trophy life...  \n",
       "2  RT stree RCB is so environment friendly that i...  \n",
       "3  RCB is so environment friendly that it isn t w...  \n",
       "4  Yet another year of IPL disappointment for RCB...  "
      ]
     },
     "execution_count": 19,
     "metadata": {},
     "output_type": "execute_result"
    }
   ],
   "source": [
    "df.head()"
   ]
  },
  {
   "cell_type": "code",
   "execution_count": 20,
   "metadata": {},
   "outputs": [
    {
     "data": {
      "text/html": [
       "<div>\n",
       "<style scoped>\n",
       "    .dataframe tbody tr th:only-of-type {\n",
       "        vertical-align: middle;\n",
       "    }\n",
       "\n",
       "    .dataframe tbody tr th {\n",
       "        vertical-align: top;\n",
       "    }\n",
       "\n",
       "    .dataframe thead th {\n",
       "        text-align: right;\n",
       "    }\n",
       "</style>\n",
       "<table border=\"1\" class=\"dataframe\">\n",
       "  <thead>\n",
       "    <tr style=\"text-align: right;\">\n",
       "      <th></th>\n",
       "      <th>Tweets</th>\n",
       "      <th>User</th>\n",
       "      <th>User_statuses_count</th>\n",
       "      <th>user_followers</th>\n",
       "      <th>User_location</th>\n",
       "      <th>User_verified</th>\n",
       "      <th>fav_count</th>\n",
       "      <th>rt_count</th>\n",
       "      <th>tweet_date</th>\n",
       "      <th>clean_tweet</th>\n",
       "      <th>Sentiment</th>\n",
       "    </tr>\n",
       "  </thead>\n",
       "  <tbody>\n",
       "    <tr>\n",
       "      <th>0</th>\n",
       "      <td>@RCBTweets @ABdeVilliers17 Except winning IPL ...</td>\n",
       "      <td>Ladaku Viman</td>\n",
       "      <td>5</td>\n",
       "      <td>0</td>\n",
       "      <td>US @ A</td>\n",
       "      <td>False</td>\n",
       "      <td>0</td>\n",
       "      <td>0</td>\n",
       "      <td>2020-11-18 18:40:53</td>\n",
       "      <td>Except winning IPL title for RCB</td>\n",
       "      <td>Positive</td>\n",
       "    </tr>\n",
       "    <tr>\n",
       "      <th>1</th>\n",
       "      <td>@iamShivakumar18 @mipaltan @ABdeVilliers17 We ...</td>\n",
       "      <td>Nikhil Chavan Patil</td>\n",
       "      <td>522</td>\n",
       "      <td>2</td>\n",
       "      <td></td>\n",
       "      <td>False</td>\n",
       "      <td>0</td>\n",
       "      <td>0</td>\n",
       "      <td>2020-11-18 16:40:02</td>\n",
       "      <td>We all know your rcb won t win ipl trophy life...</td>\n",
       "      <td>Positive</td>\n",
       "    </tr>\n",
       "    <tr>\n",
       "      <th>2</th>\n",
       "      <td>RT @sanatani_stree: RCB is so environment frie...</td>\n",
       "      <td>Dhwani💫❤️</td>\n",
       "      <td>4478</td>\n",
       "      <td>722</td>\n",
       "      <td>Raina's heart ❤️</td>\n",
       "      <td>False</td>\n",
       "      <td>0</td>\n",
       "      <td>1</td>\n",
       "      <td>2020-11-18 14:15:03</td>\n",
       "      <td>RT stree RCB is so environment friendly that i...</td>\n",
       "      <td>Positive</td>\n",
       "    </tr>\n",
       "    <tr>\n",
       "      <th>3</th>\n",
       "      <td>RCB is so environment friendly that it isn’t w...</td>\n",
       "      <td>SANATANI STREE 🕉️</td>\n",
       "      <td>677</td>\n",
       "      <td>332</td>\n",
       "      <td></td>\n",
       "      <td>False</td>\n",
       "      <td>2</td>\n",
       "      <td>1</td>\n",
       "      <td>2020-11-18 14:07:17</td>\n",
       "      <td>RCB is so environment friendly that it isn t w...</td>\n",
       "      <td>Positive</td>\n",
       "    </tr>\n",
       "    <tr>\n",
       "      <th>4</th>\n",
       "      <td>Yet another year of IPL disappointment for RCB...</td>\n",
       "      <td>Lankesh</td>\n",
       "      <td>1645</td>\n",
       "      <td>32168</td>\n",
       "      <td>Bengaluru, India</td>\n",
       "      <td>False</td>\n",
       "      <td>0</td>\n",
       "      <td>0</td>\n",
       "      <td>2020-11-18 13:12:49</td>\n",
       "      <td>Yet another year of IPL disappointment for RCB...</td>\n",
       "      <td>Negative</td>\n",
       "    </tr>\n",
       "  </tbody>\n",
       "</table>\n",
       "</div>"
      ],
      "text/plain": [
       "                                              Tweets                 User  \\\n",
       "0  @RCBTweets @ABdeVilliers17 Except winning IPL ...         Ladaku Viman   \n",
       "1  @iamShivakumar18 @mipaltan @ABdeVilliers17 We ...  Nikhil Chavan Patil   \n",
       "2  RT @sanatani_stree: RCB is so environment frie...            Dhwani💫❤️   \n",
       "3  RCB is so environment friendly that it isn’t w...    SANATANI STREE 🕉️   \n",
       "4  Yet another year of IPL disappointment for RCB...              Lankesh   \n",
       "\n",
       "  User_statuses_count user_followers     User_location User_verified  \\\n",
       "0                   5              0            US @ A         False   \n",
       "1                 522              2                           False   \n",
       "2                4478            722  Raina's heart ❤️         False   \n",
       "3                 677            332                           False   \n",
       "4                1645          32168  Bengaluru, India         False   \n",
       "\n",
       "  fav_count rt_count           tweet_date  \\\n",
       "0         0        0  2020-11-18 18:40:53   \n",
       "1         0        0  2020-11-18 16:40:02   \n",
       "2         0        1  2020-11-18 14:15:03   \n",
       "3         2        1  2020-11-18 14:07:17   \n",
       "4         0        0  2020-11-18 13:12:49   \n",
       "\n",
       "                                         clean_tweet Sentiment  \n",
       "0                   Except winning IPL title for RCB  Positive  \n",
       "1  We all know your rcb won t win ipl trophy life...  Positive  \n",
       "2  RT stree RCB is so environment friendly that i...  Positive  \n",
       "3  RCB is so environment friendly that it isn t w...  Positive  \n",
       "4  Yet another year of IPL disappointment for RCB...  Negative  "
      ]
     },
     "execution_count": 20,
     "metadata": {},
     "output_type": "execute_result"
    }
   ],
   "source": [
    "df['Sentiment'] = df['clean_tweet'].apply(lambda x : analyze_sentiment(x) )\n",
    "df.head()"
   ]
  },
  {
   "cell_type": "code",
   "execution_count": 21,
   "metadata": {},
   "outputs": [
    {
     "name": "stdout",
     "output_type": "stream",
     "text": [
      "Original tweet:\n",
      " @iamShivakumar18 @mipaltan @ABdeVilliers17 We all know your rcb won't win ipl trophy lifetime,so better now you cha… https://t.co/B72JacuU9t\n",
      "\n",
      "Clean tweet:\n",
      " We all know your rcb won t win ipl trophy lifetime so better now you cha\n",
      "\n",
      "Sentiment of the tweet:\n",
      " Positive\n"
     ]
    }
   ],
   "source": [
    "n = 1\n",
    "print(\"Original tweet:\\n\",df['Tweets'][n])\n",
    "print()\n",
    "print(\"Clean tweet:\\n\",df['clean_tweet'][n])\n",
    "print()\n",
    "print(\"Sentiment of the tweet:\\n\",df['Sentiment'][n])"
   ]
  },
  {
   "cell_type": "code",
   "execution_count": 22,
   "metadata": {},
   "outputs": [
    {
     "name": "stdout",
     "output_type": "stream",
     "text": [
      "Original tweet:\n",
      " RT @ThakkarMonika07: If Lahore Qalandars will win PSL this year....\n",
      "Then RCB also winning IPL next year for sure ...🥳😍\n",
      "\n",
      "Clean tweet:\n",
      " RT If Lahore Qalandars will win PSL this year Then RCB also winning IPL next year for sure\n",
      "\n",
      "Sentiment of the tweet:\n",
      " Positive\n"
     ]
    }
   ],
   "source": [
    "n = 20\n",
    "print(\"Original tweet:\\n\",df['Tweets'][n])\n",
    "print()\n",
    "print(\"Clean tweet:\\n\",df['clean_tweet'][n])\n",
    "print()\n",
    "print(\"Sentiment of the tweet:\\n\",df['Sentiment'][n])"
   ]
  },
  {
   "cell_type": "code",
   "execution_count": 24,
   "metadata": {},
   "outputs": [
    {
     "name": "stdout",
     "output_type": "stream",
     "text": [
      "Original tweet:\n",
      " RT @ThakkarMonika07: If Lahore Qalandars will win PSL this year....\n",
      "Then RCB also winning IPL next year for sure ...🥳😍\n",
      "\n",
      "Clean tweet:\n",
      " RT If Lahore Qalandars will win PSL this year Then RCB also winning IPL next year for sure\n",
      "\n",
      "Sentiment of the tweet:\n",
      " Positive\n"
     ]
    }
   ],
   "source": [
    "n = 20\n",
    "print(\"Original tweet:\\n\",df['Tweets'][n])\n",
    "print()\n",
    "print(\"Clean tweet:\\n\",df['clean_tweet'][n])\n",
    "print()\n",
    "print(\"Sentiment of the tweet:\\n\",df['Sentiment'][n])"
   ]
  },
  {
   "cell_type": "code",
   "execution_count": 25,
   "metadata": {},
   "outputs": [
    {
     "data": {
      "text/plain": [
       "106"
      ]
     },
     "execution_count": 25,
     "metadata": {},
     "output_type": "execute_result"
    }
   ],
   "source": [
    "df[df.Sentiment == 'Positive'].shape[0]"
   ]
  },
  {
   "cell_type": "code",
   "execution_count": 26,
   "metadata": {},
   "outputs": [
    {
     "data": {
      "text/plain": [
       "13"
      ]
     },
     "execution_count": 26,
     "metadata": {},
     "output_type": "execute_result"
    }
   ],
   "source": [
    "df[df.Sentiment == 'Neutral'].shape[0]"
   ]
  },
  {
   "cell_type": "code",
   "execution_count": 27,
   "metadata": {},
   "outputs": [
    {
     "data": {
      "text/plain": [
       "74"
      ]
     },
     "execution_count": 27,
     "metadata": {},
     "output_type": "execute_result"
    }
   ],
   "source": [
    "df[df.Sentiment == 'Negative'].shape[0]"
   ]
  }
 ],
 "metadata": {
  "kernelspec": {
   "display_name": "Python 3",
   "language": "python",
   "name": "python3"
  },
  "language_info": {
   "codemirror_mode": {
    "name": "ipython",
    "version": 3
   },
   "file_extension": ".py",
   "mimetype": "text/x-python",
   "name": "python",
   "nbconvert_exporter": "python",
   "pygments_lexer": "ipython3",
   "version": "3.6.2"
  }
 },
 "nbformat": 4,
 "nbformat_minor": 4
}
