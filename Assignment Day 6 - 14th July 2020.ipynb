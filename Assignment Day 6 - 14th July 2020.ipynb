{
 "cells": [
  {
   "cell_type": "markdown",
   "metadata": {},
   "source": [
    "## Question 1:\n",
    "__Assuming that we have some email addresses in the \"username@companyname.com\" format, please write program\n",
    "to print the company name of a given email address. Both user names and company names are composed of letters\n",
    "only.__\n",
    "\n",
    "Input Format:\n",
    "\n",
    "The first line of the input contains an email address.\n",
    "\n",
    "Output Format:\n",
    "\n",
    "Print the company name in single line.\n",
    "\n",
    "Example;\n",
    "\n",
    "Input:\n",
    "\n",
    "john@google.com\n",
    "\n",
    "Output:\n",
    "\n",
    "google\n"
   ]
  },
  {
   "cell_type": "code",
   "execution_count": 14,
   "metadata": {},
   "outputs": [
    {
     "name": "stdout",
     "output_type": "stream",
     "text": [
      "Email Address:john@google.com\n",
      "google\n"
     ]
    }
   ],
   "source": [
    "x=input('Email Address:')\n",
    "print(x.split('@')[-1][:-4])"
   ]
  },
  {
   "cell_type": "markdown",
   "metadata": {},
   "source": [
    "## Question 2:\n",
    "__Write a program that accepts a comma-separated sequence of words as input and prints the words in a comma\n",
    "separated sequence after sorting them alphabetically.__\n",
    "\n",
    "Input Format:\n",
    "\n",
    "The first line of input contains words separated by the comma.\n",
    "\n",
    "Output Format:\n",
    "\n",
    "Print the sorted words separated by the comma.\n",
    "\n",
    "Example:\n",
    "\n",
    "Input:\n",
    "\n",
    "without,hello,bag,world\n",
    "\n",
    "Output:\n",
    "\n",
    "bag,hello,without,world\n"
   ]
  },
  {
   "cell_type": "code",
   "execution_count": 27,
   "metadata": {},
   "outputs": [
    {
     "name": "stdout",
     "output_type": "stream",
     "text": [
      "Enter comma-separated sequence of words:without,hello,bag,world\n",
      "Sorted words are:  bag,hello,without,world\n"
     ]
    }
   ],
   "source": [
    "s=input('Enter comma-separated sequence of words:')\n",
    "a=s.split(',')\n",
    "a.sort()\n",
    "str1 = ','.join(a)\n",
    "print('Sorted words are: ',str1)"
   ]
  },
  {
   "cell_type": "markdown",
   "metadata": {},
   "source": [
    "## Question 3:\n",
    "__Create your own Jupyter Notebook for Sets.\n",
    "Reference link: https://www.w3schools.com/python/python_sets.asp__"
   ]
  },
  {
   "cell_type": "markdown",
   "metadata": {},
   "source": [
    "Refer to Sets.ipynb"
   ]
  },
  {
   "cell_type": "markdown",
   "metadata": {},
   "source": [
    "## Question 4:\n",
    "__Given a list of n-1 numbers ranging from 1 to n, your task is to find the missing number. There are no duplicates.__\n",
    "\n",
    "Input Format:\n",
    "\n",
    "The first line contains n-1 numbers with each number separated by a space.\n",
    "\n",
    "Output Format:\n",
    "\n",
    "Print the missing number\n",
    "\n",
    "Example:\n",
    "\n",
    "Input:1 2 4 6 3 7 8\n",
    "\n",
    "Output:5\n",
    "\n",
    "Explanation:\n",
    "\n",
    "In the above list of numbers 5 is missing and hence 5 is the input"
   ]
  },
  {
   "cell_type": "code",
   "execution_count": 42,
   "metadata": {},
   "outputs": [
    {
     "name": "stdout",
     "output_type": "stream",
     "text": [
      "List of Numbers:1 2 3 4 6 7 8\n",
      "The missing number is: 5.0\n"
     ]
    }
   ],
   "source": [
    "def findMissingNo(A): \n",
    "    n = len(A) \n",
    "    total = (n + 1)*(n + 2)/2\n",
    "    sum_of_A = sum(A) \n",
    "    return total - sum_of_A \n",
    "   \n",
    "A = input(\"List of Numbers:\") \n",
    "A=list(A.split(' '))\n",
    "A = list(map(int, A)) \n",
    "missing_no = findMissingNo(A) \n",
    "print(\"The missing number is:\",missing_no) "
   ]
  },
  {
   "cell_type": "markdown",
   "metadata": {},
   "source": [
    "## Question 5:\n",
    "__With a given list L, write a program to print this list L after removing all duplicate values with original order reserved.__\n",
    "\n",
    "Example:\n",
    "\n",
    "If the input list is\n",
    "12 24 35 24 88 120 155 88 120 155\n",
    "\n",
    "Then the output should be\n",
    "12 24 35 88 120 155\n",
    "\n",
    "Explanation:\n",
    "\n",
    "Third, seventh and ninth element of the list L has been removed because it was already present.\n",
    "Input Format:\n",
    "In one line take the elements of the list L with each element separated by a space.\n",
    "\n",
    "Output Format:\n",
    "Print the elements of the modified list in one line with each element separated by a space.\n",
    "\n",
    "Example:\n",
    "\n",
    "Input: 12 24 35 24\n",
    "\n",
    "Output:\n",
    "\n",
    "12 24 35"
   ]
  },
  {
   "cell_type": "code",
   "execution_count": 45,
   "metadata": {},
   "outputs": [
    {
     "name": "stdout",
     "output_type": "stream",
     "text": [
      "List of numbers:12 24 35 24\n",
      "Output after removing duplicates:  12 24 35\n"
     ]
    }
   ],
   "source": [
    "x=input('List of numbers:')\n",
    "x=list(x.split(' '))\n",
    "x=set(x)\n",
    "output = ' '.join(x)\n",
    "print('Output after removing duplicates: ',output)"
   ]
  }
 ],
 "metadata": {
  "kernelspec": {
   "display_name": "Python 3",
   "language": "python",
   "name": "python3"
  },
  "language_info": {
   "codemirror_mode": {
    "name": "ipython",
    "version": 3
   },
   "file_extension": ".py",
   "mimetype": "text/x-python",
   "name": "python",
   "nbconvert_exporter": "python",
   "pygments_lexer": "ipython3",
   "version": "3.6.2"
  }
 },
 "nbformat": 4,
 "nbformat_minor": 4
}
