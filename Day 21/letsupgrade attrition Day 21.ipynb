{
 "cells": [
  {
   "cell_type": "code",
   "execution_count": 1,
   "metadata": {},
   "outputs": [],
   "source": [
    "import pandas as pd"
   ]
  },
  {
   "cell_type": "code",
   "execution_count": 2,
   "metadata": {},
   "outputs": [],
   "source": [
    "import numpy as np"
   ]
  },
  {
   "cell_type": "code",
   "execution_count": 3,
   "metadata": {},
   "outputs": [],
   "source": [
    "df= pd.read_csv(r'C:\\Users\\siyad\\AppData\\Local\\Temp\\Temp1_Dataset-20200813T141334Z-001.zip\\Dataset\\general_data.csv')"
   ]
  },
  {
   "cell_type": "code",
   "execution_count": 4,
   "metadata": {},
   "outputs": [
    {
     "data": {
      "text/plain": [
       "Index(['Age', 'Attrition', 'BusinessTravel', 'Department', 'DistanceFromHome',\n",
       "       'Education', 'EducationField', 'EmployeeCount', 'EmployeeID', 'Gender',\n",
       "       'JobLevel', 'JobRole', 'MaritalStatus', 'MonthlyIncome',\n",
       "       'NumCompaniesWorked', 'Over18', 'PercentSalaryHike', 'StandardHours',\n",
       "       'StockOptionLevel', 'TotalWorkingYears', 'TrainingTimesLastYear',\n",
       "       'YearsAtCompany', 'YearsSinceLastPromotion', 'YearsWithCurrManager'],\n",
       "      dtype='object')"
      ]
     },
     "execution_count": 4,
     "metadata": {},
     "output_type": "execute_result"
    }
   ],
   "source": [
    "df.columns"
   ]
  },
  {
   "cell_type": "code",
   "execution_count": 5,
   "metadata": {},
   "outputs": [],
   "source": [
    "from sklearn import preprocessing"
   ]
  },
  {
   "cell_type": "code",
   "execution_count": 6,
   "metadata": {},
   "outputs": [],
   "source": [
    "le=preprocessing.LabelEncoder()"
   ]
  },
  {
   "cell_type": "code",
   "execution_count": 7,
   "metadata": {},
   "outputs": [],
   "source": [
    "df['Attrition']=le.fit_transform(df['Attrition'])"
   ]
  },
  {
   "cell_type": "code",
   "execution_count": 8,
   "metadata": {},
   "outputs": [],
   "source": [
    "df['BusinessTravel']=le.fit_transform(df['BusinessTravel'])"
   ]
  },
  {
   "cell_type": "code",
   "execution_count": 9,
   "metadata": {},
   "outputs": [],
   "source": [
    "df['Department']=le.fit_transform(df['Department'])"
   ]
  },
  {
   "cell_type": "code",
   "execution_count": 10,
   "metadata": {},
   "outputs": [],
   "source": [
    "df['EducationField']=le.fit_transform(df['EducationField'])"
   ]
  },
  {
   "cell_type": "code",
   "execution_count": 11,
   "metadata": {},
   "outputs": [],
   "source": [
    "df['Gender']=le.fit_transform(df['Gender'])"
   ]
  },
  {
   "cell_type": "code",
   "execution_count": 12,
   "metadata": {},
   "outputs": [],
   "source": [
    "df['MaritalStatus']=le.fit_transform(df['MaritalStatus'])"
   ]
  },
  {
   "cell_type": "code",
   "execution_count": 13,
   "metadata": {},
   "outputs": [],
   "source": [
    "df['JobRole']=le.fit_transform(df['JobRole'])"
   ]
  },
  {
   "cell_type": "code",
   "execution_count": 14,
   "metadata": {},
   "outputs": [],
   "source": [
    "df2=df.drop(['EmployeeCount', 'EmployeeID','Over18','StandardHours'],axis=1)"
   ]
  },
  {
   "cell_type": "code",
   "execution_count": 15,
   "metadata": {},
   "outputs": [
    {
     "data": {
      "text/plain": [
       "Index(['Age', 'Attrition', 'BusinessTravel', 'Department', 'DistanceFromHome',\n",
       "       'Education', 'EducationField', 'Gender', 'JobLevel', 'JobRole',\n",
       "       'MaritalStatus', 'MonthlyIncome', 'NumCompaniesWorked',\n",
       "       'PercentSalaryHike', 'StockOptionLevel', 'TotalWorkingYears',\n",
       "       'TrainingTimesLastYear', 'YearsAtCompany', 'YearsSinceLastPromotion',\n",
       "       'YearsWithCurrManager'],\n",
       "      dtype='object')"
      ]
     },
     "execution_count": 15,
     "metadata": {},
     "output_type": "execute_result"
    }
   ],
   "source": [
    "df2.columns"
   ]
  },
  {
   "cell_type": "code",
   "execution_count": 16,
   "metadata": {},
   "outputs": [],
   "source": [
    "from sklearn.ensemble import RandomForestClassifier "
   ]
  },
  {
   "cell_type": "code",
   "execution_count": 17,
   "metadata": {},
   "outputs": [],
   "source": [
    "df3=df2.dropna()"
   ]
  },
  {
   "cell_type": "code",
   "execution_count": 18,
   "metadata": {},
   "outputs": [],
   "source": [
    "df4=df3.drop_duplicates()"
   ]
  },
  {
   "cell_type": "code",
   "execution_count": 19,
   "metadata": {},
   "outputs": [],
   "source": [
    "rf_model=RandomForestClassifier(n_estimators=1000,max_features=2,oob_score=True)"
   ]
  },
  {
   "cell_type": "code",
   "execution_count": 73,
   "metadata": {},
   "outputs": [],
   "source": [
    "features=['Age', 'BusinessTravel', 'Department', 'DistanceFromHome',\n",
    "       'Education', 'EducationField', 'Gender', 'JobLevel', 'JobRole',\n",
    "       'MaritalStatus', 'MonthlyIncome', 'NumCompaniesWorked',\n",
    "       'PercentSalaryHike', 'StockOptionLevel', 'TotalWorkingYears',\n",
    "       'TrainingTimesLastYear', 'YearsAtCompany', 'YearsSinceLastPromotion',\n",
    "       'YearsWithCurrManager']"
   ]
  },
  {
   "cell_type": "code",
   "execution_count": 74,
   "metadata": {},
   "outputs": [
    {
     "data": {
      "text/plain": [
       "RandomForestClassifier(max_features=2, n_estimators=1000, oob_score=True)"
      ]
     },
     "execution_count": 74,
     "metadata": {},
     "output_type": "execute_result"
    }
   ],
   "source": [
    "rf_model.fit(X=df4[features],y=df4['Attrition'])"
   ]
  },
  {
   "cell_type": "code",
   "execution_count": 75,
   "metadata": {},
   "outputs": [
    {
     "name": "stdout",
     "output_type": "stream",
     "text": [
      "OOB Accuracy: \n",
      "0.8442176870748299\n"
     ]
    }
   ],
   "source": [
    "print('OOB Accuracy: ')\n",
    "print(rf_model.oob_score_)"
   ]
  },
  {
   "cell_type": "code",
   "execution_count": 76,
   "metadata": {},
   "outputs": [
    {
     "name": "stdout",
     "output_type": "stream",
     "text": [
      "Age 0.09830358093771875\n",
      "BusinessTravel 0.027295272128891022\n",
      "Department 0.0267790086457988\n",
      "DistanceFromHome 0.07005069258499955\n",
      "Education 0.040254050302009334\n",
      "EducationField 0.04236509891074774\n",
      "Gender 0.018092243627388708\n",
      "JobLevel 0.03825055704360027\n",
      "JobRole 0.055051555228577485\n",
      "MaritalStatus 0.039747552994345944\n",
      "MonthlyIncome 0.0924281792899583\n",
      "NumCompaniesWorked 0.05572178237000869\n",
      "PercentSalaryHike 0.06492096415661418\n",
      "StockOptionLevel 0.03480373451378508\n",
      "TotalWorkingYears 0.08582439794516951\n",
      "TrainingTimesLastYear 0.04398216484632851\n",
      "YearsAtCompany 0.06957023688738793\n",
      "YearsSinceLastPromotion 0.04359490835894176\n",
      "YearsWithCurrManager 0.05296401922772851\n"
     ]
    }
   ],
   "source": [
    "for feature,imp in zip(features,rf_model.feature_importances_):\n",
    "    print(feature,imp)"
   ]
  },
  {
   "cell_type": "code",
   "execution_count": 44,
   "metadata": {},
   "outputs": [],
   "source": [
    "from sklearn import tree"
   ]
  },
  {
   "cell_type": "code",
   "execution_count": 45,
   "metadata": {},
   "outputs": [],
   "source": [
    "tree_model=tree.DecisionTreeClassifier(max_depth=6,max_leaf_nodes=10)"
   ]
  },
  {
   "cell_type": "code",
   "execution_count": 56,
   "metadata": {},
   "outputs": [],
   "source": [
    "pred=pd.DataFrame([df4['Age'],df4['MonthlyIncome'],df4['TotalWorkingYears']]).T"
   ]
  },
  {
   "cell_type": "code",
   "execution_count": 57,
   "metadata": {},
   "outputs": [
    {
     "name": "stderr",
     "output_type": "stream",
     "text": [
      "c:\\python36\\lib\\site-packages\\ipykernel_launcher.py:1: SettingWithCopyWarning: \n",
      "A value is trying to be set on a copy of a slice from a DataFrame.\n",
      "Try using .loc[row_indexer,col_indexer] = value instead\n",
      "\n",
      "See the caveats in the documentation: https://pandas.pydata.org/pandas-docs/stable/user_guide/indexing.html#returning-a-view-versus-a-copy\n",
      "  \"\"\"Entry point for launching an IPython kernel.\n"
     ]
    }
   ],
   "source": [
    "df4['TotalWorkingYears']=np.round(df['TotalWorkingYears'])"
   ]
  },
  {
   "cell_type": "code",
   "execution_count": 58,
   "metadata": {
    "scrolled": true
   },
   "outputs": [
    {
     "data": {
      "text/plain": [
       "DecisionTreeClassifier(max_depth=6, max_leaf_nodes=10)"
      ]
     },
     "execution_count": 58,
     "metadata": {},
     "output_type": "execute_result"
    }
   ],
   "source": [
    "tree_model.fit(X=pred,y=df4['Attrition'])"
   ]
  },
  {
   "cell_type": "code",
   "execution_count": 59,
   "metadata": {},
   "outputs": [],
   "source": [
    "with open('Dtree2.dot','w') as f:\n",
    "    f=tree.export_graphviz(tree_model,feature_names=['MonthlyIncome','Age','TotalWorkingYears'],out_file=f)"
   ]
  },
  {
   "cell_type": "code",
   "execution_count": 60,
   "metadata": {},
   "outputs": [],
   "source": [
    "import statsmodels.api as sm"
   ]
  },
  {
   "cell_type": "code",
   "execution_count": 61,
   "metadata": {},
   "outputs": [],
   "source": [
    "Y=df4.Attrition"
   ]
  },
  {
   "cell_type": "code",
   "execution_count": 63,
   "metadata": {},
   "outputs": [],
   "source": [
    "X=df4[['Age', 'BusinessTravel', 'Department', 'DistanceFromHome',\n",
    "       'Education', 'EducationField', 'Gender', 'JobLevel', 'JobRole',\n",
    "       'MaritalStatus', 'MonthlyIncome', 'NumCompaniesWorked',\n",
    "       'PercentSalaryHike', 'StockOptionLevel', 'TotalWorkingYears',\n",
    "       'TrainingTimesLastYear', 'YearsAtCompany', 'YearsSinceLastPromotion',\n",
    "       'YearsWithCurrManager']]"
   ]
  },
  {
   "cell_type": "code",
   "execution_count": 64,
   "metadata": {},
   "outputs": [],
   "source": [
    "X1=sm.add_constant(X)"
   ]
  },
  {
   "cell_type": "code",
   "execution_count": 65,
   "metadata": {},
   "outputs": [],
   "source": [
    "Logistic_Att=sm.Logit(Y,X1)"
   ]
  },
  {
   "cell_type": "code",
   "execution_count": 66,
   "metadata": {},
   "outputs": [
    {
     "name": "stdout",
     "output_type": "stream",
     "text": [
      "Optimization terminated successfully.\n",
      "         Current function value: 0.392756\n",
      "         Iterations 7\n"
     ]
    }
   ],
   "source": [
    "Result=Logistic_Att.fit()"
   ]
  },
  {
   "cell_type": "code",
   "execution_count": 68,
   "metadata": {},
   "outputs": [
    {
     "data": {
      "text/html": [
       "<table class=\"simpletable\">\n",
       "<caption>Logit Regression Results</caption>\n",
       "<tr>\n",
       "  <th>Dep. Variable:</th>       <td>Attrition</td>    <th>  No. Observations:  </th>  <td>  1470</td>  \n",
       "</tr>\n",
       "<tr>\n",
       "  <th>Model:</th>                 <td>Logit</td>      <th>  Df Residuals:      </th>  <td>  1450</td>  \n",
       "</tr>\n",
       "<tr>\n",
       "  <th>Method:</th>                 <td>MLE</td>       <th>  Df Model:          </th>  <td>    19</td>  \n",
       "</tr>\n",
       "<tr>\n",
       "  <th>Date:</th>            <td>Sat, 15 Aug 2020</td> <th>  Pseudo R-squ.:     </th>  <td>0.1108</td>  \n",
       "</tr>\n",
       "<tr>\n",
       "  <th>Time:</th>                <td>01:00:23</td>     <th>  Log-Likelihood:    </th> <td> -577.35</td> \n",
       "</tr>\n",
       "<tr>\n",
       "  <th>converged:</th>             <td>True</td>       <th>  LL-Null:           </th> <td> -649.29</td> \n",
       "</tr>\n",
       "<tr>\n",
       "  <th>Covariance Type:</th>     <td>nonrobust</td>    <th>  LLR p-value:       </th> <td>3.295e-21</td>\n",
       "</tr>\n",
       "</table>\n",
       "<table class=\"simpletable\">\n",
       "<tr>\n",
       "             <td></td>                <th>coef</th>     <th>std err</th>      <th>z</th>      <th>P>|z|</th>  <th>[0.025</th>    <th>0.975]</th>  \n",
       "</tr>\n",
       "<tr>\n",
       "  <th>const</th>                   <td>    0.0650</td> <td>    0.717</td> <td>    0.091</td> <td> 0.928</td> <td>   -1.340</td> <td>    1.470</td>\n",
       "</tr>\n",
       "<tr>\n",
       "  <th>Age</th>                     <td>   -0.0306</td> <td>    0.012</td> <td>   -2.583</td> <td> 0.010</td> <td>   -0.054</td> <td>   -0.007</td>\n",
       "</tr>\n",
       "<tr>\n",
       "  <th>BusinessTravel</th>          <td>   -0.0166</td> <td>    0.113</td> <td>   -0.146</td> <td> 0.884</td> <td>   -0.239</td> <td>    0.206</td>\n",
       "</tr>\n",
       "<tr>\n",
       "  <th>Department</th>              <td>   -0.2421</td> <td>    0.141</td> <td>   -1.720</td> <td> 0.085</td> <td>   -0.518</td> <td>    0.034</td>\n",
       "</tr>\n",
       "<tr>\n",
       "  <th>DistanceFromHome</th>        <td>   -0.0014</td> <td>    0.009</td> <td>   -0.145</td> <td> 0.884</td> <td>   -0.020</td> <td>    0.017</td>\n",
       "</tr>\n",
       "<tr>\n",
       "  <th>Education</th>               <td>   -0.0625</td> <td>    0.074</td> <td>   -0.847</td> <td> 0.397</td> <td>   -0.207</td> <td>    0.082</td>\n",
       "</tr>\n",
       "<tr>\n",
       "  <th>EducationField</th>          <td>   -0.0965</td> <td>    0.058</td> <td>   -1.669</td> <td> 0.095</td> <td>   -0.210</td> <td>    0.017</td>\n",
       "</tr>\n",
       "<tr>\n",
       "  <th>Gender</th>                  <td>    0.0869</td> <td>    0.155</td> <td>    0.560</td> <td> 0.576</td> <td>   -0.217</td> <td>    0.391</td>\n",
       "</tr>\n",
       "<tr>\n",
       "  <th>JobLevel</th>                <td>   -0.0249</td> <td>    0.069</td> <td>   -0.363</td> <td> 0.717</td> <td>   -0.159</td> <td>    0.110</td>\n",
       "</tr>\n",
       "<tr>\n",
       "  <th>JobRole</th>                 <td>    0.0378</td> <td>    0.031</td> <td>    1.219</td> <td> 0.223</td> <td>   -0.023</td> <td>    0.099</td>\n",
       "</tr>\n",
       "<tr>\n",
       "  <th>MaritalStatus</th>           <td>    0.5885</td> <td>    0.109</td> <td>    5.379</td> <td> 0.000</td> <td>    0.374</td> <td>    0.803</td>\n",
       "</tr>\n",
       "<tr>\n",
       "  <th>MonthlyIncome</th>           <td>-1.868e-06</td> <td> 1.66e-06</td> <td>   -1.128</td> <td> 0.259</td> <td>-5.11e-06</td> <td> 1.38e-06</td>\n",
       "</tr>\n",
       "<tr>\n",
       "  <th>NumCompaniesWorked</th>      <td>    0.1184</td> <td>    0.032</td> <td>    3.729</td> <td> 0.000</td> <td>    0.056</td> <td>    0.181</td>\n",
       "</tr>\n",
       "<tr>\n",
       "  <th>PercentSalaryHike</th>       <td>    0.0117</td> <td>    0.020</td> <td>    0.576</td> <td> 0.565</td> <td>   -0.028</td> <td>    0.052</td>\n",
       "</tr>\n",
       "<tr>\n",
       "  <th>StockOptionLevel</th>        <td>   -0.0645</td> <td>    0.089</td> <td>   -0.721</td> <td> 0.471</td> <td>   -0.240</td> <td>    0.111</td>\n",
       "</tr>\n",
       "<tr>\n",
       "  <th>TotalWorkingYears</th>       <td>   -0.0593</td> <td>    0.021</td> <td>   -2.856</td> <td> 0.004</td> <td>   -0.100</td> <td>   -0.019</td>\n",
       "</tr>\n",
       "<tr>\n",
       "  <th>TrainingTimesLastYear</th>   <td>   -0.1465</td> <td>    0.061</td> <td>   -2.406</td> <td> 0.016</td> <td>   -0.266</td> <td>   -0.027</td>\n",
       "</tr>\n",
       "<tr>\n",
       "  <th>YearsAtCompany</th>          <td>    0.0136</td> <td>    0.032</td> <td>    0.428</td> <td> 0.669</td> <td>   -0.049</td> <td>    0.076</td>\n",
       "</tr>\n",
       "<tr>\n",
       "  <th>YearsSinceLastPromotion</th> <td>    0.1323</td> <td>    0.035</td> <td>    3.732</td> <td> 0.000</td> <td>    0.063</td> <td>    0.202</td>\n",
       "</tr>\n",
       "<tr>\n",
       "  <th>YearsWithCurrManager</th>    <td>   -0.1396</td> <td>    0.038</td> <td>   -3.642</td> <td> 0.000</td> <td>   -0.215</td> <td>   -0.064</td>\n",
       "</tr>\n",
       "</table>"
      ],
      "text/plain": [
       "<class 'statsmodels.iolib.summary.Summary'>\n",
       "\"\"\"\n",
       "                           Logit Regression Results                           \n",
       "==============================================================================\n",
       "Dep. Variable:              Attrition   No. Observations:                 1470\n",
       "Model:                          Logit   Df Residuals:                     1450\n",
       "Method:                           MLE   Df Model:                           19\n",
       "Date:                Sat, 15 Aug 2020   Pseudo R-squ.:                  0.1108\n",
       "Time:                        01:00:23   Log-Likelihood:                -577.35\n",
       "converged:                       True   LL-Null:                       -649.29\n",
       "Covariance Type:            nonrobust   LLR p-value:                 3.295e-21\n",
       "===========================================================================================\n",
       "                              coef    std err          z      P>|z|      [0.025      0.975]\n",
       "-------------------------------------------------------------------------------------------\n",
       "const                       0.0650      0.717      0.091      0.928      -1.340       1.470\n",
       "Age                        -0.0306      0.012     -2.583      0.010      -0.054      -0.007\n",
       "BusinessTravel             -0.0166      0.113     -0.146      0.884      -0.239       0.206\n",
       "Department                 -0.2421      0.141     -1.720      0.085      -0.518       0.034\n",
       "DistanceFromHome           -0.0014      0.009     -0.145      0.884      -0.020       0.017\n",
       "Education                  -0.0625      0.074     -0.847      0.397      -0.207       0.082\n",
       "EducationField             -0.0965      0.058     -1.669      0.095      -0.210       0.017\n",
       "Gender                      0.0869      0.155      0.560      0.576      -0.217       0.391\n",
       "JobLevel                   -0.0249      0.069     -0.363      0.717      -0.159       0.110\n",
       "JobRole                     0.0378      0.031      1.219      0.223      -0.023       0.099\n",
       "MaritalStatus               0.5885      0.109      5.379      0.000       0.374       0.803\n",
       "MonthlyIncome           -1.868e-06   1.66e-06     -1.128      0.259   -5.11e-06    1.38e-06\n",
       "NumCompaniesWorked          0.1184      0.032      3.729      0.000       0.056       0.181\n",
       "PercentSalaryHike           0.0117      0.020      0.576      0.565      -0.028       0.052\n",
       "StockOptionLevel           -0.0645      0.089     -0.721      0.471      -0.240       0.111\n",
       "TotalWorkingYears          -0.0593      0.021     -2.856      0.004      -0.100      -0.019\n",
       "TrainingTimesLastYear      -0.1465      0.061     -2.406      0.016      -0.266      -0.027\n",
       "YearsAtCompany              0.0136      0.032      0.428      0.669      -0.049       0.076\n",
       "YearsSinceLastPromotion     0.1323      0.035      3.732      0.000       0.063       0.202\n",
       "YearsWithCurrManager       -0.1396      0.038     -3.642      0.000      -0.215      -0.064\n",
       "===========================================================================================\n",
       "\"\"\""
      ]
     },
     "execution_count": 68,
     "metadata": {},
     "output_type": "execute_result"
    }
   ],
   "source": [
    "Result.summary()"
   ]
  },
  {
   "cell_type": "code",
   "execution_count": 77,
   "metadata": {},
   "outputs": [
    {
     "name": "stdout",
     "output_type": "stream",
     "text": [
      "-0.031176281698115076 0.03842748490600132\n"
     ]
    }
   ],
   "source": [
    "from scipy.stats import pearsonr\n",
    "stats,p=pearsonr(df.Attrition,df.MonthlyIncome)\n",
    "print(stats,p)"
   ]
  },
  {
   "cell_type": "code",
   "execution_count": null,
   "metadata": {},
   "outputs": [],
   "source": []
  }
 ],
 "metadata": {
  "kernelspec": {
   "display_name": "Python 3",
   "language": "python",
   "name": "python3"
  },
  "language_info": {
   "codemirror_mode": {
    "name": "ipython",
    "version": 3
   },
   "file_extension": ".py",
   "mimetype": "text/x-python",
   "name": "python",
   "nbconvert_exporter": "python",
   "pygments_lexer": "ipython3",
   "version": "3.6.2"
  }
 },
 "nbformat": 4,
 "nbformat_minor": 4
}
