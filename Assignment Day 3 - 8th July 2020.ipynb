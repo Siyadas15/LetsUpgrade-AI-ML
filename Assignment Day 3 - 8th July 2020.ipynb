{
 "cells": [
  {
   "cell_type": "markdown",
   "metadata": {},
   "source": [
    "## Question 1 :\n",
    "__Write a program to subtract two complex numbers in Python.__"
   ]
  },
  {
   "cell_type": "code",
   "execution_count": 3,
   "metadata": {},
   "outputs": [
    {
     "name": "stdout",
     "output_type": "stream",
     "text": [
      "(4+8j)  -  (7-9j)  =  (-3+17j)\n"
     ]
    }
   ],
   "source": [
    "a= 4+8j\n",
    "b=7-9j\n",
    "c=a-b\n",
    "print(a,' - ',b,' = ',c)"
   ]
  },
  {
   "cell_type": "markdown",
   "metadata": {},
   "source": [
    "## Question 2 :\n",
    "__Write a program to find the fourth root of a number.__"
   ]
  },
  {
   "cell_type": "code",
   "execution_count": 6,
   "metadata": {},
   "outputs": [
    {
     "name": "stdout",
     "output_type": "stream",
     "text": [
      "The fourth root of 8 is 1.681792830507429\n"
     ]
    }
   ],
   "source": [
    "num=8\n",
    "rt4num= num**(1/4)\n",
    "print('The fourth root of {} is {}'.format(num, rt4num))"
   ]
  },
  {
   "cell_type": "markdown",
   "metadata": {},
   "source": [
    "## Question 3:\n",
    "__Write a program to swap two numbers in Python with the help of a temporary variable.__"
   ]
  },
  {
   "cell_type": "code",
   "execution_count": 11,
   "metadata": {},
   "outputs": [
    {
     "name": "stdout",
     "output_type": "stream",
     "text": [
      "The original numbers are 5 and 7\n",
      "The swapped values are 7 and 5\n"
     ]
    }
   ],
   "source": [
    "num1=5\n",
    "num2=7\n",
    "print('The original numbers are {} and {}'.format(num1,num2))\n",
    "num3=num2\n",
    "num2=num1\n",
    "num1=num3\n",
    "print('The swapped values are {} and {}'.format(num1,num2))"
   ]
  },
  {
   "cell_type": "markdown",
   "metadata": {},
   "source": [
    "## Question 4:\n",
    "__Write a program to swap two numbers in Python without using a temporary variable.__"
   ]
  },
  {
   "cell_type": "code",
   "execution_count": 14,
   "metadata": {},
   "outputs": [
    {
     "name": "stdout",
     "output_type": "stream",
     "text": [
      "The original numbers are 5 and 7\n",
      "The swapped values are 7 and 5\n"
     ]
    }
   ],
   "source": [
    "num1=5\n",
    "num2=7\n",
    "print('The original numbers are {} and {}'.format(num1,num2))\n",
    "print('The swapped values are {} and {}'.format(num2,num1))"
   ]
  },
  {
   "cell_type": "markdown",
   "metadata": {},
   "source": [
    "## Question 5:\n",
    "__Write a program to convert fahrenheit to kelvin and celsius both.__"
   ]
  },
  {
   "cell_type": "code",
   "execution_count": 15,
   "metadata": {},
   "outputs": [
    {
     "name": "stdout",
     "output_type": "stream",
     "text": [
      "The temperature in Celcius is 15.555555555555557 C and in Kelvin is 288.7055555555555 K\n"
     ]
    }
   ],
   "source": [
    "Farenheit= 60\n",
    "in_Celsius= (Farenheit-32)*(5/9)\n",
    "in_Kelvin= (Farenheit-32)*(5/9)+273.15\n",
    "print('The temperature in Celcius is {} C and in Kelvin is {} K'.format(in_Celsius,in_Kelvin))"
   ]
  },
  {
   "cell_type": "markdown",
   "metadata": {},
   "source": [
    "## Question 6:\n",
    "__Write a program to demonstrate all the available data types in Python. Hint: Use type() function.__"
   ]
  },
  {
   "cell_type": "code",
   "execution_count": 26,
   "metadata": {},
   "outputs": [
    {
     "name": "stdout",
     "output_type": "stream",
     "text": [
      "Data type of Siya is <class 'str'>\n",
      "Data type of 9 is <class 'int'>\n",
      "Data type of 9.1 is <class 'float'>\n",
      "Data type of (9+2j) is <class 'complex'>\n",
      "Data type of [7, 1] is <class 'list'>\n",
      "Data type of (7, 1) is <class 'tuple'>\n",
      "Data type of {7: 1, 6: 2} is <class 'dict'>\n",
      "Data type of False is <class 'bool'>\n",
      "Data type of {1, 2, 3, 4, 5} is <class 'set'>\n"
     ]
    }
   ],
   "source": [
    "#Basic Data Types \n",
    "a= 'Siya'\n",
    "b= 9\n",
    "c=9.1\n",
    "d= 9+2j\n",
    "e= [7,1]\n",
    "f= (7,1)\n",
    "g= {7:1,6:2}\n",
    "h= False\n",
    "i= {1,2,3,4,5,5}\n",
    "print('Data type of {} is'.format(a),type(a))\n",
    "print('Data type of {} is'.format(b),type(b))\n",
    "print('Data type of {} is'.format(c),type(c))\n",
    "print('Data type of {} is'.format(d),type(d))\n",
    "print('Data type of {} is'.format(e),type(e))\n",
    "print('Data type of {} is'.format(f),type(f))\n",
    "print('Data type of {} is'.format(g),type(g))\n",
    "print('Data type of {} is'.format(h),type(h))\n",
    "print('Data type of {} is'.format(i),type(i))"
   ]
  },
  {
   "cell_type": "markdown",
   "metadata": {},
   "source": [
    "## Question 7:\n",
    "__Create a Markdown cell in jupyter and list the steps discussed in the session by Dr. Darshan\n",
    "Ingle sir to create Github profile and upload Githubs Assignment link.__"
   ]
  },
  {
   "cell_type": "markdown",
   "metadata": {},
   "source": [
    "_Step 1_ : Create a new account in github or login in the existing github account.\n",
    "\n",
    "_Step 2_ : Create a new public repository and name it as LetsUpgrade AI/ML.\n",
    "\n",
    "_Step 3_ : Open LetsUpgrade AI/ML and click on add file and then upload file.\n",
    "\n",
    "_Step 4_ : Upload the ipynb file (the assignment file saved as ipynb file) in it.\n",
    "\n",
    "___Keep in mind the following:___\n",
    "\n",
    "Upload the files/solution in the repo in day wise manner.\n",
    "\n",
    "Copy the URL of the Folder of that day and paste in the Assignment Submission Form (Google Form).\n",
    "\n",
    "Make sure you are filling correct details in the Assignment Submission Form. "
   ]
  }
 ],
 "metadata": {
  "kernelspec": {
   "display_name": "Python 3",
   "language": "python",
   "name": "python3"
  },
  "language_info": {
   "codemirror_mode": {
    "name": "ipython",
    "version": 3
   },
   "file_extension": ".py",
   "mimetype": "text/x-python",
   "name": "python",
   "nbconvert_exporter": "python",
   "pygments_lexer": "ipython3",
   "version": "3.6.2"
  }
 },
 "nbformat": 4,
 "nbformat_minor": 4
}
