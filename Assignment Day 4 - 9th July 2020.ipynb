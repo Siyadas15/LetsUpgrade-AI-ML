{
 "cells": [
  {
   "cell_type": "markdown",
   "metadata": {},
   "source": [
    "## Question 1 :\n",
    "__Research on whether addition, subtraction, multiplication, division, floor division and modulo\n",
    "operations be performed on complex numbers. Based on your study, implement a Python\n",
    "program to demonstrate these operations.__"
   ]
  },
  {
   "cell_type": "code",
   "execution_count": 6,
   "metadata": {},
   "outputs": [
    {
     "name": "stdout",
     "output_type": "stream",
     "text": [
      "Addition= (5-4j)\n",
      "Subtraction= (-1+10j)\n",
      "Multiplication= (27-5j)\n",
      "Division= (-0.25862068965517243+0.39655172413793105j)\n"
     ]
    }
   ],
   "source": [
    "x= 2+3j\n",
    "y= 3-7j\n",
    "print('Addition=',x+y)\n",
    "print('Subtraction=',x-y)\n",
    "print('Multiplication=',x*y)\n",
    "print('Division=',x/y)\n",
    "# print('Floor Division=',x//y); can't take floor of complex number\n",
    "# print('Modulo=',x%y); can't take mod of complex number"
   ]
  },
  {
   "cell_type": "markdown",
   "metadata": {},
   "source": [
    "## Question 2 :\n",
    "__Research on range() functions and its parameters. Create a markdown cell and write in your own\n",
    "words (no copy-paste from google please) what you understand about it. Implement a small\n",
    "program of your choice on the same.__"
   ]
  },
  {
   "cell_type": "markdown",
   "metadata": {},
   "source": [
    "range() function creates a sequence of integers from start to stop by step. 'Start', 'Stop' and 'Step' are the three parameters of this function. \n",
    "\n",
    "'Start' is the lower limit of the sequence of integers. Upper limit is 'Stop-1' and 'Step' denotes the number of steps by which the sequence would move forward. \n",
    "\n",
    "_Note_\n",
    "\n",
    "If only 1 parameter is given, it would be the upper limit (upper limit-1) and the lower limit would be 0 by default."
   ]
  },
  {
   "cell_type": "code",
   "execution_count": 39,
   "metadata": {},
   "outputs": [
    {
     "name": "stdout",
     "output_type": "stream",
     "text": [
      "The changed value is: 4\n",
      "The orginal value is: 5\n",
      "The changed value is: 10\n",
      "The orginal value is: 11\n",
      "The changed value is: 16\n",
      "The orginal value is: 17\n",
      "The changed value is: 22\n",
      "The orginal value is: 23\n",
      "The changed value is: 28\n",
      "The orginal value is: 29\n"
     ]
    }
   ],
   "source": [
    "x= range(2,30,3)\n",
    "for i in x:\n",
    "    x= i+2\n",
    "    if x%2==0:\n",
    "        print('The changed value is:',x)\n",
    "    else:\n",
    "        print('The orginal value is:',i)"
   ]
  },
  {
   "cell_type": "markdown",
   "metadata": {},
   "source": [
    "## Question 3:\n",
    "__Consider two numbers. Perform their subtraction and if the result of subtraction is greater than\n",
    "25, print their multiplication result else print their division result.__\n"
   ]
  },
  {
   "cell_type": "code",
   "execution_count": 25,
   "metadata": {},
   "outputs": [
    {
     "name": "stdout",
     "output_type": "stream",
     "text": [
      "Enter 1st number: 6\n",
      "Enter 2nd number: 2\n",
      "Division= 3.0\n"
     ]
    }
   ],
   "source": [
    "n1=(input('Enter 1st number: '))\n",
    "n2=(input('Enter 2nd number: '))\n",
    "n1=int(n1)\n",
    "n2=int(n2)\n",
    "n=n1-n2\n",
    "if n>25:\n",
    "    print('Multiplication=',n1*n2)\n",
    "else:\n",
    "    print('Division=',n1/n2)"
   ]
  },
  {
   "cell_type": "markdown",
   "metadata": {},
   "source": [
    "## Question 4:\n",
    "__Consider a list of 10 elements of integer values. If the number in the list is divisible by 2, print the\n",
    "result as \"square of that number minus 2\".__"
   ]
  },
  {
   "cell_type": "code",
   "execution_count": 27,
   "metadata": {},
   "outputs": [
    {
     "name": "stdout",
     "output_type": "stream",
     "text": [
      "Result: 2 , 2\n",
      "Result: 4 , 14\n",
      "Result: 6 , 34\n",
      "Result: 8 , 62\n",
      "Result: 10 , 98\n"
     ]
    }
   ],
   "source": [
    "list1= [1,2,3,4,5,6,7,8,9,10]\n",
    "for num in list1:\n",
    "    if num%2==0:\n",
    "        print('Result:',num, ',',num**2-2)"
   ]
  },
  {
   "cell_type": "markdown",
   "metadata": {},
   "source": [
    "## Question 5:\n",
    "__Consider a list of 10 elements. Print all the elements in the list which are greater than 7 when that\n",
    "number is divided 2.__"
   ]
  },
  {
   "cell_type": "code",
   "execution_count": 28,
   "metadata": {},
   "outputs": [
    {
     "name": "stdout",
     "output_type": "stream",
     "text": [
      "15\n",
      "16\n",
      "17\n",
      "18\n",
      "19\n",
      "20\n"
     ]
    }
   ],
   "source": [
    "list2= [11,12,13,14,15,16,17,18,19,20]\n",
    "for num in list2:\n",
    "    x=num/2\n",
    "    if x>7:\n",
    "        print(num)"
   ]
  }
 ],
 "metadata": {
  "kernelspec": {
   "display_name": "Python 3",
   "language": "python",
   "name": "python3"
  },
  "language_info": {
   "codemirror_mode": {
    "name": "ipython",
    "version": 3
   },
   "file_extension": ".py",
   "mimetype": "text/x-python",
   "name": "python",
   "nbconvert_exporter": "python",
   "pygments_lexer": "ipython3",
   "version": "3.6.2"
  }
 },
 "nbformat": 4,
 "nbformat_minor": 4
}
