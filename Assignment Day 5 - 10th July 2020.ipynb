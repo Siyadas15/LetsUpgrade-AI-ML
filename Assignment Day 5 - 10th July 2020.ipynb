{
 "cells": [
  {
   "cell_type": "markdown",
   "metadata": {},
   "source": [
    "## Question 1 :\n",
    "__Write a Python program to find the first 20 non-even prime natural numbers.__"
   ]
  },
  {
   "cell_type": "code",
   "execution_count": 5,
   "metadata": {},
   "outputs": [
    {
     "name": "stdout",
     "output_type": "stream",
     "text": [
      "First 20 non-even prime natural numbers are:  [3, 5, 7, 11, 13, 17, 19, 23, 29, 31, 37, 41, 43, 47, 53, 59, 61, 67, 71, 73]\n"
     ]
    }
   ],
   "source": [
    "n = 3\n",
    "prime_nos = []\n",
    "while len(prime_nos) != 20:\n",
    "    for i in range(2, n):\n",
    "        if (n % i) == 0:\n",
    "            break\n",
    "    else:   \n",
    "        prime_nos.append(n)\n",
    "    n += 1\n",
    "print('First 20 non-even prime natural numbers are: ', prime_nos)    "
   ]
  },
  {
   "cell_type": "markdown",
   "metadata": {},
   "source": [
    "## Question 2 :\n",
    "__Write a Python program to implement 15 functions of string.__"
   ]
  },
  {
   "cell_type": "code",
   "execution_count": 34,
   "metadata": {},
   "outputs": [
    {
     "name": "stdout",
     "output_type": "stream",
     "text": [
      "1. Split function: ['Siya', 'Das']\n",
      "2. Capitalize function: Siya das\n",
      "3. upper function: SIYA DAS\n",
      "4. lower function: siya das\n",
      "5. Casefold function: siya das\n",
      "6. Len function: 8\n",
      "7. find function(s): 7\n",
      "8. index function(Das): 5\n",
      "9. islower function: False\n",
      "10. isupper function: False\n",
      "11. Swapcase function: sIYA dAS\n",
      "12. Title function: Siya Das\n",
      "13. replace function: Diya Das\n",
      "14. encode function: b'Siya Das'\n",
      "15. Center function: *Siya Das*\n"
     ]
    }
   ],
   "source": [
    "String_Name= 'Siya Das'\n",
    "\n",
    "print('1. Split function:',String_Name.split())\n",
    "print('2. Capitalize function:',String_Name.capitalize())\n",
    "print('3. upper function:',String_Name.upper())\n",
    "print('4. lower function:',String_Name.lower())\n",
    "print('5. Casefold function:',String_Name.casefold())\n",
    "print('6. Len function:',len(String_Name))\n",
    "print('7. find function(s):',String_Name.find('s'))\n",
    "print('8. index function(Das):',String_Name.index('Das'))\n",
    "print('9. islower function:',String_Name.islower())\n",
    "print('10. isupper function:',String_Name.isupper())\n",
    "print('11. Swapcase function:',String_Name.swapcase())\n",
    "print('12. Title function:',String_Name.title())\n",
    "print('13. replace function:',String_Name.replace('S','D'))\n",
    "print('14. encode function:',String_Name.encode())\n",
    "print('15. Center function:',String_Name.center(10,'*'))"
   ]
  },
  {
   "cell_type": "markdown",
   "metadata": {},
   "source": [
    "## Question 3:\n",
    "__Write a Python program to check if the given string is a Palindrome or Anagram or None of them.\n",
    "Display the message accordingly to the user.__\n"
   ]
  },
  {
   "cell_type": "code",
   "execution_count": 53,
   "metadata": {},
   "outputs": [
    {
     "name": "stdout",
     "output_type": "stream",
     "text": [
      "Which word do you want checked for Palindrome?mom\n",
      "Which word do you want checked for Anagram?silent\n",
      "Which word do you want checked for Anagram?listen\n",
      "The first word entered is a palindrome\n",
      "The entered words(2nd and 3rd) is Anagram\n"
     ]
    }
   ],
   "source": [
    "string1= input('Which word do you want checked for Palindrome?')\n",
    "string2= input('Which word do you want checked for Anagram?')\n",
    "string3 =input('Which word do you want checked for Anagram?')\n",
    "if string1==string1[::-1]:\n",
    "    print('The first word entered is a palindrome')\n",
    "else:\n",
    "    print('1st word entered is not a palindrome')\n",
    "if (sorted(string2)== sorted(string3)):\n",
    "    print('The entered words(2nd and 3rd) is Anagram')\n",
    "else:\n",
    "    print('2nd and 3rd words entered are not Anagram')"
   ]
  },
  {
   "cell_type": "markdown",
   "metadata": {},
   "source": [
    "## Question 4:\n",
    "__Write a Python's user defined function that removes all the additional characters from the string\n",
    "and converts it finally to lower case using built-in lower(). eg: If the string is \"Dr. Darshan Ingle\n",
    "@AI-ML Trainer\", then the output be \"drdarshaningleaimltrainer\".__"
   ]
  },
  {
   "cell_type": "code",
   "execution_count": 64,
   "metadata": {},
   "outputs": [],
   "source": [
    "def convert_string(name):\n",
    "    for i in name.lower():\n",
    "        if i.isalpha():\n",
    "            print(i,end=\"\")\n",
    "        "
   ]
  },
  {
   "cell_type": "code",
   "execution_count": 65,
   "metadata": {},
   "outputs": [
    {
     "name": "stdout",
     "output_type": "stream",
     "text": [
      "drdarshaningleaimltrainer"
     ]
    }
   ],
   "source": [
    "convert_string('Dr. Darshan Ingle @AI-ML Trainer')"
   ]
  }
 ],
 "metadata": {
  "kernelspec": {
   "display_name": "Python 3",
   "language": "python",
   "name": "python3"
  },
  "language_info": {
   "codemirror_mode": {
    "name": "ipython",
    "version": 3
   },
   "file_extension": ".py",
   "mimetype": "text/x-python",
   "name": "python",
   "nbconvert_exporter": "python",
   "pygments_lexer": "ipython3",
   "version": "3.6.2"
  }
 },
 "nbformat": 4,
 "nbformat_minor": 4
}
